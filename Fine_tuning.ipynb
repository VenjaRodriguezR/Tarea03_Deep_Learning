{
 "cells": [
  {
   "cell_type": "code",
   "execution_count": 1,
   "metadata": {},
   "outputs": [],
   "source": [
    "## No elimine esta celda, ya que permite actualizar los archivos .py\n",
    "## sin tener que reiniciar el Kernel de Jupyter.\n",
    "%load_ext autoreload\n",
    "%autoreload 2\n",
    "import albumentations as A\n",
    "from albumentations.pytorch import ToTensorV2\n",
    "from torchvision.datasets import ImageFolder\n",
    "import numpy as np\n",
    "import torch\n",
    "from train import find_best_model, run_experiment\n",
    "from transforms import Transforms\n",
    "from utils import  set_seed, count_instances_per_class\n",
    "import os\n",
    "import warnings\n",
    "\n",
    "\n",
    "warnings.filterwarnings(\"ignore\", message = \"Palette images with Transparency expressed in bytes should be converted to RGBA images\")\n",
    "os.environ[\"PYTORCH_CUDA_ALLOC_CONF\"] = \"expandable_segments:True\"\n",
    "device = torch.device(\"cuda\" if torch.cuda.is_available() else \"cpu\")\n",
    "torch.cuda.empty_cache()\n",
    "\n",
    "set_seed()\n"
   ]
  },
  {
   "cell_type": "code",
   "execution_count": 2,
   "metadata": {},
   "outputs": [
    {
     "name": "stdout",
     "output_type": "stream",
     "text": [
      "Elementos en Entrenamiento: 10835\n",
      "Elementos en Validación: 2736\n",
      "There are 47 classes!\n",
      "\n",
      "Estadísticas de las instancias por clase:\n",
      "\n",
      "Promedio de instancias:\n",
      "============================== 230.53\n",
      "Desviación estándar:\n",
      "============================== 77.46\n",
      "Cantidad mínima de instancias:\n",
      "============================== 49\n",
      "Cantidad máxima de instancias:\n",
      "============================== 432\n"
     ]
    }
   ],
   "source": [
    "train_transforms = A.Compose(\n",
    "    [A.Resize(256, 256), A.ToFloat(), ToTensorV2()]\n",
    ")\n",
    "validation_transforms = A.Compose(\n",
    "    [A.Resize(256, 256), A.ToFloat(), ToTensorV2()]\n",
    ")\n",
    "\n",
    "\n",
    "train_data = ImageFolder(\n",
    "    \"house_plant_species/train\",\n",
    "    transform = Transforms(train_transforms),\n",
    ")\n",
    "validation_data = ImageFolder(\n",
    "    \"house_plant_species/validation\",\n",
    "    transform = Transforms(validation_transforms),\n",
    ")\n",
    "\n",
    "\n",
    "\n",
    "print(f\"Elementos en Entrenamiento: {len(train_data)}\")\n",
    "print(f\"Elementos en Validación: {len(validation_data)}\")\n",
    "print(f\"There are {len(train_data.classes)} classes!\")\n",
    "#\n",
    "\n",
    "# Llamar a las funciones\n",
    "class_counts = count_instances_per_class(train_data)\n",
    "\n",
    "# Calcular estadísticas\n",
    "class_instance_counts = np.array(list(class_counts.values()))\n",
    "mean_instances = np.mean(class_instance_counts)\n",
    "std_instances = np.std(class_instance_counts)\n",
    "min_instances = np.min(class_instance_counts)\n",
    "max_instances = np.max(class_instance_counts)\n",
    "\n",
    "# # Mostrar resultados\n",
    "# print(\"\\nInstancias por clase:\\n\")\n",
    "# for class_name, count in class_counts.items():\n",
    "#     print(f\"Clase {class_name}: {count} imágenes\\n===========================================\")\n",
    "\n",
    "print(\"\\nEstadísticas de las instancias por clase:\\n\")\n",
    "print(f\"Promedio de instancias:\\n============================== {mean_instances:.2f}\")\n",
    "print(f\"Desviación estándar:\\n============================== {std_instances:.2f}\")\n",
    "print(f\"Cantidad mínima de instancias:\\n============================== {min_instances}\")\n",
    "print(f\"Cantidad máxima de instancias:\\n============================== {max_instances}\")"
   ]
  },
  {
   "cell_type": "code",
   "execution_count": 9,
   "metadata": {},
   "outputs": [
    {
     "data": {
      "text/plain": [
       "defaultdict(int,\n",
       "            {'African Violet (Saintpaulia ionantha)': 269,\n",
       "             'Aloe Vera': 200,\n",
       "             'Anthurium (Anthurium andraeanum)': 326,\n",
       "             'Areca Palm (Dypsis lutescens)': 151,\n",
       "             'Asparagus Fern (Asparagus setaceus)': 135,\n",
       "             'Begonia (Begonia spp.)': 157,\n",
       "             'Bird of Paradise (Strelitzia reginae)': 144,\n",
       "             'Birds Nest Fern (Asplenium nidus)': 232,\n",
       "             'Boston Fern (Nephrolepis exaltata)': 245,\n",
       "             'Calathea': 188,\n",
       "             'Cast Iron Plant (Aspidistra elatior)': 212,\n",
       "             'Chinese Money Plant (Pilea peperomioides)': 305,\n",
       "             'Chinese evergreen (Aglaonema)': 411,\n",
       "             'Christmas Cactus (Schlumbergera bridgesii)': 249,\n",
       "             'Chrysanthemum': 132,\n",
       "             'Ctenanthe': 176,\n",
       "             'Daffodils (Narcissus spp.)': 292,\n",
       "             'Dracaena': 161,\n",
       "             'Dumb Cane (Dieffenbachia spp.)': 432,\n",
       "             'Elephant Ear (Alocasia spp.)': 265,\n",
       "             'English Ivy (Hedera helix)': 192,\n",
       "             'Hyacinth (Hyacinthus orientalis)': 228,\n",
       "             'Iron Cross begonia (Begonia masoniana)': 212,\n",
       "             'Jade plant (Crassula ovata)': 282,\n",
       "             'Kalanchoe': 88,\n",
       "             'Lilium (Hemerocallis)': 256,\n",
       "             'Lily of the valley (Convallaria majalis)': 328,\n",
       "             'Money Tree (Pachira aquatica)': 287,\n",
       "             'Monstera Deliciosa (Monstera deliciosa)': 245,\n",
       "             'Orchid': 167,\n",
       "             'Parlor Palm (Chamaedorea elegans)': 263,\n",
       "             'Peace lily': 308,\n",
       "             'Poinsettia (Euphorbia pulcherrima)': 172,\n",
       "             'Polka Dot Plant (Hypoestes phyllostachya)': 272,\n",
       "             'Ponytail Palm (Beaucarnea recurvata)': 157,\n",
       "             'Pothos (Ivy arum)': 158,\n",
       "             'Prayer Plant (Maranta leuconeura)': 320,\n",
       "             'Rattlesnake Plant (Calathea lancifolia)': 251,\n",
       "             'Rubber Plant (Ficus elastica)': 232,\n",
       "             'Sago Palm (Cycas revoluta)': 161,\n",
       "             'Schefflera': 230,\n",
       "             'Snake plant (Sanseviera)': 316,\n",
       "             'Tradescantia': 232,\n",
       "             'Tulip': 238,\n",
       "             'Venus Flytrap': 159,\n",
       "             'Yucca': 49,\n",
       "             'ZZ Plant (Zamioculcas zamiifolia)': 350})"
      ]
     },
     "execution_count": 9,
     "metadata": {},
     "output_type": "execute_result"
    }
   ],
   "source": [
    "class_counts"
   ]
  },
  {
   "cell_type": "markdown",
   "metadata": {},
   "source": [
    "### Best architecture is **efficientnet_b5.sw_in12k** obtained with:\n",
    "\n",
    "###### \"color_jitter\", \"horizontal_flip\", \"brightness_contrast\", \"blur\"\n",
    "###### Trivial fc_layers => Lazylinear(512) => Linear(512, num_clases)\n",
    "###### Resize to 256 x 256 images\n",
    "###### ToFloat() and not Normalize"
   ]
  },
  {
   "cell_type": "markdown",
   "metadata": {},
   "source": [
    "### **New Change**\n",
    "####         for layer in [self.backbone.conv_head, self.backbone.bn2, self.backbone.global_pool]:\n",
    "####            for param in layer.parameters():\n",
    "####                param.requires_grad = True\n",
    "####  416 x 416 input images resizing\n"
   ]
  },
  {
   "cell_type": "code",
   "execution_count": null,
   "metadata": {},
   "outputs": [
    {
     "name": "stdout",
     "output_type": "stream",
     "text": [
      "Running experiment: efficientnet_b5.sw_in12k__bn_drp_unfreeze_416\n",
      "Using device: cuda\n"
     ]
    },
    {
     "name": "stderr",
     "output_type": "stream",
     "text": [
      "\u001b[34m\u001b[1mwandb\u001b[0m: Using wandb-core as the SDK backend.  Please refer to https://wandb.me/wandb-core for more information.\n",
      "\u001b[34m\u001b[1mwandb\u001b[0m: Currently logged in as: \u001b[33mjoseflores1\u001b[0m (\u001b[33mbenjaminrromo-universidad-adolfo-ib-ez\u001b[0m). Use \u001b[1m`wandb login --relogin`\u001b[0m to force relogin\n"
     ]
    },
    {
     "data": {
      "text/html": [
       "Tracking run with wandb version 0.18.7"
      ],
      "text/plain": [
       "<IPython.core.display.HTML object>"
      ]
     },
     "metadata": {},
     "output_type": "display_data"
    },
    {
     "data": {
      "text/html": [
       "Run data is saved locally in <code>/home/josei/workspace/RN/Tarea03_Deep_Learning/wandb/run-20241129_224147-0hzdxxyf</code>"
      ],
      "text/plain": [
       "<IPython.core.display.HTML object>"
      ]
     },
     "metadata": {},
     "output_type": "display_data"
    },
    {
     "data": {
      "text/html": [
       "Syncing run <strong><a href='https://wandb.ai/benjaminrromo-universidad-adolfo-ib-ez/Tarea03_Deep_Learning/runs/0hzdxxyf' target=\"_blank\">efficientnet_b5.sw_in12k__bn_drp_unfreeze_416-experiment</a></strong> to <a href='https://wandb.ai/benjaminrromo-universidad-adolfo-ib-ez/Tarea03_Deep_Learning' target=\"_blank\">Weights & Biases</a> (<a href='https://wandb.me/developer-guide' target=\"_blank\">docs</a>)<br/>"
      ],
      "text/plain": [
       "<IPython.core.display.HTML object>"
      ]
     },
     "metadata": {},
     "output_type": "display_data"
    },
    {
     "data": {
      "text/html": [
       " View project at <a href='https://wandb.ai/benjaminrromo-universidad-adolfo-ib-ez/Tarea03_Deep_Learning' target=\"_blank\">https://wandb.ai/benjaminrromo-universidad-adolfo-ib-ez/Tarea03_Deep_Learning</a>"
      ],
      "text/plain": [
       "<IPython.core.display.HTML object>"
      ]
     },
     "metadata": {},
     "output_type": "display_data"
    },
    {
     "data": {
      "text/html": [
       " View run at <a href='https://wandb.ai/benjaminrromo-universidad-adolfo-ib-ez/Tarea03_Deep_Learning/runs/0hzdxxyf' target=\"_blank\">https://wandb.ai/benjaminrromo-universidad-adolfo-ib-ez/Tarea03_Deep_Learning/runs/0hzdxxyf</a>"
      ],
      "text/plain": [
       "<IPython.core.display.HTML object>"
      ]
     },
     "metadata": {},
     "output_type": "display_data"
    },
    {
     "name": "stderr",
     "output_type": "stream",
     "text": [
      "  2%|▏         | 1/50 [02:41<2:11:38, 161.20s/it]"
     ]
    },
    {
     "name": "stdout",
     "output_type": "stream",
     "text": [
      "Epoch: 1/50 - Time: 161.02s - Train Loss: 1.3811, Train Accuracy: 0.7659 - Validation Loss: 0.4153, Validation Accuracy: 0.9291\n",
      "Model checkpoint saved at epoch 1\n"
     ]
    },
    {
     "name": "stderr",
     "output_type": "stream",
     "text": [
      "  4%|▍         | 2/50 [05:22<2:08:53, 161.11s/it]"
     ]
    },
    {
     "name": "stdout",
     "output_type": "stream",
     "text": [
      "Epoch: 2/50 - Time: 160.86s - Train Loss: 0.4004, Train Accuracy: 0.9268 - Validation Loss: 0.2436, Validation Accuracy: 0.9452\n",
      "Model checkpoint saved at epoch 2\n"
     ]
    },
    {
     "name": "stderr",
     "output_type": "stream",
     "text": [
      "  6%|▌         | 3/50 [08:03<2:06:17, 161.22s/it]"
     ]
    },
    {
     "name": "stdout",
     "output_type": "stream",
     "text": [
      "Epoch: 3/50 - Time: 161.15s - Train Loss: 0.2406, Train Accuracy: 0.9481 - Validation Loss: 0.2033, Validation Accuracy: 0.9463\n",
      "Model checkpoint saved at epoch 3\n"
     ]
    },
    {
     "name": "stderr",
     "output_type": "stream",
     "text": [
      "  8%|▊         | 4/50 [10:46<2:04:11, 161.98s/it]"
     ]
    },
    {
     "name": "stdout",
     "output_type": "stream",
     "text": [
      "Epoch: 4/50 - Time: 162.96s - Train Loss: 0.1716, Train Accuracy: 0.9596 - Validation Loss: 0.1883, Validation Accuracy: 0.9507\n",
      "Model checkpoint saved at epoch 4\n"
     ]
    },
    {
     "name": "stderr",
     "output_type": "stream",
     "text": [
      " 10%|█         | 5/50 [13:28<2:01:29, 161.98s/it]"
     ]
    },
    {
     "name": "stdout",
     "output_type": "stream",
     "text": [
      "Epoch: 5/50 - Time: 161.98s - Train Loss: 0.1310, Train Accuracy: 0.9692 - Validation Loss: 0.1912, Validation Accuracy: 0.9485\n"
     ]
    },
    {
     "name": "stderr",
     "output_type": "stream",
     "text": [
      " 12%|█▏        | 6/50 [16:13<1:59:25, 162.84s/it]"
     ]
    },
    {
     "name": "stdout",
     "output_type": "stream",
     "text": [
      "Epoch: 6/50 - Time: 164.34s - Train Loss: 0.1078, Train Accuracy: 0.9743 - Validation Loss: 0.1831, Validation Accuracy: 0.9561\n",
      "Model checkpoint saved at epoch 6\n"
     ]
    },
    {
     "name": "stderr",
     "output_type": "stream",
     "text": [
      " 14%|█▍        | 7/50 [18:56<1:56:51, 163.05s/it]"
     ]
    },
    {
     "name": "stdout",
     "output_type": "stream",
     "text": [
      "Epoch: 7/50 - Time: 163.48s - Train Loss: 0.0890, Train Accuracy: 0.9773 - Validation Loss: 0.1900, Validation Accuracy: 0.9485\n"
     ]
    },
    {
     "name": "stderr",
     "output_type": "stream",
     "text": [
      " 16%|█▌        | 8/50 [21:41<1:54:31, 163.61s/it]"
     ]
    },
    {
     "name": "stdout",
     "output_type": "stream",
     "text": [
      "Epoch: 8/50 - Time: 164.79s - Train Loss: 0.0833, Train Accuracy: 0.9789 - Validation Loss: 0.1915, Validation Accuracy: 0.9510\n"
     ]
    },
    {
     "name": "stderr",
     "output_type": "stream",
     "text": [
      " 18%|█▊        | 9/50 [24:26<1:52:00, 163.91s/it]"
     ]
    },
    {
     "name": "stdout",
     "output_type": "stream",
     "text": [
      "Epoch: 9/50 - Time: 164.57s - Train Loss: 0.0639, Train Accuracy: 0.9848 - Validation Loss: 0.1890, Validation Accuracy: 0.9565\n"
     ]
    },
    {
     "name": "stderr",
     "output_type": "stream",
     "text": [
      " 20%|██        | 10/50 [27:10<1:49:28, 164.20s/it]"
     ]
    },
    {
     "name": "stdout",
     "output_type": "stream",
     "text": [
      "Epoch: 10/50 - Time: 164.85s - Train Loss: 0.0604, Train Accuracy: 0.9837 - Validation Loss: 0.2164, Validation Accuracy: 0.9441\n"
     ]
    },
    {
     "name": "stderr",
     "output_type": "stream",
     "text": [
      " 22%|██▏       | 11/50 [29:56<1:46:54, 164.47s/it]"
     ]
    },
    {
     "name": "stdout",
     "output_type": "stream",
     "text": [
      "Epoch: 11/50 - Time: 165.08s - Train Loss: 0.0740, Train Accuracy: 0.9794 - Validation Loss: 0.2012, Validation Accuracy: 0.9448\n"
     ]
    },
    {
     "name": "stderr",
     "output_type": "stream",
     "text": [
      " 22%|██▏       | 11/50 [32:40<1:55:49, 178.20s/it]"
     ]
    },
    {
     "name": "stdout",
     "output_type": "stream",
     "text": [
      "Epoch: 12/50 - Time: 164.22s - Train Loss: 0.0573, Train Accuracy: 0.9843 - Validation Loss: 0.2093, Validation Accuracy: 0.9470\n",
      "Early stopping triggered at epoch 6. Best Validation Loss: 0.1831\n"
     ]
    },
    {
     "name": "stderr",
     "output_type": "stream",
     "text": [
      "\n"
     ]
    },
    {
     "data": {
      "application/vnd.jupyter.widget-view+json": {
       "model_id": "935ec74c175b49e3ae837891dad0b95b",
       "version_major": 2,
       "version_minor": 0
      },
      "text/plain": [
       "VBox(children=(Label(value='0.011 MB of 0.011 MB uploaded\\r'), FloatProgress(value=1.0, max=1.0)))"
      ]
     },
     "metadata": {},
     "output_type": "display_data"
    },
    {
     "data": {
      "text/html": [
       "\n",
       "    <style>\n",
       "        .wandb-row {\n",
       "            display: flex;\n",
       "            flex-direction: row;\n",
       "            flex-wrap: wrap;\n",
       "            justify-content: flex-start;\n",
       "            width: 100%;\n",
       "        }\n",
       "        .wandb-col {\n",
       "            display: flex;\n",
       "            flex-direction: column;\n",
       "            flex-basis: 100%;\n",
       "            flex: 1;\n",
       "            padding: 10px;\n",
       "        }\n",
       "    </style>\n",
       "<div class=\"wandb-row\"><div class=\"wandb-col\"><h3>Run history:</h3><br/><table class=\"wandb\"><tr><td>elapsed_time</td><td>▁▁▁▄▃▇▅█▇██▇</td></tr><tr><td>epoch</td><td>▁▂▂▃▄▄▅▅▆▇▇█</td></tr><tr><td>train_acc</td><td>▁▆▇▇████████</td></tr><tr><td>train_loss</td><td>█▃▂▂▁▁▁▁▁▁▁▁</td></tr><tr><td>val_acc</td><td>▁▅▅▇▆█▆▇█▅▅▆</td></tr><tr><td>val_loss</td><td>█▃▂▁▁▁▁▁▁▂▂▂</td></tr></table><br/></div><div class=\"wandb-col\"><h3>Run summary:</h3><br/><table class=\"wandb\"><tr><td>elapsed_time</td><td>164.22048</td></tr><tr><td>epoch</td><td>12</td></tr><tr><td>train_acc</td><td>0.98428</td></tr><tr><td>train_loss</td><td>0.05734</td></tr><tr><td>val_acc</td><td>0.947</td></tr><tr><td>val_loss</td><td>0.20927</td></tr></table><br/></div></div>"
      ],
      "text/plain": [
       "<IPython.core.display.HTML object>"
      ]
     },
     "metadata": {},
     "output_type": "display_data"
    },
    {
     "data": {
      "text/html": [
       " View run <strong style=\"color:#cdcd00\">efficientnet_b5.sw_in12k__bn_drp_unfreeze_416-experiment</strong> at: <a href='https://wandb.ai/benjaminrromo-universidad-adolfo-ib-ez/Tarea03_Deep_Learning/runs/0hzdxxyf' target=\"_blank\">https://wandb.ai/benjaminrromo-universidad-adolfo-ib-ez/Tarea03_Deep_Learning/runs/0hzdxxyf</a><br/> View project at: <a href='https://wandb.ai/benjaminrromo-universidad-adolfo-ib-ez/Tarea03_Deep_Learning' target=\"_blank\">https://wandb.ai/benjaminrromo-universidad-adolfo-ib-ez/Tarea03_Deep_Learning</a><br/>Synced 5 W&B file(s), 0 media file(s), 0 artifact file(s) and 0 other file(s)"
      ],
      "text/plain": [
       "<IPython.core.display.HTML object>"
      ]
     },
     "metadata": {},
     "output_type": "display_data"
    },
    {
     "data": {
      "text/html": [
       "Find logs at: <code>./wandb/run-20241129_224147-0hzdxxyf/logs</code>"
      ],
      "text/plain": [
       "<IPython.core.display.HTML object>"
      ]
     },
     "metadata": {},
     "output_type": "display_data"
    },
    {
     "name": "stdout",
     "output_type": "stream",
     "text": [
      "Results to save: {'architecture': 'efficientnet_b5.sw_in12k__bn_drp_unfreeze_416', 'model_type': 'efficientnet_b5.sw_in12k', 'best_epoch': 6, 'best_val_loss': 0.1831230824369244, 'best_train_loss': 0.10781560898565594, 'max_val_acc': 0.9565058350563049, 'test_accuracy': 0.0, 'training_params': {'learning_rate': 0.0003, 'batch_size': 32, 'num_epochs': 50}}\n",
      "Resultados guardados correctamente en results/efficient_net.json\n",
      "Experimento terminado para efficientnet_b5.sw_in12k__bn_drp_unfreeze_416\n"
     ]
    }
   ],
   "source": [
    "run_experiment(\n",
    "    selected_transforms = [\"center_crop\", \"color_jitter\", \"horizontal_flip\", \"brightness_contrast\", \"noise\", \"blur\"],\n",
    "    model_name = \"efficientnet_b5.sw_in12k\",\n",
    "    base_name = \"\",\n",
    "    extra_info = \"bn_drp_unfreeze_416\", \n",
    "    model_type = \"efficientnet_b5.sw_in12k\",\n",
    "    num_classes = 47,\n",
    "    training_params = {\"learning_rate\": 0.0003, \"batch_size\": 32, \"num_epochs\": 50},\n",
    "    frozen = True,\n",
    "    result_file = \"results/efficient_net.json\",\n",
    "    normalize = False,\n",
    "    use_float = True,\n",
    "    resize_size = 416  # Aquí defines dinámicamente el tamaño de `resize`\n",
    ")"
   ]
  },
  {
   "cell_type": "markdown",
   "metadata": {},
   "source": [
    "### *New Color_Jitter*:\n",
    "\n",
    "#### Changed color_jitter to : \"color_jitter\": A.ColorJitter(brightness = 0.4, contrast = 0.4, saturation = 0.3, hue = 0.2, p = 0.7)\n",
    "#### from \"color_jitter\": A.ColorJitter(brightness = 0.2, contrast = 0.2, saturation = 0.2, hue = 0.1, p = 0.5),\n",
    "#### No center crop, added random_rotate in 15 degrees"
   ]
  },
  {
   "cell_type": "code",
   "execution_count": 2,
   "metadata": {},
   "outputs": [
    {
     "name": "stdout",
     "output_type": "stream",
     "text": [
      "Running experiment: efficientnet_b5.sw_in12k__bn_drp_unfreeze_416_cj_cp_b64_ff\n"
     ]
    },
    {
     "name": "stderr",
     "output_type": "stream",
     "text": [
      "\u001b[34m\u001b[1mwandb\u001b[0m: Using wandb-core as the SDK backend.  Please refer to https://wandb.me/wandb-core for more information.\n"
     ]
    },
    {
     "name": "stdout",
     "output_type": "stream",
     "text": [
      "Using device: cuda\n"
     ]
    },
    {
     "name": "stderr",
     "output_type": "stream",
     "text": [
      "\u001b[34m\u001b[1mwandb\u001b[0m: Currently logged in as: \u001b[33mjoseflores1\u001b[0m (\u001b[33mbenjaminrromo-universidad-adolfo-ib-ez\u001b[0m). Use \u001b[1m`wandb login --relogin`\u001b[0m to force relogin\n"
     ]
    },
    {
     "data": {
      "text/html": [
       "Tracking run with wandb version 0.18.7"
      ],
      "text/plain": [
       "<IPython.core.display.HTML object>"
      ]
     },
     "metadata": {},
     "output_type": "display_data"
    },
    {
     "data": {
      "text/html": [
       "Run data is saved locally in <code>/home/josei/workspace/RN/Tarea03_Deep_Learning/wandb/run-20241202_132047-0niao6v4</code>"
      ],
      "text/plain": [
       "<IPython.core.display.HTML object>"
      ]
     },
     "metadata": {},
     "output_type": "display_data"
    },
    {
     "data": {
      "text/html": [
       "Syncing run <strong><a href='https://wandb.ai/benjaminrromo-universidad-adolfo-ib-ez/Tarea03_Deep_Learning/runs/0niao6v4' target=\"_blank\">efficientnet_b5.sw_in12k__bn_drp_unfreeze_416_cj_cp_b64_ff-experiment</a></strong> to <a href='https://wandb.ai/benjaminrromo-universidad-adolfo-ib-ez/Tarea03_Deep_Learning' target=\"_blank\">Weights & Biases</a> (<a href='https://wandb.me/developer-guide' target=\"_blank\">docs</a>)<br/>"
      ],
      "text/plain": [
       "<IPython.core.display.HTML object>"
      ]
     },
     "metadata": {},
     "output_type": "display_data"
    },
    {
     "data": {
      "text/html": [
       " View project at <a href='https://wandb.ai/benjaminrromo-universidad-adolfo-ib-ez/Tarea03_Deep_Learning' target=\"_blank\">https://wandb.ai/benjaminrromo-universidad-adolfo-ib-ez/Tarea03_Deep_Learning</a>"
      ],
      "text/plain": [
       "<IPython.core.display.HTML object>"
      ]
     },
     "metadata": {},
     "output_type": "display_data"
    },
    {
     "data": {
      "text/html": [
       " View run at <a href='https://wandb.ai/benjaminrromo-universidad-adolfo-ib-ez/Tarea03_Deep_Learning/runs/0niao6v4' target=\"_blank\">https://wandb.ai/benjaminrromo-universidad-adolfo-ib-ez/Tarea03_Deep_Learning/runs/0niao6v4</a>"
      ],
      "text/plain": [
       "<IPython.core.display.HTML object>"
      ]
     },
     "metadata": {},
     "output_type": "display_data"
    },
    {
     "name": "stderr",
     "output_type": "stream",
     "text": [
      "  2%|▏         | 1/50 [02:44<2:14:35, 164.81s/it]"
     ]
    },
    {
     "name": "stdout",
     "output_type": "stream",
     "text": [
      "Epoch: 1/50 - Time: 164.62s - Train Loss: 2.1750, Train Accuracy: 0.5507 - Validation Loss: 0.5881, Validation Accuracy: 0.9090\n",
      "Model checkpoint saved at epoch 1\n"
     ]
    },
    {
     "name": "stderr",
     "output_type": "stream",
     "text": [
      "  4%|▍         | 2/50 [05:28<2:11:20, 164.17s/it]"
     ]
    },
    {
     "name": "stdout",
     "output_type": "stream",
     "text": [
      "Epoch: 2/50 - Time: 163.54s - Train Loss: 1.2472, Train Accuracy: 0.7237 - Validation Loss: 0.3106, Validation Accuracy: 0.9390\n",
      "Model checkpoint saved at epoch 2\n"
     ]
    },
    {
     "name": "stderr",
     "output_type": "stream",
     "text": [
      "  6%|▌         | 3/50 [08:13<2:08:45, 164.36s/it]"
     ]
    },
    {
     "name": "stdout",
     "output_type": "stream",
     "text": [
      "Epoch: 3/50 - Time: 164.40s - Train Loss: 1.0541, Train Accuracy: 0.7516 - Validation Loss: 0.2216, Validation Accuracy: 0.9499\n",
      "Model checkpoint saved at epoch 3\n",
      "Epoch: 4/50 - Time: 164.27s - Train Loss: 0.9789, Train Accuracy: 0.7616 - Validation Loss: 0.1966, Validation Accuracy: 0.9485\n"
     ]
    },
    {
     "name": "stderr",
     "output_type": "stream",
     "text": [
      "  8%|▊         | 4/50 [10:57<2:06:03, 164.43s/it]"
     ]
    },
    {
     "name": "stdout",
     "output_type": "stream",
     "text": [
      "Model checkpoint saved at epoch 4\n"
     ]
    },
    {
     "name": "stderr",
     "output_type": "stream",
     "text": [
      " 10%|█         | 5/50 [13:43<2:03:50, 165.11s/it]"
     ]
    },
    {
     "name": "stdout",
     "output_type": "stream",
     "text": [
      "Epoch: 5/50 - Time: 166.13s - Train Loss: 0.8878, Train Accuracy: 0.7801 - Validation Loss: 0.1795, Validation Accuracy: 0.9529\n",
      "Model checkpoint saved at epoch 5\n"
     ]
    },
    {
     "name": "stderr",
     "output_type": "stream",
     "text": [
      " 12%|█▏        | 6/50 [16:31<2:01:41, 165.95s/it]"
     ]
    },
    {
     "name": "stdout",
     "output_type": "stream",
     "text": [
      "Epoch: 6/50 - Time: 167.39s - Train Loss: 0.9126, Train Accuracy: 0.7718 - Validation Loss: 0.1769, Validation Accuracy: 0.9532\n",
      "Model checkpoint saved at epoch 6\n"
     ]
    },
    {
     "name": "stderr",
     "output_type": "stream",
     "text": [
      " 14%|█▍        | 7/50 [19:20<1:59:31, 166.79s/it]"
     ]
    },
    {
     "name": "stdout",
     "output_type": "stream",
     "text": [
      "Epoch: 7/50 - Time: 168.33s - Train Loss: 0.8900, Train Accuracy: 0.7798 - Validation Loss: 0.1710, Validation Accuracy: 0.9518\n",
      "Model checkpoint saved at epoch 7\n",
      "Epoch: 8/50 - Time: 166.86s - Train Loss: 0.8647, Train Accuracy: 0.7844 - Validation Loss: 0.1555, Validation Accuracy: 0.9576\n"
     ]
    },
    {
     "name": "stderr",
     "output_type": "stream",
     "text": [
      " 16%|█▌        | 8/50 [22:07<1:56:49, 166.90s/it]"
     ]
    },
    {
     "name": "stdout",
     "output_type": "stream",
     "text": [
      "Model checkpoint saved at epoch 8\n"
     ]
    },
    {
     "name": "stderr",
     "output_type": "stream",
     "text": [
      " 18%|█▊        | 9/50 [24:54<1:54:07, 167.01s/it]"
     ]
    },
    {
     "name": "stdout",
     "output_type": "stream",
     "text": [
      "Epoch: 9/50 - Time: 167.26s - Train Loss: 0.8130, Train Accuracy: 0.7954 - Validation Loss: 0.1567, Validation Accuracy: 0.9591\n"
     ]
    },
    {
     "name": "stderr",
     "output_type": "stream",
     "text": [
      " 20%|██        | 10/50 [27:41<1:51:20, 167.02s/it]"
     ]
    },
    {
     "name": "stdout",
     "output_type": "stream",
     "text": [
      "Epoch: 10/50 - Time: 167.03s - Train Loss: 0.8046, Train Accuracy: 0.7968 - Validation Loss: 0.1568, Validation Accuracy: 0.9587\n"
     ]
    },
    {
     "name": "stderr",
     "output_type": "stream",
     "text": [
      " 22%|██▏       | 11/50 [30:29<1:48:43, 167.26s/it]"
     ]
    },
    {
     "name": "stdout",
     "output_type": "stream",
     "text": [
      "Epoch: 11/50 - Time: 167.83s - Train Loss: 0.8589, Train Accuracy: 0.7841 - Validation Loss: 0.1690, Validation Accuracy: 0.9554\n"
     ]
    },
    {
     "name": "stderr",
     "output_type": "stream",
     "text": [
      " 24%|██▍       | 12/50 [33:16<1:45:53, 167.20s/it]"
     ]
    },
    {
     "name": "stdout",
     "output_type": "stream",
     "text": [
      "Epoch: 12/50 - Time: 167.06s - Train Loss: 0.8047, Train Accuracy: 0.7966 - Validation Loss: 0.1776, Validation Accuracy: 0.9525\n"
     ]
    },
    {
     "name": "stderr",
     "output_type": "stream",
     "text": [
      " 26%|██▌       | 13/50 [36:02<1:42:58, 166.99s/it]"
     ]
    },
    {
     "name": "stdout",
     "output_type": "stream",
     "text": [
      "Epoch: 13/50 - Time: 166.50s - Train Loss: 0.8631, Train Accuracy: 0.7825 - Validation Loss: 0.1787, Validation Accuracy: 0.9525\n"
     ]
    },
    {
     "name": "stderr",
     "output_type": "stream",
     "text": [
      " 28%|██▊       | 14/50 [38:50<1:40:17, 167.16s/it]"
     ]
    },
    {
     "name": "stdout",
     "output_type": "stream",
     "text": [
      "Epoch: 14/50 - Time: 167.55s - Train Loss: 0.8418, Train Accuracy: 0.7848 - Validation Loss: 0.1659, Validation Accuracy: 0.9572\n"
     ]
    },
    {
     "name": "stderr",
     "output_type": "stream",
     "text": [
      " 28%|██▊       | 14/50 [41:37<1:47:03, 178.43s/it]"
     ]
    },
    {
     "name": "stdout",
     "output_type": "stream",
     "text": [
      "Epoch: 15/50 - Time: 167.55s - Train Loss: 0.8141, Train Accuracy: 0.7924 - Validation Loss: 0.1662, Validation Accuracy: 0.9561\n",
      "Early stopping triggered at epoch 8. Best Validation Loss: 0.1555\n"
     ]
    },
    {
     "name": "stderr",
     "output_type": "stream",
     "text": [
      "\n"
     ]
    },
    {
     "data": {
      "application/vnd.jupyter.widget-view+json": {
       "model_id": "a600269d71aa490b94d1ad7f20dd3d5e",
       "version_major": 2,
       "version_minor": 0
      },
      "text/plain": [
       "VBox(children=(Label(value='0.012 MB of 0.012 MB uploaded\\r'), FloatProgress(value=1.0, max=1.0)))"
      ]
     },
     "metadata": {},
     "output_type": "display_data"
    },
    {
     "data": {
      "text/html": [
       "\n",
       "    <style>\n",
       "        .wandb-row {\n",
       "            display: flex;\n",
       "            flex-direction: row;\n",
       "            flex-wrap: wrap;\n",
       "            justify-content: flex-start;\n",
       "            width: 100%;\n",
       "        }\n",
       "        .wandb-col {\n",
       "            display: flex;\n",
       "            flex-direction: column;\n",
       "            flex-basis: 100%;\n",
       "            flex: 1;\n",
       "            padding: 10px;\n",
       "        }\n",
       "    </style>\n",
       "<div class=\"wandb-row\"><div class=\"wandb-col\"><h3>Run history:</h3><br/><table class=\"wandb\"><tr><td>elapsed_time</td><td>▃▁▂▂▅▇█▆▆▆▇▆▅▇▇</td></tr><tr><td>epoch</td><td>▁▁▂▃▃▃▄▅▅▅▆▇▇▇█</td></tr><tr><td>train_acc</td><td>▁▆▇▇█▇█████████</td></tr><tr><td>train_loss</td><td>█▃▂▂▁▂▁▁▁▁▁▁▁▁▁</td></tr><tr><td>val_acc</td><td>▁▅▇▇▇▇▇███▇▇▇██</td></tr><tr><td>val_loss</td><td>█▄▂▂▁▁▁▁▁▁▁▁▁▁▁</td></tr></table><br/></div><div class=\"wandb-col\"><h3>Run summary:</h3><br/><table class=\"wandb\"><tr><td>elapsed_time</td><td>167.55137</td></tr><tr><td>epoch</td><td>15</td></tr><tr><td>train_acc</td><td>0.79244</td></tr><tr><td>train_loss</td><td>0.81414</td></tr><tr><td>val_acc</td><td>0.95614</td></tr><tr><td>val_loss</td><td>0.16616</td></tr></table><br/></div></div>"
      ],
      "text/plain": [
       "<IPython.core.display.HTML object>"
      ]
     },
     "metadata": {},
     "output_type": "display_data"
    },
    {
     "data": {
      "text/html": [
       " View run <strong style=\"color:#cdcd00\">efficientnet_b5.sw_in12k__bn_drp_unfreeze_416_cj_cp_b64_ff-experiment</strong> at: <a href='https://wandb.ai/benjaminrromo-universidad-adolfo-ib-ez/Tarea03_Deep_Learning/runs/0niao6v4' target=\"_blank\">https://wandb.ai/benjaminrromo-universidad-adolfo-ib-ez/Tarea03_Deep_Learning/runs/0niao6v4</a><br/> View project at: <a href='https://wandb.ai/benjaminrromo-universidad-adolfo-ib-ez/Tarea03_Deep_Learning' target=\"_blank\">https://wandb.ai/benjaminrromo-universidad-adolfo-ib-ez/Tarea03_Deep_Learning</a><br/>Synced 5 W&B file(s), 0 media file(s), 0 artifact file(s) and 0 other file(s)"
      ],
      "text/plain": [
       "<IPython.core.display.HTML object>"
      ]
     },
     "metadata": {},
     "output_type": "display_data"
    },
    {
     "data": {
      "text/html": [
       "Find logs at: <code>./wandb/run-20241202_132047-0niao6v4/logs</code>"
      ],
      "text/plain": [
       "<IPython.core.display.HTML object>"
      ]
     },
     "metadata": {},
     "output_type": "display_data"
    },
    {
     "name": "stdout",
     "output_type": "stream",
     "text": [
      "Results to save: {'architecture': 'efficientnet_b5.sw_in12k__bn_drp_unfreeze_416_cj_cp_b64_ff', 'model_type': 'efficientnet_b5.sw_in12k', 'best_epoch': 8, 'best_val_loss': 0.1554810376621263, 'best_train_loss': 0.86472033255199, 'max_val_acc': 0.9590643048286438, 'test_accuracy': 0.0, 'training_params': {'learning_rate': 0.0003, 'batch_size': 64, 'num_epochs': 50}}\n",
      "Resultados guardados correctamente en results/efficient_net.json\n",
      "Experimento terminado para efficientnet_b5.sw_in12k__bn_drp_unfreeze_416_cj_cp_b64_ff\n"
     ]
    }
   ],
   "source": [
    "run_experiment(\n",
    "    selected_transforms = [\"color_jitter\", \"horizontal_flip\", \"brightness_contrast\", \"noise\", \"blur\", \"random_rotate\"],\n",
    "    model_name = \"efficientnet_b5.sw_in12k\",\n",
    "    base_name = \"\",\n",
    "    extra_info = \"bn_drp_unfreeze_416_cj_cp_b64_ff\", \n",
    "    model_type = \"efficientnet_b5.sw_in12k\",\n",
    "    num_classes = 47,\n",
    "    training_params = {\"learning_rate\": 0.0003, \"batch_size\": 64, \"num_epochs\": 50},\n",
    "    frozen = True,\n",
    "    result_file = \"results/efficient_net.json\",\n",
    "    normalize = False,\n",
    "    use_float = True,\n",
    "    resize_size = 416  # Aquí defines dinámicamente el tamaño de `resize`\n",
    ")"
   ]
  },
  {
   "cell_type": "code",
   "execution_count": 3,
   "metadata": {},
   "outputs": [
    {
     "name": "stdout",
     "output_type": "stream",
     "text": [
      "Running experiment: efficientnet_b5.sw_in12k__bn_drp_unfreeze_416_cj_cp_b84_ff\n"
     ]
    },
    {
     "name": "stderr",
     "output_type": "stream",
     "text": [
      "\u001b[34m\u001b[1mwandb\u001b[0m: Using wandb-core as the SDK backend.  Please refer to https://wandb.me/wandb-core for more information.\n"
     ]
    },
    {
     "name": "stdout",
     "output_type": "stream",
     "text": [
      "Using device: cuda\n"
     ]
    },
    {
     "name": "stderr",
     "output_type": "stream",
     "text": [
      "\u001b[34m\u001b[1mwandb\u001b[0m: Currently logged in as: \u001b[33mjoseflores1\u001b[0m (\u001b[33mbenjaminrromo-universidad-adolfo-ib-ez\u001b[0m). Use \u001b[1m`wandb login --relogin`\u001b[0m to force relogin\n"
     ]
    },
    {
     "data": {
      "text/html": [
       "Tracking run with wandb version 0.18.7"
      ],
      "text/plain": [
       "<IPython.core.display.HTML object>"
      ]
     },
     "metadata": {},
     "output_type": "display_data"
    },
    {
     "data": {
      "text/html": [
       "Run data is saved locally in <code>/home/josei/workspace/RN/Tarea03_Deep_Learning/wandb/run-20241202_154923-phvn0gkr</code>"
      ],
      "text/plain": [
       "<IPython.core.display.HTML object>"
      ]
     },
     "metadata": {},
     "output_type": "display_data"
    },
    {
     "data": {
      "text/html": [
       "Syncing run <strong><a href='https://wandb.ai/benjaminrromo-universidad-adolfo-ib-ez/Tarea03_Deep_Learning/runs/phvn0gkr' target=\"_blank\">efficientnet_b5.sw_in12k__bn_drp_unfreeze_416_cj_cp_b84_ff-experiment</a></strong> to <a href='https://wandb.ai/benjaminrromo-universidad-adolfo-ib-ez/Tarea03_Deep_Learning' target=\"_blank\">Weights & Biases</a> (<a href='https://wandb.me/developer-guide' target=\"_blank\">docs</a>)<br/>"
      ],
      "text/plain": [
       "<IPython.core.display.HTML object>"
      ]
     },
     "metadata": {},
     "output_type": "display_data"
    },
    {
     "data": {
      "text/html": [
       " View project at <a href='https://wandb.ai/benjaminrromo-universidad-adolfo-ib-ez/Tarea03_Deep_Learning' target=\"_blank\">https://wandb.ai/benjaminrromo-universidad-adolfo-ib-ez/Tarea03_Deep_Learning</a>"
      ],
      "text/plain": [
       "<IPython.core.display.HTML object>"
      ]
     },
     "metadata": {},
     "output_type": "display_data"
    },
    {
     "data": {
      "text/html": [
       " View run at <a href='https://wandb.ai/benjaminrromo-universidad-adolfo-ib-ez/Tarea03_Deep_Learning/runs/phvn0gkr' target=\"_blank\">https://wandb.ai/benjaminrromo-universidad-adolfo-ib-ez/Tarea03_Deep_Learning/runs/phvn0gkr</a>"
      ],
      "text/plain": [
       "<IPython.core.display.HTML object>"
      ]
     },
     "metadata": {},
     "output_type": "display_data"
    },
    {
     "name": "stdout",
     "output_type": "stream",
     "text": [
      "Initial max val_accuracy: 0.9591, Second best: 0.9587\n",
      "\n"
     ]
    },
    {
     "name": "stderr",
     "output_type": "stream",
     "text": [
      "  0%|          | 0/50 [00:00<?, ?it/s]"
     ]
    },
    {
     "name": "stdout",
     "output_type": "stream",
     "text": [
      "Epoch: 1/50 - Time: 180.55s - Train Loss: 2.2082, Train Accuracy: 0.5579 - Validation Loss: 0.6611, Validation Accuracy: 0.8980\n"
     ]
    },
    {
     "name": "stderr",
     "output_type": "stream",
     "text": [
      "  2%|▏         | 1/50 [03:00<2:27:36, 180.75s/it]"
     ]
    },
    {
     "name": "stdout",
     "output_type": "stream",
     "text": [
      "Model checkpoint saved at epoch 1\n"
     ]
    },
    {
     "name": "stderr",
     "output_type": "stream",
     "text": [
      "  4%|▍         | 2/50 [05:58<2:23:09, 178.95s/it]"
     ]
    },
    {
     "name": "stdout",
     "output_type": "stream",
     "text": [
      "Epoch: 2/50 - Time: 177.51s - Train Loss: 1.2701, Train Accuracy: 0.7270 - Validation Loss: 0.3482, Validation Accuracy: 0.9375\n",
      "Model checkpoint saved at epoch 2\n"
     ]
    },
    {
     "name": "stderr",
     "output_type": "stream",
     "text": [
      "  6%|▌         | 3/50 [08:58<2:20:24, 179.23s/it]"
     ]
    },
    {
     "name": "stdout",
     "output_type": "stream",
     "text": [
      "Epoch: 3/50 - Time: 179.39s - Train Loss: 1.1048, Train Accuracy: 0.7433 - Validation Loss: 0.2435, Validation Accuracy: 0.9463\n",
      "Model checkpoint saved at epoch 3\n"
     ]
    },
    {
     "name": "stderr",
     "output_type": "stream",
     "text": [
      "  8%|▊         | 4/50 [11:58<2:17:41, 179.60s/it]"
     ]
    },
    {
     "name": "stdout",
     "output_type": "stream",
     "text": [
      "Epoch: 4/50 - Time: 179.96s - Train Loss: 0.9680, Train Accuracy: 0.7675 - Validation Loss: 0.2103, Validation Accuracy: 0.9514\n",
      "Model checkpoint saved at epoch 4\n"
     ]
    },
    {
     "name": "stderr",
     "output_type": "stream",
     "text": [
      " 10%|█         | 5/50 [14:58<2:15:01, 180.03s/it]"
     ]
    },
    {
     "name": "stdout",
     "output_type": "stream",
     "text": [
      "Epoch: 5/50 - Time: 180.61s - Train Loss: 0.9073, Train Accuracy: 0.7772 - Validation Loss: 0.1854, Validation Accuracy: 0.9543\n",
      "Model checkpoint saved at epoch 5\n"
     ]
    },
    {
     "name": "stderr",
     "output_type": "stream",
     "text": [
      " 12%|█▏        | 6/50 [18:00<2:12:27, 180.62s/it]"
     ]
    },
    {
     "name": "stdout",
     "output_type": "stream",
     "text": [
      "Epoch: 6/50 - Time: 181.59s - Train Loss: 0.9261, Train Accuracy: 0.7705 - Validation Loss: 0.1794, Validation Accuracy: 0.9532\n",
      "Model checkpoint saved at epoch 6\n"
     ]
    },
    {
     "name": "stderr",
     "output_type": "stream",
     "text": [
      " 14%|█▍        | 7/50 [21:01<2:09:32, 180.76s/it]"
     ]
    },
    {
     "name": "stdout",
     "output_type": "stream",
     "text": [
      "Epoch: 7/50 - Time: 180.86s - Train Loss: 0.9369, Train Accuracy: 0.7666 - Validation Loss: 0.1723, Validation Accuracy: 0.9514\n",
      "Model checkpoint saved at epoch 7\n"
     ]
    },
    {
     "name": "stderr",
     "output_type": "stream",
     "text": [
      " 16%|█▌        | 8/50 [24:02<2:06:32, 180.77s/it]"
     ]
    },
    {
     "name": "stdout",
     "output_type": "stream",
     "text": [
      "Epoch: 8/50 - Time: 180.60s - Train Loss: 0.9025, Train Accuracy: 0.7735 - Validation Loss: 0.1701, Validation Accuracy: 0.9550\n",
      "Model checkpoint saved at epoch 8\n"
     ]
    },
    {
     "name": "stderr",
     "output_type": "stream",
     "text": [
      " 18%|█▊        | 9/50 [27:03<2:03:35, 180.87s/it]"
     ]
    },
    {
     "name": "stdout",
     "output_type": "stream",
     "text": [
      "Epoch: 9/50 - Time: 180.93s - Train Loss: 0.7651, Train Accuracy: 0.8093 - Validation Loss: 0.1655, Validation Accuracy: 0.9561\n",
      "Model checkpoint saved at epoch 9\n"
     ]
    },
    {
     "name": "stderr",
     "output_type": "stream",
     "text": [
      " 20%|██        | 10/50 [30:04<2:00:34, 180.87s/it]"
     ]
    },
    {
     "name": "stdout",
     "output_type": "stream",
     "text": [
      "Epoch: 10/50 - Time: 180.68s - Train Loss: 0.7624, Train Accuracy: 0.8105 - Validation Loss: 0.1606, Validation Accuracy: 0.9561\n",
      "Model checkpoint saved at epoch 10\n",
      "Epoch: 11/50 - Time: 180.56s - Train Loss: 0.7508, Train Accuracy: 0.8118 - Validation Loss: 0.1544, Validation Accuracy: 0.9598\n",
      "Model checkpoint saved at epoch 11\n"
     ]
    },
    {
     "name": "stderr",
     "output_type": "stream",
     "text": [
      " 22%|██▏       | 11/50 [33:05<1:57:34, 180.88s/it]"
     ]
    },
    {
     "name": "stdout",
     "output_type": "stream",
     "text": [
      "Saved checkpoint for val_accuracy > second_best at epoch 11\n"
     ]
    },
    {
     "name": "stderr",
     "output_type": "stream",
     "text": [
      " 24%|██▍       | 12/50 [36:05<1:54:26, 180.69s/it]"
     ]
    },
    {
     "name": "stdout",
     "output_type": "stream",
     "text": [
      "Epoch: 12/50 - Time: 180.24s - Train Loss: 0.7765, Train Accuracy: 0.8049 - Validation Loss: 0.1663, Validation Accuracy: 0.9547\n"
     ]
    },
    {
     "name": "stderr",
     "output_type": "stream",
     "text": [
      " 26%|██▌       | 13/50 [39:05<1:51:13, 180.37s/it]"
     ]
    },
    {
     "name": "stdout",
     "output_type": "stream",
     "text": [
      "Epoch: 13/50 - Time: 179.65s - Train Loss: 0.7884, Train Accuracy: 0.8012 - Validation Loss: 0.1552, Validation Accuracy: 0.9554\n"
     ]
    },
    {
     "name": "stderr",
     "output_type": "stream",
     "text": [
      " 28%|██▊       | 14/50 [42:06<1:48:19, 180.54s/it]"
     ]
    },
    {
     "name": "stdout",
     "output_type": "stream",
     "text": [
      "Epoch: 14/50 - Time: 180.92s - Train Loss: 0.8049, Train Accuracy: 0.7983 - Validation Loss: 0.1639, Validation Accuracy: 0.9539\n"
     ]
    },
    {
     "name": "stderr",
     "output_type": "stream",
     "text": [
      " 30%|███       | 15/50 [45:06<1:45:16, 180.47s/it]"
     ]
    },
    {
     "name": "stdout",
     "output_type": "stream",
     "text": [
      "Epoch: 15/50 - Time: 180.31s - Train Loss: 0.8017, Train Accuracy: 0.7976 - Validation Loss: 0.1549, Validation Accuracy: 0.9580\n"
     ]
    },
    {
     "name": "stderr",
     "output_type": "stream",
     "text": [
      " 32%|███▏      | 16/50 [48:07<1:42:17, 180.51s/it]"
     ]
    },
    {
     "name": "stdout",
     "output_type": "stream",
     "text": [
      "Epoch: 16/50 - Time: 180.60s - Train Loss: 0.8321, Train Accuracy: 0.7906 - Validation Loss: 0.1600, Validation Accuracy: 0.9565\n"
     ]
    },
    {
     "name": "stderr",
     "output_type": "stream",
     "text": [
      " 34%|███▍      | 17/50 [51:07<1:39:15, 180.47s/it]"
     ]
    },
    {
     "name": "stdout",
     "output_type": "stream",
     "text": [
      "Epoch: 17/50 - Time: 180.38s - Train Loss: 0.7918, Train Accuracy: 0.8008 - Validation Loss: 0.1764, Validation Accuracy: 0.9525\n"
     ]
    },
    {
     "name": "stderr",
     "output_type": "stream",
     "text": [
      " 36%|███▌      | 18/50 [54:08<1:36:17, 180.54s/it]"
     ]
    },
    {
     "name": "stdout",
     "output_type": "stream",
     "text": [
      "Epoch: 18/50 - Time: 180.69s - Train Loss: 0.7910, Train Accuracy: 0.7989 - Validation Loss: 0.1715, Validation Accuracy: 0.9532\n"
     ]
    },
    {
     "name": "stderr",
     "output_type": "stream",
     "text": [
      " 38%|███▊      | 19/50 [57:08<1:33:17, 180.55s/it]"
     ]
    },
    {
     "name": "stdout",
     "output_type": "stream",
     "text": [
      "Epoch: 19/50 - Time: 180.59s - Train Loss: 0.7865, Train Accuracy: 0.8024 - Validation Loss: 0.1664, Validation Accuracy: 0.9558\n"
     ]
    },
    {
     "name": "stderr",
     "output_type": "stream",
     "text": [
      " 40%|████      | 20/50 [1:00:10<1:30:26, 180.90s/it]"
     ]
    },
    {
     "name": "stdout",
     "output_type": "stream",
     "text": [
      "Epoch: 20/50 - Time: 181.69s - Train Loss: 0.7833, Train Accuracy: 0.8029 - Validation Loss: 0.1599, Validation Accuracy: 0.9587\n"
     ]
    },
    {
     "name": "stderr",
     "output_type": "stream",
     "text": [
      " 42%|████▏     | 21/50 [1:03:11<1:27:25, 180.88s/it]"
     ]
    },
    {
     "name": "stdout",
     "output_type": "stream",
     "text": [
      "Epoch: 21/50 - Time: 180.85s - Train Loss: 0.8502, Train Accuracy: 0.7856 - Validation Loss: 0.1865, Validation Accuracy: 0.9536\n"
     ]
    },
    {
     "name": "stderr",
     "output_type": "stream",
     "text": [
      " 44%|████▍     | 22/50 [1:06:12<1:24:28, 181.02s/it]"
     ]
    },
    {
     "name": "stdout",
     "output_type": "stream",
     "text": [
      "Epoch: 22/50 - Time: 181.15s - Train Loss: 0.8253, Train Accuracy: 0.7930 - Validation Loss: 0.1639, Validation Accuracy: 0.9594\n",
      "Saved checkpoint for val_accuracy > second_best at epoch 22\n"
     ]
    },
    {
     "name": "stderr",
     "output_type": "stream",
     "text": [
      " 46%|████▌     | 23/50 [1:09:13<1:21:26, 180.99s/it]"
     ]
    },
    {
     "name": "stdout",
     "output_type": "stream",
     "text": [
      "Epoch: 23/50 - Time: 180.92s - Train Loss: 0.7510, Train Accuracy: 0.8101 - Validation Loss: 0.1721, Validation Accuracy: 0.9580\n"
     ]
    },
    {
     "name": "stderr",
     "output_type": "stream",
     "text": [
      " 48%|████▊     | 24/50 [1:12:15<1:18:30, 181.17s/it]"
     ]
    },
    {
     "name": "stdout",
     "output_type": "stream",
     "text": [
      "Epoch: 24/50 - Time: 181.60s - Train Loss: 0.7758, Train Accuracy: 0.8034 - Validation Loss: 0.1835, Validation Accuracy: 0.9507\n"
     ]
    },
    {
     "name": "stderr",
     "output_type": "stream",
     "text": [
      " 50%|█████     | 25/50 [1:15:16<1:15:30, 181.21s/it]"
     ]
    },
    {
     "name": "stdout",
     "output_type": "stream",
     "text": [
      "Epoch: 25/50 - Time: 181.27s - Train Loss: 0.7933, Train Accuracy: 0.7985 - Validation Loss: 0.1869, Validation Accuracy: 0.9543\n"
     ]
    },
    {
     "name": "stderr",
     "output_type": "stream",
     "text": [
      " 52%|█████▏    | 26/50 [1:18:18<1:12:32, 181.36s/it]"
     ]
    },
    {
     "name": "stdout",
     "output_type": "stream",
     "text": [
      "Epoch: 26/50 - Time: 181.72s - Train Loss: 0.7249, Train Accuracy: 0.8166 - Validation Loss: 0.1788, Validation Accuracy: 0.9547\n"
     ]
    },
    {
     "name": "stderr",
     "output_type": "stream",
     "text": [
      " 54%|█████▍    | 27/50 [1:21:20<1:09:38, 181.68s/it]"
     ]
    },
    {
     "name": "stdout",
     "output_type": "stream",
     "text": [
      "Epoch: 27/50 - Time: 182.42s - Train Loss: 0.7299, Train Accuracy: 0.8154 - Validation Loss: 0.1783, Validation Accuracy: 0.9561\n"
     ]
    },
    {
     "name": "stderr",
     "output_type": "stream",
     "text": [
      " 56%|█████▌    | 28/50 [1:24:21<1:06:28, 181.29s/it]"
     ]
    },
    {
     "name": "stdout",
     "output_type": "stream",
     "text": [
      "Epoch: 28/50 - Time: 180.39s - Train Loss: 0.7663, Train Accuracy: 0.8060 - Validation Loss: 0.1892, Validation Accuracy: 0.9536\n"
     ]
    },
    {
     "name": "stderr",
     "output_type": "stream",
     "text": [
      " 58%|█████▊    | 29/50 [1:27:22<1:03:30, 181.46s/it]"
     ]
    },
    {
     "name": "stdout",
     "output_type": "stream",
     "text": [
      "Epoch: 29/50 - Time: 181.85s - Train Loss: 0.7921, Train Accuracy: 0.7997 - Validation Loss: 0.2006, Validation Accuracy: 0.9539\n"
     ]
    },
    {
     "name": "stderr",
     "output_type": "stream",
     "text": [
      " 60%|██████    | 30/50 [1:30:24<1:00:29, 181.48s/it]"
     ]
    },
    {
     "name": "stdout",
     "output_type": "stream",
     "text": [
      "Epoch: 30/50 - Time: 181.54s - Train Loss: 0.8047, Train Accuracy: 0.7964 - Validation Loss: 0.1909, Validation Accuracy: 0.9532\n"
     ]
    },
    {
     "name": "stderr",
     "output_type": "stream",
     "text": [
      " 62%|██████▏   | 31/50 [1:33:25<57:25, 181.32s/it]  "
     ]
    },
    {
     "name": "stdout",
     "output_type": "stream",
     "text": [
      "Epoch: 31/50 - Time: 180.93s - Train Loss: 0.8088, Train Accuracy: 0.7930 - Validation Loss: 0.1941, Validation Accuracy: 0.9547\n"
     ]
    },
    {
     "name": "stderr",
     "output_type": "stream",
     "text": [
      " 64%|██████▍   | 32/50 [1:36:26<54:22, 181.27s/it]"
     ]
    },
    {
     "name": "stdout",
     "output_type": "stream",
     "text": [
      "Epoch: 32/50 - Time: 181.16s - Train Loss: 0.7995, Train Accuracy: 0.7979 - Validation Loss: 0.1971, Validation Accuracy: 0.9543\n"
     ]
    },
    {
     "name": "stderr",
     "output_type": "stream",
     "text": [
      " 66%|██████▌   | 33/50 [1:39:27<51:22, 181.33s/it]"
     ]
    },
    {
     "name": "stdout",
     "output_type": "stream",
     "text": [
      "Epoch: 33/50 - Time: 181.45s - Train Loss: 0.7142, Train Accuracy: 0.8195 - Validation Loss: 0.1962, Validation Accuracy: 0.9547\n"
     ]
    },
    {
     "name": "stderr",
     "output_type": "stream",
     "text": [
      " 68%|██████▊   | 34/50 [1:42:28<48:18, 181.15s/it]"
     ]
    },
    {
     "name": "stdout",
     "output_type": "stream",
     "text": [
      "Epoch: 34/50 - Time: 180.72s - Train Loss: 0.7430, Train Accuracy: 0.8112 - Validation Loss: 0.1849, Validation Accuracy: 0.9536\n"
     ]
    },
    {
     "name": "stderr",
     "output_type": "stream",
     "text": [
      " 70%|███████   | 35/50 [1:45:28<45:09, 180.62s/it]"
     ]
    },
    {
     "name": "stdout",
     "output_type": "stream",
     "text": [
      "Epoch: 35/50 - Time: 179.39s - Train Loss: 0.7554, Train Accuracy: 0.8097 - Validation Loss: 0.1986, Validation Accuracy: 0.9532\n"
     ]
    },
    {
     "name": "stderr",
     "output_type": "stream",
     "text": [
      " 72%|███████▏  | 36/50 [1:48:31<42:20, 181.45s/it]"
     ]
    },
    {
     "name": "stdout",
     "output_type": "stream",
     "text": [
      "Epoch: 36/50 - Time: 183.37s - Train Loss: 0.7231, Train Accuracy: 0.8168 - Validation Loss: 0.1859, Validation Accuracy: 0.9583\n"
     ]
    },
    {
     "name": "stderr",
     "output_type": "stream",
     "text": [
      " 72%|███████▏  | 36/50 [1:51:32<43:22, 185.89s/it]"
     ]
    },
    {
     "name": "stdout",
     "output_type": "stream",
     "text": [
      "Epoch: 37/50 - Time: 180.55s - Train Loss: 0.7972, Train Accuracy: 0.7993 - Validation Loss: 0.1938, Validation Accuracy: 0.9554\n",
      "Early stopping triggered at epoch 22. Best Validation Loss: 0.1544\n"
     ]
    },
    {
     "name": "stderr",
     "output_type": "stream",
     "text": [
      "\n"
     ]
    },
    {
     "data": {
      "application/vnd.jupyter.widget-view+json": {
       "model_id": "db0f2a43aa144fa29d3c2cc70088dafd",
       "version_major": 2,
       "version_minor": 0
      },
      "text/plain": [
       "VBox(children=(Label(value='0.008 MB of 0.008 MB uploaded\\r'), FloatProgress(value=1.0, max=1.0)))"
      ]
     },
     "metadata": {},
     "output_type": "display_data"
    },
    {
     "data": {
      "text/html": [
       "\n",
       "    <style>\n",
       "        .wandb-row {\n",
       "            display: flex;\n",
       "            flex-direction: row;\n",
       "            flex-wrap: wrap;\n",
       "            justify-content: flex-start;\n",
       "            width: 100%;\n",
       "        }\n",
       "        .wandb-col {\n",
       "            display: flex;\n",
       "            flex-direction: column;\n",
       "            flex-basis: 100%;\n",
       "            flex: 1;\n",
       "            padding: 10px;\n",
       "        }\n",
       "    </style>\n",
       "<div class=\"wandb-row\"><div class=\"wandb-col\"><h3>Run history:</h3><br/><table class=\"wandb\"><tr><td>elapsed_time</td><td>▅▁▃▄▅▆▅▅▅▅▅▄▄▅▄▅▄▅▅▆▅▅▅▆▅▆▇▄▆▆▅▅▆▅▃█▅</td></tr><tr><td>epoch</td><td>▁▁▁▂▂▂▂▂▃▃▃▃▃▄▄▄▄▄▅▅▅▅▅▅▆▆▆▆▆▇▇▇▇▇███</td></tr><tr><td>train_acc</td><td>▁▆▆▇▇▇▇▇█████▇▇▇▇▇██▇▇██▇███▇▇▇▇████▇</td></tr><tr><td>train_loss</td><td>█▄▃▂▂▂▂▂▁▁▁▁▁▁▁▂▁▁▁▁▂▂▁▁▁▁▁▁▁▁▁▁▁▁▁▁▁</td></tr><tr><td>val_acc</td><td>▁▅▆▇▇▇▇▇███▇█▇██▇▇██▇██▇▇▇█▇▇▇▇▇▇▇▇██</td></tr><tr><td>val_loss</td><td>█▄▂▂▁▁▁▁▁▁▁▁▁▁▁▁▁▁▁▁▁▁▁▁▁▁▁▁▂▂▂▂▂▁▂▁▂</td></tr></table><br/></div><div class=\"wandb-col\"><h3>Run summary:</h3><br/><table class=\"wandb\"><tr><td>elapsed_time</td><td>180.54506</td></tr><tr><td>epoch</td><td>37</td></tr><tr><td>train_acc</td><td>0.79929</td></tr><tr><td>train_loss</td><td>0.79723</td></tr><tr><td>val_acc</td><td>0.95541</td></tr><tr><td>val_loss</td><td>0.19384</td></tr></table><br/></div></div>"
      ],
      "text/plain": [
       "<IPython.core.display.HTML object>"
      ]
     },
     "metadata": {},
     "output_type": "display_data"
    },
    {
     "data": {
      "text/html": [
       " View run <strong style=\"color:#cdcd00\">efficientnet_b5.sw_in12k__bn_drp_unfreeze_416_cj_cp_b84_ff-experiment</strong> at: <a href='https://wandb.ai/benjaminrromo-universidad-adolfo-ib-ez/Tarea03_Deep_Learning/runs/phvn0gkr' target=\"_blank\">https://wandb.ai/benjaminrromo-universidad-adolfo-ib-ez/Tarea03_Deep_Learning/runs/phvn0gkr</a><br/> View project at: <a href='https://wandb.ai/benjaminrromo-universidad-adolfo-ib-ez/Tarea03_Deep_Learning' target=\"_blank\">https://wandb.ai/benjaminrromo-universidad-adolfo-ib-ez/Tarea03_Deep_Learning</a><br/>Synced 5 W&B file(s), 0 media file(s), 0 artifact file(s) and 0 other file(s)"
      ],
      "text/plain": [
       "<IPython.core.display.HTML object>"
      ]
     },
     "metadata": {},
     "output_type": "display_data"
    },
    {
     "data": {
      "text/html": [
       "Find logs at: <code>./wandb/run-20241202_154923-phvn0gkr/logs</code>"
      ],
      "text/plain": [
       "<IPython.core.display.HTML object>"
      ]
     },
     "metadata": {},
     "output_type": "display_data"
    },
    {
     "name": "stdout",
     "output_type": "stream",
     "text": [
      "Results to save: {'architecture': 'efficientnet_b5.sw_in12k__bn_drp_unfreeze_416_cj_cp_b84_ff', 'model_type': 'efficientnet_b5.sw_in12k', 'best_epoch': 11, 'best_val_loss': 0.15440661564582225, 'best_train_loss': 0.7508407854475081, 'max_val_acc': 0.9597952961921692, 'test_accuracy': 0.0, 'training_params': {'learning_rate': 0.0003, 'batch_size': 84, 'num_epochs': 50}}\n",
      "Resultados guardados correctamente en results/efficient_net.json\n",
      "Experimento terminado para efficientnet_b5.sw_in12k__bn_drp_unfreeze_416_cj_cp_b84_ff\n"
     ]
    }
   ],
   "source": [
    "run_experiment(\n",
    "    selected_transforms = [\"color_jitter\", \"horizontal_flip\", \"brightness_contrast\", \"noise\", \"blur\", \"random_rotate\"],\n",
    "    model_name = \"efficientnet_b5.sw_in12k\",\n",
    "    base_name = \"\",\n",
    "    extra_info = \"bn_drp_unfreeze_416_cj_cp_b84_ff\", \n",
    "    model_type = \"efficientnet_b5.sw_in12k\",\n",
    "    num_classes = 47,\n",
    "    training_params = {\"learning_rate\": 0.0003, \"batch_size\": 84, \"num_epochs\": 50},\n",
    "    frozen = True,\n",
    "    result_file = \"results/efficient_net.json\",\n",
    "    normalize = False,\n",
    "    use_float = True,\n",
    "    resize_size = 416  # Aquí defines dinámicamente el tamaño de `resize`\n",
    ")"
   ]
  },
  {
   "cell_type": "code",
   "execution_count": 2,
   "metadata": {},
   "outputs": [
    {
     "name": "stdout",
     "output_type": "stream",
     "text": [
      "Running experiment: efficientnet_b5.sw_in12k__bn_drp_unfreeze_416_cj_cp_b88_ff\n"
     ]
    },
    {
     "name": "stderr",
     "output_type": "stream",
     "text": [
      "\u001b[34m\u001b[1mwandb\u001b[0m: Using wandb-core as the SDK backend.  Please refer to https://wandb.me/wandb-core for more information.\n"
     ]
    },
    {
     "name": "stdout",
     "output_type": "stream",
     "text": [
      "Using device: cuda\n"
     ]
    },
    {
     "name": "stderr",
     "output_type": "stream",
     "text": [
      "\u001b[34m\u001b[1mwandb\u001b[0m: Currently logged in as: \u001b[33mjoseflores1\u001b[0m (\u001b[33mbenjaminrromo-universidad-adolfo-ib-ez\u001b[0m). Use \u001b[1m`wandb login --relogin`\u001b[0m to force relogin\n"
     ]
    },
    {
     "data": {
      "text/html": [
       "Tracking run with wandb version 0.18.7"
      ],
      "text/plain": [
       "<IPython.core.display.HTML object>"
      ]
     },
     "metadata": {},
     "output_type": "display_data"
    },
    {
     "data": {
      "text/html": [
       "Run data is saved locally in <code>/home/josei/workspace/RN/Tarea03_Deep_Learning/wandb/run-20241202_174334-bvej12ni</code>"
      ],
      "text/plain": [
       "<IPython.core.display.HTML object>"
      ]
     },
     "metadata": {},
     "output_type": "display_data"
    },
    {
     "data": {
      "text/html": [
       "Syncing run <strong><a href='https://wandb.ai/benjaminrromo-universidad-adolfo-ib-ez/Tarea03_Deep_Learning/runs/bvej12ni' target=\"_blank\">efficientnet_b5.sw_in12k__bn_drp_unfreeze_416_cj_cp_b88_ff-experiment</a></strong> to <a href='https://wandb.ai/benjaminrromo-universidad-adolfo-ib-ez/Tarea03_Deep_Learning' target=\"_blank\">Weights & Biases</a> (<a href='https://wandb.me/developer-guide' target=\"_blank\">docs</a>)<br/>"
      ],
      "text/plain": [
       "<IPython.core.display.HTML object>"
      ]
     },
     "metadata": {},
     "output_type": "display_data"
    },
    {
     "data": {
      "text/html": [
       " View project at <a href='https://wandb.ai/benjaminrromo-universidad-adolfo-ib-ez/Tarea03_Deep_Learning' target=\"_blank\">https://wandb.ai/benjaminrromo-universidad-adolfo-ib-ez/Tarea03_Deep_Learning</a>"
      ],
      "text/plain": [
       "<IPython.core.display.HTML object>"
      ]
     },
     "metadata": {},
     "output_type": "display_data"
    },
    {
     "data": {
      "text/html": [
       " View run at <a href='https://wandb.ai/benjaminrromo-universidad-adolfo-ib-ez/Tarea03_Deep_Learning/runs/bvej12ni' target=\"_blank\">https://wandb.ai/benjaminrromo-universidad-adolfo-ib-ez/Tarea03_Deep_Learning/runs/bvej12ni</a>"
      ],
      "text/plain": [
       "<IPython.core.display.HTML object>"
      ]
     },
     "metadata": {},
     "output_type": "display_data"
    },
    {
     "name": "stdout",
     "output_type": "stream",
     "text": [
      "Initial max val_accuracy: 0.9598, Second best: 0.9591\n",
      "\n"
     ]
    },
    {
     "name": "stderr",
     "output_type": "stream",
     "text": [
      "  2%|▏         | 1/50 [03:00<2:27:30, 180.62s/it]"
     ]
    },
    {
     "name": "stdout",
     "output_type": "stream",
     "text": [
      "Epoch: 1/50 - Time: 180.43s - Train Loss: 2.2331, Train Accuracy: 0.5461 - Validation Loss: 0.6733, Validation Accuracy: 0.8991\n",
      "Model checkpoint saved at epoch 1\n"
     ]
    },
    {
     "name": "stderr",
     "output_type": "stream",
     "text": [
      "  4%|▍         | 2/50 [05:59<2:23:50, 179.81s/it]"
     ]
    },
    {
     "name": "stdout",
     "output_type": "stream",
     "text": [
      "Epoch: 2/50 - Time: 179.06s - Train Loss: 1.2692, Train Accuracy: 0.7293 - Validation Loss: 0.3627, Validation Accuracy: 0.9415\n",
      "Model checkpoint saved at epoch 2\n"
     ]
    },
    {
     "name": "stderr",
     "output_type": "stream",
     "text": [
      "  6%|▌         | 3/50 [09:00<2:21:06, 180.14s/it]"
     ]
    },
    {
     "name": "stdout",
     "output_type": "stream",
     "text": [
      "Epoch: 3/50 - Time: 180.35s - Train Loss: 1.0252, Train Accuracy: 0.7656 - Validation Loss: 0.2421, Validation Accuracy: 0.9481\n",
      "Model checkpoint saved at epoch 3\n"
     ]
    },
    {
     "name": "stderr",
     "output_type": "stream",
     "text": [
      "  8%|▊         | 4/50 [12:02<2:18:43, 180.94s/it]"
     ]
    },
    {
     "name": "stdout",
     "output_type": "stream",
     "text": [
      "Epoch: 4/50 - Time: 181.98s - Train Loss: 1.0458, Train Accuracy: 0.7503 - Validation Loss: 0.2041, Validation Accuracy: 0.9503\n",
      "Model checkpoint saved at epoch 4\n"
     ]
    },
    {
     "name": "stderr",
     "output_type": "stream",
     "text": [
      " 10%|█         | 5/50 [15:04<2:15:54, 181.20s/it]"
     ]
    },
    {
     "name": "stdout",
     "output_type": "stream",
     "text": [
      "Epoch: 5/50 - Time: 181.48s - Train Loss: 0.9514, Train Accuracy: 0.7691 - Validation Loss: 0.1961, Validation Accuracy: 0.9481\n",
      "Model checkpoint saved at epoch 5\n"
     ]
    },
    {
     "name": "stderr",
     "output_type": "stream",
     "text": [
      " 12%|█▏        | 6/50 [18:06<2:13:14, 181.69s/it]"
     ]
    },
    {
     "name": "stdout",
     "output_type": "stream",
     "text": [
      "Epoch: 6/50 - Time: 182.45s - Train Loss: 0.8904, Train Accuracy: 0.7809 - Validation Loss: 0.1702, Validation Accuracy: 0.9539\n",
      "Model checkpoint saved at epoch 6\n"
     ]
    },
    {
     "name": "stderr",
     "output_type": "stream",
     "text": [
      " 14%|█▍        | 7/50 [21:08<2:10:14, 181.72s/it]"
     ]
    },
    {
     "name": "stdout",
     "output_type": "stream",
     "text": [
      "Epoch: 7/50 - Time: 181.61s - Train Loss: 0.8545, Train Accuracy: 0.7885 - Validation Loss: 0.1652, Validation Accuracy: 0.9536\n",
      "Model checkpoint saved at epoch 7\n"
     ]
    },
    {
     "name": "stderr",
     "output_type": "stream",
     "text": [
      " 16%|█▌        | 8/50 [24:09<2:07:06, 181.59s/it]"
     ]
    },
    {
     "name": "stdout",
     "output_type": "stream",
     "text": [
      "Epoch: 8/50 - Time: 181.11s - Train Loss: 0.8671, Train Accuracy: 0.7845 - Validation Loss: 0.1575, Validation Accuracy: 0.9558\n",
      "Model checkpoint saved at epoch 8\n"
     ]
    },
    {
     "name": "stderr",
     "output_type": "stream",
     "text": [
      " 18%|█▊        | 9/50 [27:12<2:04:11, 181.74s/it]"
     ]
    },
    {
     "name": "stdout",
     "output_type": "stream",
     "text": [
      "Epoch: 9/50 - Time: 182.09s - Train Loss: 0.8255, Train Accuracy: 0.7940 - Validation Loss: 0.1602, Validation Accuracy: 0.9591\n"
     ]
    },
    {
     "name": "stderr",
     "output_type": "stream",
     "text": [
      " 20%|██        | 10/50 [30:14<2:01:14, 181.87s/it]"
     ]
    },
    {
     "name": "stdout",
     "output_type": "stream",
     "text": [
      "Epoch: 10/50 - Time: 181.96s - Train Loss: 0.7934, Train Accuracy: 0.8021 - Validation Loss: 0.1586, Validation Accuracy: 0.9594\n",
      "Saved checkpoint for val_accuracy > second_best at epoch 10\n",
      "Epoch: 11/50 - Time: 180.52s - Train Loss: 0.7795, Train Accuracy: 0.8040 - Validation Loss: 0.1471, Validation Accuracy: 0.9605\n",
      "Model checkpoint saved at epoch 11\n"
     ]
    },
    {
     "name": "stderr",
     "output_type": "stream",
     "text": [
      " 22%|██▏       | 11/50 [33:15<1:58:00, 181.56s/it]"
     ]
    },
    {
     "name": "stdout",
     "output_type": "stream",
     "text": [
      "Saved checkpoint for val_accuracy > second_best at epoch 11\n"
     ]
    },
    {
     "name": "stderr",
     "output_type": "stream",
     "text": [
      " 24%|██▍       | 12/50 [36:16<1:54:56, 181.49s/it]"
     ]
    },
    {
     "name": "stdout",
     "output_type": "stream",
     "text": [
      "Epoch: 12/50 - Time: 181.13s - Train Loss: 0.8335, Train Accuracy: 0.7908 - Validation Loss: 0.1475, Validation Accuracy: 0.9609\n",
      "Saved checkpoint for val_accuracy > second_best at epoch 12\n"
     ]
    },
    {
     "name": "stderr",
     "output_type": "stream",
     "text": [
      " 26%|██▌       | 13/50 [39:16<1:51:40, 181.10s/it]"
     ]
    },
    {
     "name": "stdout",
     "output_type": "stream",
     "text": [
      "Epoch: 13/50 - Time: 180.20s - Train Loss: 0.8225, Train Accuracy: 0.7936 - Validation Loss: 0.1556, Validation Accuracy: 0.9576\n"
     ]
    },
    {
     "name": "stderr",
     "output_type": "stream",
     "text": [
      " 28%|██▊       | 14/50 [42:17<1:48:35, 180.99s/it]"
     ]
    },
    {
     "name": "stdout",
     "output_type": "stream",
     "text": [
      "Epoch: 14/50 - Time: 180.73s - Train Loss: 0.8027, Train Accuracy: 0.7961 - Validation Loss: 0.1573, Validation Accuracy: 0.9569\n"
     ]
    },
    {
     "name": "stderr",
     "output_type": "stream",
     "text": [
      " 30%|███       | 15/50 [45:18<1:45:32, 180.93s/it]"
     ]
    },
    {
     "name": "stdout",
     "output_type": "stream",
     "text": [
      "Epoch: 15/50 - Time: 180.81s - Train Loss: 0.7872, Train Accuracy: 0.8008 - Validation Loss: 0.1574, Validation Accuracy: 0.9547\n"
     ]
    },
    {
     "name": "stderr",
     "output_type": "stream",
     "text": [
      " 32%|███▏      | 16/50 [48:18<1:42:26, 180.77s/it]"
     ]
    },
    {
     "name": "stdout",
     "output_type": "stream",
     "text": [
      "Epoch: 16/50 - Time: 180.38s - Train Loss: 0.8176, Train Accuracy: 0.7949 - Validation Loss: 0.1614, Validation Accuracy: 0.9583\n"
     ]
    },
    {
     "name": "stderr",
     "output_type": "stream",
     "text": [
      " 34%|███▍      | 17/50 [51:18<1:39:17, 180.53s/it]"
     ]
    },
    {
     "name": "stdout",
     "output_type": "stream",
     "text": [
      "Epoch: 17/50 - Time: 179.98s - Train Loss: 0.7843, Train Accuracy: 0.8020 - Validation Loss: 0.1625, Validation Accuracy: 0.9558\n"
     ]
    },
    {
     "name": "stderr",
     "output_type": "stream",
     "text": [
      " 36%|███▌      | 18/50 [54:19<1:36:22, 180.69s/it]"
     ]
    },
    {
     "name": "stdout",
     "output_type": "stream",
     "text": [
      "Epoch: 18/50 - Time: 181.06s - Train Loss: 0.7645, Train Accuracy: 0.8064 - Validation Loss: 0.1657, Validation Accuracy: 0.9569\n"
     ]
    },
    {
     "name": "stderr",
     "output_type": "stream",
     "text": [
      " 38%|███▊      | 19/50 [57:20<1:33:22, 180.72s/it]"
     ]
    },
    {
     "name": "stdout",
     "output_type": "stream",
     "text": [
      "Epoch: 19/50 - Time: 180.80s - Train Loss: 0.7856, Train Accuracy: 0.8028 - Validation Loss: 0.1626, Validation Accuracy: 0.9580\n"
     ]
    },
    {
     "name": "stderr",
     "output_type": "stream",
     "text": [
      " 40%|████      | 20/50 [1:00:20<1:30:16, 180.54s/it]"
     ]
    },
    {
     "name": "stdout",
     "output_type": "stream",
     "text": [
      "Epoch: 20/50 - Time: 180.12s - Train Loss: 0.7934, Train Accuracy: 0.7988 - Validation Loss: 0.1880, Validation Accuracy: 0.9518\n"
     ]
    },
    {
     "name": "stderr",
     "output_type": "stream",
     "text": [
      " 42%|████▏     | 21/50 [1:03:22<1:27:25, 180.88s/it]"
     ]
    },
    {
     "name": "stdout",
     "output_type": "stream",
     "text": [
      "Epoch: 21/50 - Time: 181.67s - Train Loss: 0.7960, Train Accuracy: 0.7998 - Validation Loss: 0.1716, Validation Accuracy: 0.9558\n"
     ]
    },
    {
     "name": "stderr",
     "output_type": "stream",
     "text": [
      " 44%|████▍     | 22/50 [1:06:22<1:24:19, 180.70s/it]"
     ]
    },
    {
     "name": "stdout",
     "output_type": "stream",
     "text": [
      "Epoch: 22/50 - Time: 180.28s - Train Loss: 0.8130, Train Accuracy: 0.7944 - Validation Loss: 0.1768, Validation Accuracy: 0.9561\n"
     ]
    },
    {
     "name": "stderr",
     "output_type": "stream",
     "text": [
      " 46%|████▌     | 23/50 [1:09:22<1:21:17, 180.66s/it]"
     ]
    },
    {
     "name": "stdout",
     "output_type": "stream",
     "text": [
      "Epoch: 23/50 - Time: 180.55s - Train Loss: 0.8012, Train Accuracy: 0.7978 - Validation Loss: 0.1836, Validation Accuracy: 0.9565\n"
     ]
    },
    {
     "name": "stderr",
     "output_type": "stream",
     "text": [
      " 48%|████▊     | 24/50 [1:12:24<1:18:22, 180.87s/it]"
     ]
    },
    {
     "name": "stdout",
     "output_type": "stream",
     "text": [
      "Epoch: 24/50 - Time: 181.37s - Train Loss: 0.8167, Train Accuracy: 0.7946 - Validation Loss: 0.1680, Validation Accuracy: 0.9602\n"
     ]
    },
    {
     "name": "stderr",
     "output_type": "stream",
     "text": [
      " 50%|█████     | 25/50 [1:15:24<1:15:13, 180.53s/it]"
     ]
    },
    {
     "name": "stdout",
     "output_type": "stream",
     "text": [
      "Epoch: 25/50 - Time: 179.74s - Train Loss: 0.8168, Train Accuracy: 0.7938 - Validation Loss: 0.1788, Validation Accuracy: 0.9525\n"
     ]
    },
    {
     "name": "stderr",
     "output_type": "stream",
     "text": [
      " 52%|█████▏    | 26/50 [1:18:20<1:11:45, 179.38s/it]"
     ]
    },
    {
     "name": "stdout",
     "output_type": "stream",
     "text": [
      "Epoch: 26/50 - Time: 176.70s - Train Loss: 0.7967, Train Accuracy: 0.7975 - Validation Loss: 0.1948, Validation Accuracy: 0.9529\n"
     ]
    },
    {
     "name": "stderr",
     "output_type": "stream",
     "text": [
      " 52%|█████▏    | 26/50 [1:21:21<1:15:06, 187.77s/it]"
     ]
    },
    {
     "name": "stdout",
     "output_type": "stream",
     "text": [
      "Epoch: 27/50 - Time: 181.14s - Train Loss: 0.7757, Train Accuracy: 0.8016 - Validation Loss: 0.1875, Validation Accuracy: 0.9496\n",
      "Early stopping triggered at epoch 12. Best Validation Loss: 0.1471\n"
     ]
    },
    {
     "name": "stderr",
     "output_type": "stream",
     "text": [
      "\n"
     ]
    },
    {
     "data": {
      "text/html": [
       "\n",
       "    <style>\n",
       "        .wandb-row {\n",
       "            display: flex;\n",
       "            flex-direction: row;\n",
       "            flex-wrap: wrap;\n",
       "            justify-content: flex-start;\n",
       "            width: 100%;\n",
       "        }\n",
       "        .wandb-col {\n",
       "            display: flex;\n",
       "            flex-direction: column;\n",
       "            flex-basis: 100%;\n",
       "            flex: 1;\n",
       "            padding: 10px;\n",
       "        }\n",
       "    </style>\n",
       "<div class=\"wandb-row\"><div class=\"wandb-col\"><h3>Run history:</h3><br/><table class=\"wandb\"><tr><td>elapsed_time</td><td>▆▄▅▇▇█▇▆█▇▆▆▅▆▆▅▅▆▆▅▇▅▆▇▅▁▆</td></tr><tr><td>epoch</td><td>▁▁▂▂▂▂▃▃▃▃▄▄▄▅▅▅▅▆▆▆▆▇▇▇▇██</td></tr><tr><td>train_acc</td><td>▁▆▇▆▇▇█▇███████████████████</td></tr><tr><td>train_loss</td><td>█▃▂▂▂▂▁▁▁▁▁▁▁▁▁▁▁▁▁▁▁▁▁▁▁▁▁</td></tr><tr><td>val_acc</td><td>▁▆▇▇▇▇▇▇██████▇█▇██▇▇▇██▇▇▇</td></tr><tr><td>val_loss</td><td>█▄▂▂▂▁▁▁▁▁▁▁▁▁▁▁▁▁▁▂▁▁▁▁▁▂▂</td></tr></table><br/></div><div class=\"wandb-col\"><h3>Run summary:</h3><br/><table class=\"wandb\"><tr><td>elapsed_time</td><td>181.13906</td></tr><tr><td>epoch</td><td>27</td></tr><tr><td>train_acc</td><td>0.80164</td></tr><tr><td>train_loss</td><td>0.77572</td></tr><tr><td>val_acc</td><td>0.94956</td></tr><tr><td>val_loss</td><td>0.18748</td></tr></table><br/></div></div>"
      ],
      "text/plain": [
       "<IPython.core.display.HTML object>"
      ]
     },
     "metadata": {},
     "output_type": "display_data"
    },
    {
     "data": {
      "text/html": [
       " View run <strong style=\"color:#cdcd00\">efficientnet_b5.sw_in12k__bn_drp_unfreeze_416_cj_cp_b88_ff-experiment</strong> at: <a href='https://wandb.ai/benjaminrromo-universidad-adolfo-ib-ez/Tarea03_Deep_Learning/runs/bvej12ni' target=\"_blank\">https://wandb.ai/benjaminrromo-universidad-adolfo-ib-ez/Tarea03_Deep_Learning/runs/bvej12ni</a><br/> View project at: <a href='https://wandb.ai/benjaminrromo-universidad-adolfo-ib-ez/Tarea03_Deep_Learning' target=\"_blank\">https://wandb.ai/benjaminrromo-universidad-adolfo-ib-ez/Tarea03_Deep_Learning</a><br/>Synced 5 W&B file(s), 0 media file(s), 0 artifact file(s) and 0 other file(s)"
      ],
      "text/plain": [
       "<IPython.core.display.HTML object>"
      ]
     },
     "metadata": {},
     "output_type": "display_data"
    },
    {
     "data": {
      "text/html": [
       "Find logs at: <code>./wandb/run-20241202_174334-bvej12ni/logs</code>"
      ],
      "text/plain": [
       "<IPython.core.display.HTML object>"
      ]
     },
     "metadata": {},
     "output_type": "display_data"
    },
    {
     "name": "stdout",
     "output_type": "stream",
     "text": [
      "Results to save: {'architecture': 'efficientnet_b5.sw_in12k__bn_drp_unfreeze_416_cj_cp_b88_ff', 'model_type': 'efficientnet_b5.sw_in12k', 'best_epoch': 11, 'best_val_loss': 0.14713793000555597, 'best_train_loss': 0.7795222195667949, 'max_val_acc': 0.9608917832374573, 'test_accuracy': 0.0, 'training_params': {'learning_rate': 0.0003, 'batch_size': 88, 'num_epochs': 50}}\n",
      "Resultados guardados correctamente en results/efficient_net.json\n",
      "Experimento terminado para efficientnet_b5.sw_in12k__bn_drp_unfreeze_416_cj_cp_b88_ff\n"
     ]
    }
   ],
   "source": [
    "run_experiment(\n",
    "    selected_transforms = [\"color_jitter\", \"horizontal_flip\", \"brightness_contrast\", \"noise\", \"blur\", \"random_rotate\"],\n",
    "    model_name = \"efficientnet_b5.sw_in12k\",\n",
    "    base_name = \"\",\n",
    "    extra_info = \"bn_drp_unfreeze_416_cj_cp_b88_ff\", \n",
    "    model_type = \"efficientnet_b5.sw_in12k\",\n",
    "    num_classes = 47,\n",
    "    training_params = {\"learning_rate\": 0.0003, \"batch_size\": 88, \"num_epochs\": 50},\n",
    "    frozen = True,\n",
    "    result_file = \"results/efficient_net.json\",\n",
    "    normalize = False,\n",
    "    use_float = True,\n",
    "    resize_size = 416  # Aquí defines dinámicamente el tamaño de `resize`\n",
    ")"
   ]
  },
  {
   "cell_type": "code",
   "execution_count": 3,
   "metadata": {},
   "outputs": [
    {
     "name": "stdout",
     "output_type": "stream",
     "text": [
      "El mejor modelo según max_val_acc es efficientnet_b5.sw_in12k__bn_drp_unfreeze_416_cj_cp_b88_ff con max_val_acc de 0.9608917832374573\n",
      "El mejor modelo según best_val_loss es efficientnet_b5.sw_in12k__bn_drp_unfreeze_416_cj_cp_b88_ff con best_val_loss de 0.14713793000555597\n"
     ]
    }
   ],
   "source": [
    "file_path = \"results/efficient_net.json\"\n",
    "criteria = [\"max_val_acc\", \"best_val_loss\"]\n",
    " \n",
    "for crit in criteria:\n",
    "    print(f\"El mejor modelo según {crit} es {find_best_model(file_path, crit)[\"architecture\"]} con {crit} de {find_best_model(file_path, crit)[f\"{crit}\"]}\")"
   ]
  }
 ],
 "metadata": {
  "kernelspec": {
   "display_name": "RNENV",
   "language": "python",
   "name": "rnenv"
  },
  "language_info": {
   "codemirror_mode": {
    "name": "ipython",
    "version": 3
   },
   "file_extension": ".py",
   "mimetype": "text/x-python",
   "name": "python",
   "nbconvert_exporter": "python",
   "pygments_lexer": "ipython3",
   "version": "3.12.7"
  }
 },
 "nbformat": 4,
 "nbformat_minor": 2
}
