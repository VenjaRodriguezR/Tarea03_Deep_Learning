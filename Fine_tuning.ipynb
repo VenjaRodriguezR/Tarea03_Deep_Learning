{
 "cells": [
  {
   "cell_type": "code",
   "execution_count": 1,
   "metadata": {},
   "outputs": [],
   "source": [
    "## No elimine esta celda, ya que permite actualizar los archivos .py\n",
    "## sin tener que reiniciar el Kernel de Jupyter.\n",
    "%load_ext autoreload\n",
    "%autoreload 2\n",
    "import albumentations as A\n",
    "from albumentations.pytorch import ToTensorV2\n",
    "from torchvision.datasets import ImageFolder\n",
    "import numpy as np\n",
    "import torch\n",
    "from train import find_best_model, run_experiment\n",
    "from transforms import Transforms\n",
    "from utils import  set_seed, count_instances_per_class\n",
    "import os\n",
    "import warnings\n",
    "\n",
    "\n",
    "warnings.filterwarnings(\"ignore\", message = \"Palette images with Transparency expressed in bytes should be converted to RGBA images\")\n",
    "os.environ[\"PYTORCH_CUDA_ALLOC_CONF\"] = \"expandable_segments:True\"\n",
    "device = torch.device(\"cuda\" if torch.cuda.is_available() else \"cpu\")\n",
    "torch.cuda.empty_cache()\n",
    "\n",
    "set_seed()\n"
   ]
  },
  {
   "cell_type": "code",
   "execution_count": 2,
   "metadata": {},
   "outputs": [
    {
     "name": "stdout",
     "output_type": "stream",
     "text": [
      "Elementos en Entrenamiento: 10835\n",
      "Elementos en Validación: 2736\n",
      "There are 47 classes!\n",
      "\n",
      "Estadísticas de las instancias por clase:\n",
      "\n",
      "Promedio de instancias:\n",
      "============================== 230.53\n",
      "Desviación estándar:\n",
      "============================== 77.46\n",
      "Cantidad mínima de instancias:\n",
      "============================== 49\n",
      "Cantidad máxima de instancias:\n",
      "============================== 432\n"
     ]
    }
   ],
   "source": [
    "train_transforms = A.Compose(\n",
    "    [A.Resize(256, 256), A.ToFloat(), ToTensorV2()]\n",
    ")\n",
    "validation_transforms = A.Compose(\n",
    "    [A.Resize(256, 256), A.ToFloat(), ToTensorV2()]\n",
    ")\n",
    "\n",
    "\n",
    "train_data = ImageFolder(\n",
    "    \"house_plant_species/train\",\n",
    "    transform = Transforms(train_transforms),\n",
    ")\n",
    "validation_data = ImageFolder(\n",
    "    \"house_plant_species/validation\",\n",
    "    transform = Transforms(validation_transforms),\n",
    ")\n",
    "\n",
    "\n",
    "\n",
    "print(f\"Elementos en Entrenamiento: {len(train_data)}\")\n",
    "print(f\"Elementos en Validación: {len(validation_data)}\")\n",
    "print(f\"There are {len(train_data.classes)} classes!\")\n",
    "#\n",
    "\n",
    "# Llamar a las funciones\n",
    "class_counts = count_instances_per_class(train_data)\n",
    "\n",
    "# Calcular estadísticas\n",
    "class_instance_counts = np.array(list(class_counts.values()))\n",
    "mean_instances = np.mean(class_instance_counts)\n",
    "std_instances = np.std(class_instance_counts)\n",
    "min_instances = np.min(class_instance_counts)\n",
    "max_instances = np.max(class_instance_counts)\n",
    "\n",
    "# # Mostrar resultados\n",
    "# print(\"\\nInstancias por clase:\\n\")\n",
    "# for class_name, count in class_counts.items():\n",
    "#     print(f\"Clase {class_name}: {count} imágenes\\n===========================================\")\n",
    "\n",
    "print(\"\\nEstadísticas de las instancias por clase:\\n\")\n",
    "print(f\"Promedio de instancias:\\n============================== {mean_instances:.2f}\")\n",
    "print(f\"Desviación estándar:\\n============================== {std_instances:.2f}\")\n",
    "print(f\"Cantidad mínima de instancias:\\n============================== {min_instances}\")\n",
    "print(f\"Cantidad máxima de instancias:\\n============================== {max_instances}\")"
   ]
  },
  {
   "cell_type": "code",
   "execution_count": 9,
   "metadata": {},
   "outputs": [
    {
     "data": {
      "text/plain": [
       "defaultdict(int,\n",
       "            {'African Violet (Saintpaulia ionantha)': 269,\n",
       "             'Aloe Vera': 200,\n",
       "             'Anthurium (Anthurium andraeanum)': 326,\n",
       "             'Areca Palm (Dypsis lutescens)': 151,\n",
       "             'Asparagus Fern (Asparagus setaceus)': 135,\n",
       "             'Begonia (Begonia spp.)': 157,\n",
       "             'Bird of Paradise (Strelitzia reginae)': 144,\n",
       "             'Birds Nest Fern (Asplenium nidus)': 232,\n",
       "             'Boston Fern (Nephrolepis exaltata)': 245,\n",
       "             'Calathea': 188,\n",
       "             'Cast Iron Plant (Aspidistra elatior)': 212,\n",
       "             'Chinese Money Plant (Pilea peperomioides)': 305,\n",
       "             'Chinese evergreen (Aglaonema)': 411,\n",
       "             'Christmas Cactus (Schlumbergera bridgesii)': 249,\n",
       "             'Chrysanthemum': 132,\n",
       "             'Ctenanthe': 176,\n",
       "             'Daffodils (Narcissus spp.)': 292,\n",
       "             'Dracaena': 161,\n",
       "             'Dumb Cane (Dieffenbachia spp.)': 432,\n",
       "             'Elephant Ear (Alocasia spp.)': 265,\n",
       "             'English Ivy (Hedera helix)': 192,\n",
       "             'Hyacinth (Hyacinthus orientalis)': 228,\n",
       "             'Iron Cross begonia (Begonia masoniana)': 212,\n",
       "             'Jade plant (Crassula ovata)': 282,\n",
       "             'Kalanchoe': 88,\n",
       "             'Lilium (Hemerocallis)': 256,\n",
       "             'Lily of the valley (Convallaria majalis)': 328,\n",
       "             'Money Tree (Pachira aquatica)': 287,\n",
       "             'Monstera Deliciosa (Monstera deliciosa)': 245,\n",
       "             'Orchid': 167,\n",
       "             'Parlor Palm (Chamaedorea elegans)': 263,\n",
       "             'Peace lily': 308,\n",
       "             'Poinsettia (Euphorbia pulcherrima)': 172,\n",
       "             'Polka Dot Plant (Hypoestes phyllostachya)': 272,\n",
       "             'Ponytail Palm (Beaucarnea recurvata)': 157,\n",
       "             'Pothos (Ivy arum)': 158,\n",
       "             'Prayer Plant (Maranta leuconeura)': 320,\n",
       "             'Rattlesnake Plant (Calathea lancifolia)': 251,\n",
       "             'Rubber Plant (Ficus elastica)': 232,\n",
       "             'Sago Palm (Cycas revoluta)': 161,\n",
       "             'Schefflera': 230,\n",
       "             'Snake plant (Sanseviera)': 316,\n",
       "             'Tradescantia': 232,\n",
       "             'Tulip': 238,\n",
       "             'Venus Flytrap': 159,\n",
       "             'Yucca': 49,\n",
       "             'ZZ Plant (Zamioculcas zamiifolia)': 350})"
      ]
     },
     "execution_count": 9,
     "metadata": {},
     "output_type": "execute_result"
    }
   ],
   "source": [
    "class_counts"
   ]
  },
  {
   "cell_type": "markdown",
   "metadata": {},
   "source": [
    "### Best architecture is **efficientnet_b5.sw_in12k** obtained with:\n",
    "\n",
    "###### \"color_jitter\", \"horizontal_flip\", \"brightness_contrast\", \"blur\"\n",
    "###### Trivial fc_layers => Lazylinear(512) => Linear(512, num_clases)\n",
    "###### Resize to 256 x 256 images\n",
    "###### ToFloat() and not Normalize"
   ]
  },
  {
   "cell_type": "markdown",
   "metadata": {},
   "source": [
    "### **New Change**\n",
    "####         for layer in [self.backbone.conv_head, self.backbone.bn2, self.backbone.global_pool]:\n",
    "####            for param in layer.parameters():\n",
    "####                param.requires_grad = True\n",
    "####  416 x 416 input images resizing\n"
   ]
  },
  {
   "cell_type": "markdown",
   "metadata": {},
   "source": [
    "### *New Color_Jitter*:\n",
    "\n",
    "#### Changed color_jitter to : \"color_jitter\": A.ColorJitter(brightness = 0.4, contrast = 0.4, saturation = 0.3, hue = 0.2, p = 0.7)\n",
    "#### from \"color_jitter\": A.ColorJitter(brightness = 0.2, contrast = 0.2, saturation = 0.2, hue = 0.1, p = 0.5),\n",
    "#### No center crop, added random_rotate in 15 degrees"
   ]
  },
  {
   "cell_type": "code",
   "execution_count": 2,
   "metadata": {},
   "outputs": [
    {
     "name": "stdout",
     "output_type": "stream",
     "text": [
      "Running experiment: efficientnet_b5.sw_in12k__bn_drp_unfreeze_416_cj_cp_b88_ff\n"
     ]
    },
    {
     "name": "stderr",
     "output_type": "stream",
     "text": [
      "\u001b[34m\u001b[1mwandb\u001b[0m: Using wandb-core as the SDK backend.  Please refer to https://wandb.me/wandb-core for more information.\n"
     ]
    },
    {
     "name": "stdout",
     "output_type": "stream",
     "text": [
      "Using device: cuda\n"
     ]
    },
    {
     "name": "stderr",
     "output_type": "stream",
     "text": [
      "\u001b[34m\u001b[1mwandb\u001b[0m: Currently logged in as: \u001b[33mjoseflores1\u001b[0m (\u001b[33mbenjaminrromo-universidad-adolfo-ib-ez\u001b[0m). Use \u001b[1m`wandb login --relogin`\u001b[0m to force relogin\n"
     ]
    },
    {
     "data": {
      "text/html": [
       "Tracking run with wandb version 0.18.7"
      ],
      "text/plain": [
       "<IPython.core.display.HTML object>"
      ]
     },
     "metadata": {},
     "output_type": "display_data"
    },
    {
     "data": {
      "text/html": [
       "Run data is saved locally in <code>/home/josei/workspace/RN/Tarea03_Deep_Learning/wandb/run-20241202_174334-bvej12ni</code>"
      ],
      "text/plain": [
       "<IPython.core.display.HTML object>"
      ]
     },
     "metadata": {},
     "output_type": "display_data"
    },
    {
     "data": {
      "text/html": [
       "Syncing run <strong><a href='https://wandb.ai/benjaminrromo-universidad-adolfo-ib-ez/Tarea03_Deep_Learning/runs/bvej12ni' target=\"_blank\">efficientnet_b5.sw_in12k__bn_drp_unfreeze_416_cj_cp_b88_ff-experiment</a></strong> to <a href='https://wandb.ai/benjaminrromo-universidad-adolfo-ib-ez/Tarea03_Deep_Learning' target=\"_blank\">Weights & Biases</a> (<a href='https://wandb.me/developer-guide' target=\"_blank\">docs</a>)<br/>"
      ],
      "text/plain": [
       "<IPython.core.display.HTML object>"
      ]
     },
     "metadata": {},
     "output_type": "display_data"
    },
    {
     "data": {
      "text/html": [
       " View project at <a href='https://wandb.ai/benjaminrromo-universidad-adolfo-ib-ez/Tarea03_Deep_Learning' target=\"_blank\">https://wandb.ai/benjaminrromo-universidad-adolfo-ib-ez/Tarea03_Deep_Learning</a>"
      ],
      "text/plain": [
       "<IPython.core.display.HTML object>"
      ]
     },
     "metadata": {},
     "output_type": "display_data"
    },
    {
     "data": {
      "text/html": [
       " View run at <a href='https://wandb.ai/benjaminrromo-universidad-adolfo-ib-ez/Tarea03_Deep_Learning/runs/bvej12ni' target=\"_blank\">https://wandb.ai/benjaminrromo-universidad-adolfo-ib-ez/Tarea03_Deep_Learning/runs/bvej12ni</a>"
      ],
      "text/plain": [
       "<IPython.core.display.HTML object>"
      ]
     },
     "metadata": {},
     "output_type": "display_data"
    },
    {
     "name": "stdout",
     "output_type": "stream",
     "text": [
      "Initial max val_accuracy: 0.9598, Second best: 0.9591\n",
      "\n"
     ]
    },
    {
     "name": "stderr",
     "output_type": "stream",
     "text": [
      "  2%|▏         | 1/50 [03:00<2:27:30, 180.62s/it]"
     ]
    },
    {
     "name": "stdout",
     "output_type": "stream",
     "text": [
      "Epoch: 1/50 - Time: 180.43s - Train Loss: 2.2331, Train Accuracy: 0.5461 - Validation Loss: 0.6733, Validation Accuracy: 0.8991\n",
      "Model checkpoint saved at epoch 1\n"
     ]
    },
    {
     "name": "stderr",
     "output_type": "stream",
     "text": [
      "  4%|▍         | 2/50 [05:59<2:23:50, 179.81s/it]"
     ]
    },
    {
     "name": "stdout",
     "output_type": "stream",
     "text": [
      "Epoch: 2/50 - Time: 179.06s - Train Loss: 1.2692, Train Accuracy: 0.7293 - Validation Loss: 0.3627, Validation Accuracy: 0.9415\n",
      "Model checkpoint saved at epoch 2\n"
     ]
    },
    {
     "name": "stderr",
     "output_type": "stream",
     "text": [
      "  6%|▌         | 3/50 [09:00<2:21:06, 180.14s/it]"
     ]
    },
    {
     "name": "stdout",
     "output_type": "stream",
     "text": [
      "Epoch: 3/50 - Time: 180.35s - Train Loss: 1.0252, Train Accuracy: 0.7656 - Validation Loss: 0.2421, Validation Accuracy: 0.9481\n",
      "Model checkpoint saved at epoch 3\n"
     ]
    },
    {
     "name": "stderr",
     "output_type": "stream",
     "text": [
      "  8%|▊         | 4/50 [12:02<2:18:43, 180.94s/it]"
     ]
    },
    {
     "name": "stdout",
     "output_type": "stream",
     "text": [
      "Epoch: 4/50 - Time: 181.98s - Train Loss: 1.0458, Train Accuracy: 0.7503 - Validation Loss: 0.2041, Validation Accuracy: 0.9503\n",
      "Model checkpoint saved at epoch 4\n"
     ]
    },
    {
     "name": "stderr",
     "output_type": "stream",
     "text": [
      " 10%|█         | 5/50 [15:04<2:15:54, 181.20s/it]"
     ]
    },
    {
     "name": "stdout",
     "output_type": "stream",
     "text": [
      "Epoch: 5/50 - Time: 181.48s - Train Loss: 0.9514, Train Accuracy: 0.7691 - Validation Loss: 0.1961, Validation Accuracy: 0.9481\n",
      "Model checkpoint saved at epoch 5\n"
     ]
    },
    {
     "name": "stderr",
     "output_type": "stream",
     "text": [
      " 12%|█▏        | 6/50 [18:06<2:13:14, 181.69s/it]"
     ]
    },
    {
     "name": "stdout",
     "output_type": "stream",
     "text": [
      "Epoch: 6/50 - Time: 182.45s - Train Loss: 0.8904, Train Accuracy: 0.7809 - Validation Loss: 0.1702, Validation Accuracy: 0.9539\n",
      "Model checkpoint saved at epoch 6\n"
     ]
    },
    {
     "name": "stderr",
     "output_type": "stream",
     "text": [
      " 14%|█▍        | 7/50 [21:08<2:10:14, 181.72s/it]"
     ]
    },
    {
     "name": "stdout",
     "output_type": "stream",
     "text": [
      "Epoch: 7/50 - Time: 181.61s - Train Loss: 0.8545, Train Accuracy: 0.7885 - Validation Loss: 0.1652, Validation Accuracy: 0.9536\n",
      "Model checkpoint saved at epoch 7\n"
     ]
    },
    {
     "name": "stderr",
     "output_type": "stream",
     "text": [
      " 16%|█▌        | 8/50 [24:09<2:07:06, 181.59s/it]"
     ]
    },
    {
     "name": "stdout",
     "output_type": "stream",
     "text": [
      "Epoch: 8/50 - Time: 181.11s - Train Loss: 0.8671, Train Accuracy: 0.7845 - Validation Loss: 0.1575, Validation Accuracy: 0.9558\n",
      "Model checkpoint saved at epoch 8\n"
     ]
    },
    {
     "name": "stderr",
     "output_type": "stream",
     "text": [
      " 18%|█▊        | 9/50 [27:12<2:04:11, 181.74s/it]"
     ]
    },
    {
     "name": "stdout",
     "output_type": "stream",
     "text": [
      "Epoch: 9/50 - Time: 182.09s - Train Loss: 0.8255, Train Accuracy: 0.7940 - Validation Loss: 0.1602, Validation Accuracy: 0.9591\n"
     ]
    },
    {
     "name": "stderr",
     "output_type": "stream",
     "text": [
      " 20%|██        | 10/50 [30:14<2:01:14, 181.87s/it]"
     ]
    },
    {
     "name": "stdout",
     "output_type": "stream",
     "text": [
      "Epoch: 10/50 - Time: 181.96s - Train Loss: 0.7934, Train Accuracy: 0.8021 - Validation Loss: 0.1586, Validation Accuracy: 0.9594\n",
      "Saved checkpoint for val_accuracy > second_best at epoch 10\n",
      "Epoch: 11/50 - Time: 180.52s - Train Loss: 0.7795, Train Accuracy: 0.8040 - Validation Loss: 0.1471, Validation Accuracy: 0.9605\n",
      "Model checkpoint saved at epoch 11\n"
     ]
    },
    {
     "name": "stderr",
     "output_type": "stream",
     "text": [
      " 22%|██▏       | 11/50 [33:15<1:58:00, 181.56s/it]"
     ]
    },
    {
     "name": "stdout",
     "output_type": "stream",
     "text": [
      "Saved checkpoint for val_accuracy > second_best at epoch 11\n"
     ]
    },
    {
     "name": "stderr",
     "output_type": "stream",
     "text": [
      " 24%|██▍       | 12/50 [36:16<1:54:56, 181.49s/it]"
     ]
    },
    {
     "name": "stdout",
     "output_type": "stream",
     "text": [
      "Epoch: 12/50 - Time: 181.13s - Train Loss: 0.8335, Train Accuracy: 0.7908 - Validation Loss: 0.1475, Validation Accuracy: 0.9609\n",
      "Saved checkpoint for val_accuracy > second_best at epoch 12\n"
     ]
    },
    {
     "name": "stderr",
     "output_type": "stream",
     "text": [
      " 26%|██▌       | 13/50 [39:16<1:51:40, 181.10s/it]"
     ]
    },
    {
     "name": "stdout",
     "output_type": "stream",
     "text": [
      "Epoch: 13/50 - Time: 180.20s - Train Loss: 0.8225, Train Accuracy: 0.7936 - Validation Loss: 0.1556, Validation Accuracy: 0.9576\n"
     ]
    },
    {
     "name": "stderr",
     "output_type": "stream",
     "text": [
      " 28%|██▊       | 14/50 [42:17<1:48:35, 180.99s/it]"
     ]
    },
    {
     "name": "stdout",
     "output_type": "stream",
     "text": [
      "Epoch: 14/50 - Time: 180.73s - Train Loss: 0.8027, Train Accuracy: 0.7961 - Validation Loss: 0.1573, Validation Accuracy: 0.9569\n"
     ]
    },
    {
     "name": "stderr",
     "output_type": "stream",
     "text": [
      " 30%|███       | 15/50 [45:18<1:45:32, 180.93s/it]"
     ]
    },
    {
     "name": "stdout",
     "output_type": "stream",
     "text": [
      "Epoch: 15/50 - Time: 180.81s - Train Loss: 0.7872, Train Accuracy: 0.8008 - Validation Loss: 0.1574, Validation Accuracy: 0.9547\n"
     ]
    },
    {
     "name": "stderr",
     "output_type": "stream",
     "text": [
      " 32%|███▏      | 16/50 [48:18<1:42:26, 180.77s/it]"
     ]
    },
    {
     "name": "stdout",
     "output_type": "stream",
     "text": [
      "Epoch: 16/50 - Time: 180.38s - Train Loss: 0.8176, Train Accuracy: 0.7949 - Validation Loss: 0.1614, Validation Accuracy: 0.9583\n"
     ]
    },
    {
     "name": "stderr",
     "output_type": "stream",
     "text": [
      " 34%|███▍      | 17/50 [51:18<1:39:17, 180.53s/it]"
     ]
    },
    {
     "name": "stdout",
     "output_type": "stream",
     "text": [
      "Epoch: 17/50 - Time: 179.98s - Train Loss: 0.7843, Train Accuracy: 0.8020 - Validation Loss: 0.1625, Validation Accuracy: 0.9558\n"
     ]
    },
    {
     "name": "stderr",
     "output_type": "stream",
     "text": [
      " 36%|███▌      | 18/50 [54:19<1:36:22, 180.69s/it]"
     ]
    },
    {
     "name": "stdout",
     "output_type": "stream",
     "text": [
      "Epoch: 18/50 - Time: 181.06s - Train Loss: 0.7645, Train Accuracy: 0.8064 - Validation Loss: 0.1657, Validation Accuracy: 0.9569\n"
     ]
    },
    {
     "name": "stderr",
     "output_type": "stream",
     "text": [
      " 38%|███▊      | 19/50 [57:20<1:33:22, 180.72s/it]"
     ]
    },
    {
     "name": "stdout",
     "output_type": "stream",
     "text": [
      "Epoch: 19/50 - Time: 180.80s - Train Loss: 0.7856, Train Accuracy: 0.8028 - Validation Loss: 0.1626, Validation Accuracy: 0.9580\n"
     ]
    },
    {
     "name": "stderr",
     "output_type": "stream",
     "text": [
      " 40%|████      | 20/50 [1:00:20<1:30:16, 180.54s/it]"
     ]
    },
    {
     "name": "stdout",
     "output_type": "stream",
     "text": [
      "Epoch: 20/50 - Time: 180.12s - Train Loss: 0.7934, Train Accuracy: 0.7988 - Validation Loss: 0.1880, Validation Accuracy: 0.9518\n"
     ]
    },
    {
     "name": "stderr",
     "output_type": "stream",
     "text": [
      " 42%|████▏     | 21/50 [1:03:22<1:27:25, 180.88s/it]"
     ]
    },
    {
     "name": "stdout",
     "output_type": "stream",
     "text": [
      "Epoch: 21/50 - Time: 181.67s - Train Loss: 0.7960, Train Accuracy: 0.7998 - Validation Loss: 0.1716, Validation Accuracy: 0.9558\n"
     ]
    },
    {
     "name": "stderr",
     "output_type": "stream",
     "text": [
      " 44%|████▍     | 22/50 [1:06:22<1:24:19, 180.70s/it]"
     ]
    },
    {
     "name": "stdout",
     "output_type": "stream",
     "text": [
      "Epoch: 22/50 - Time: 180.28s - Train Loss: 0.8130, Train Accuracy: 0.7944 - Validation Loss: 0.1768, Validation Accuracy: 0.9561\n"
     ]
    },
    {
     "name": "stderr",
     "output_type": "stream",
     "text": [
      " 46%|████▌     | 23/50 [1:09:22<1:21:17, 180.66s/it]"
     ]
    },
    {
     "name": "stdout",
     "output_type": "stream",
     "text": [
      "Epoch: 23/50 - Time: 180.55s - Train Loss: 0.8012, Train Accuracy: 0.7978 - Validation Loss: 0.1836, Validation Accuracy: 0.9565\n"
     ]
    },
    {
     "name": "stderr",
     "output_type": "stream",
     "text": [
      " 48%|████▊     | 24/50 [1:12:24<1:18:22, 180.87s/it]"
     ]
    },
    {
     "name": "stdout",
     "output_type": "stream",
     "text": [
      "Epoch: 24/50 - Time: 181.37s - Train Loss: 0.8167, Train Accuracy: 0.7946 - Validation Loss: 0.1680, Validation Accuracy: 0.9602\n"
     ]
    },
    {
     "name": "stderr",
     "output_type": "stream",
     "text": [
      " 50%|█████     | 25/50 [1:15:24<1:15:13, 180.53s/it]"
     ]
    },
    {
     "name": "stdout",
     "output_type": "stream",
     "text": [
      "Epoch: 25/50 - Time: 179.74s - Train Loss: 0.8168, Train Accuracy: 0.7938 - Validation Loss: 0.1788, Validation Accuracy: 0.9525\n"
     ]
    },
    {
     "name": "stderr",
     "output_type": "stream",
     "text": [
      " 52%|█████▏    | 26/50 [1:18:20<1:11:45, 179.38s/it]"
     ]
    },
    {
     "name": "stdout",
     "output_type": "stream",
     "text": [
      "Epoch: 26/50 - Time: 176.70s - Train Loss: 0.7967, Train Accuracy: 0.7975 - Validation Loss: 0.1948, Validation Accuracy: 0.9529\n"
     ]
    },
    {
     "name": "stderr",
     "output_type": "stream",
     "text": [
      " 52%|█████▏    | 26/50 [1:21:21<1:15:06, 187.77s/it]"
     ]
    },
    {
     "name": "stdout",
     "output_type": "stream",
     "text": [
      "Epoch: 27/50 - Time: 181.14s - Train Loss: 0.7757, Train Accuracy: 0.8016 - Validation Loss: 0.1875, Validation Accuracy: 0.9496\n",
      "Early stopping triggered at epoch 12. Best Validation Loss: 0.1471\n"
     ]
    },
    {
     "name": "stderr",
     "output_type": "stream",
     "text": [
      "\n"
     ]
    },
    {
     "data": {
      "text/html": [
       "\n",
       "    <style>\n",
       "        .wandb-row {\n",
       "            display: flex;\n",
       "            flex-direction: row;\n",
       "            flex-wrap: wrap;\n",
       "            justify-content: flex-start;\n",
       "            width: 100%;\n",
       "        }\n",
       "        .wandb-col {\n",
       "            display: flex;\n",
       "            flex-direction: column;\n",
       "            flex-basis: 100%;\n",
       "            flex: 1;\n",
       "            padding: 10px;\n",
       "        }\n",
       "    </style>\n",
       "<div class=\"wandb-row\"><div class=\"wandb-col\"><h3>Run history:</h3><br/><table class=\"wandb\"><tr><td>elapsed_time</td><td>▆▄▅▇▇█▇▆█▇▆▆▅▆▆▅▅▆▆▅▇▅▆▇▅▁▆</td></tr><tr><td>epoch</td><td>▁▁▂▂▂▂▃▃▃▃▄▄▄▅▅▅▅▆▆▆▆▇▇▇▇██</td></tr><tr><td>train_acc</td><td>▁▆▇▆▇▇█▇███████████████████</td></tr><tr><td>train_loss</td><td>█▃▂▂▂▂▁▁▁▁▁▁▁▁▁▁▁▁▁▁▁▁▁▁▁▁▁</td></tr><tr><td>val_acc</td><td>▁▆▇▇▇▇▇▇██████▇█▇██▇▇▇██▇▇▇</td></tr><tr><td>val_loss</td><td>█▄▂▂▂▁▁▁▁▁▁▁▁▁▁▁▁▁▁▂▁▁▁▁▁▂▂</td></tr></table><br/></div><div class=\"wandb-col\"><h3>Run summary:</h3><br/><table class=\"wandb\"><tr><td>elapsed_time</td><td>181.13906</td></tr><tr><td>epoch</td><td>27</td></tr><tr><td>train_acc</td><td>0.80164</td></tr><tr><td>train_loss</td><td>0.77572</td></tr><tr><td>val_acc</td><td>0.94956</td></tr><tr><td>val_loss</td><td>0.18748</td></tr></table><br/></div></div>"
      ],
      "text/plain": [
       "<IPython.core.display.HTML object>"
      ]
     },
     "metadata": {},
     "output_type": "display_data"
    },
    {
     "data": {
      "text/html": [
       " View run <strong style=\"color:#cdcd00\">efficientnet_b5.sw_in12k__bn_drp_unfreeze_416_cj_cp_b88_ff-experiment</strong> at: <a href='https://wandb.ai/benjaminrromo-universidad-adolfo-ib-ez/Tarea03_Deep_Learning/runs/bvej12ni' target=\"_blank\">https://wandb.ai/benjaminrromo-universidad-adolfo-ib-ez/Tarea03_Deep_Learning/runs/bvej12ni</a><br/> View project at: <a href='https://wandb.ai/benjaminrromo-universidad-adolfo-ib-ez/Tarea03_Deep_Learning' target=\"_blank\">https://wandb.ai/benjaminrromo-universidad-adolfo-ib-ez/Tarea03_Deep_Learning</a><br/>Synced 5 W&B file(s), 0 media file(s), 0 artifact file(s) and 0 other file(s)"
      ],
      "text/plain": [
       "<IPython.core.display.HTML object>"
      ]
     },
     "metadata": {},
     "output_type": "display_data"
    },
    {
     "data": {
      "text/html": [
       "Find logs at: <code>./wandb/run-20241202_174334-bvej12ni/logs</code>"
      ],
      "text/plain": [
       "<IPython.core.display.HTML object>"
      ]
     },
     "metadata": {},
     "output_type": "display_data"
    },
    {
     "name": "stdout",
     "output_type": "stream",
     "text": [
      "Results to save: {'architecture': 'efficientnet_b5.sw_in12k__bn_drp_unfreeze_416_cj_cp_b88_ff', 'model_type': 'efficientnet_b5.sw_in12k', 'best_epoch': 11, 'best_val_loss': 0.14713793000555597, 'best_train_loss': 0.7795222195667949, 'max_val_acc': 0.9608917832374573, 'test_accuracy': 0.0, 'training_params': {'learning_rate': 0.0003, 'batch_size': 88, 'num_epochs': 50}}\n",
      "Resultados guardados correctamente en results/efficient_net.json\n",
      "Experimento terminado para efficientnet_b5.sw_in12k__bn_drp_unfreeze_416_cj_cp_b88_ff\n"
     ]
    }
   ],
   "source": [
    "run_experiment(\n",
    "    selected_transforms = [\"color_jitter\", \"horizontal_flip\", \"brightness_contrast\", \"noise\", \"blur\", \"random_rotate\"],\n",
    "    model_name = \"efficientnet_b5.sw_in12k\",\n",
    "    base_name = \"\",\n",
    "    extra_info = \"bn_drp_unfreeze_416_cj_cp_b88_ff\", \n",
    "    model_type = \"efficientnet_b5.sw_in12k\",\n",
    "    num_classes = 47,\n",
    "    training_params = {\"learning_rate\": 0.0003, \"batch_size\": 88, \"num_epochs\": 50},\n",
    "    frozen = True,\n",
    "    result_file = \"results/efficient_net.json\",\n",
    "    normalize = False,\n",
    "    use_float = True,\n",
    "    resize_size = 416  # Aquí defines dinámicamente el tamaño de `resize`\n",
    ")"
   ]
  },
  {
   "cell_type": "code",
   "execution_count": 3,
   "metadata": {},
   "outputs": [
    {
     "name": "stdout",
     "output_type": "stream",
     "text": [
      "El mejor modelo según max_val_acc es efficientnet_b5.sw_in12k__bn_drp_unfreeze_416_cj_cp_b88_ff con max_val_acc de 0.9608917832374573\n",
      "El mejor modelo según best_val_loss es efficientnet_b5.sw_in12k__bn_drp_unfreeze_416_cj_cp_b88_ff con best_val_loss de 0.14713793000555597\n"
     ]
    }
   ],
   "source": [
    "file_path = \"results/efficient_net.json\"\n",
    "criteria = [\"max_val_acc\", \"best_val_loss\"]\n",
    " \n",
    "for crit in criteria:\n",
    "    print(f\"El mejor modelo según {crit} es {find_best_model(file_path, crit)[\"architecture\"]} con {crit} de {find_best_model(file_path, crit)[f\"{crit}\"]}\")"
   ]
  }
 ],
 "metadata": {
  "kernelspec": {
   "display_name": "RNENV",
   "language": "python",
   "name": "rnenv"
  },
  "language_info": {
   "codemirror_mode": {
    "name": "ipython",
    "version": 3
   },
   "file_extension": ".py",
   "mimetype": "text/x-python",
   "name": "python",
   "nbconvert_exporter": "python",
   "pygments_lexer": "ipython3",
   "version": "3.12.7"
  }
 },
 "nbformat": 4,
 "nbformat_minor": 2
}
