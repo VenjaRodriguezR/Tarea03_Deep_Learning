{
 "cells": [
  {
   "cell_type": "code",
   "execution_count": 1,
   "metadata": {},
   "outputs": [],
   "source": [
    "## No elimine esta celda, ya que permite actualizar los archivos .py\n",
    "## sin tener que reiniciar el Kernel de Jupyter.\n",
    "%load_ext autoreload\n",
    "%autoreload 2\n",
    "import albumentations as A\n",
    "from albumentations.pytorch import ToTensorV2\n",
    "from torchvision.datasets import ImageFolder\n",
    "import numpy as np\n",
    "import torch\n",
    "from train import find_best_model, run_experiment\n",
    "from transforms import Transforms\n",
    "from utils import  set_seed, count_instances_per_class\n",
    "import os\n",
    "import warnings\n",
    "\n",
    "\n",
    "warnings.filterwarnings(\"ignore\", message = \"Palette images with Transparency expressed in bytes should be converted to RGBA images\")\n",
    "os.environ[\"PYTORCH_CUDA_ALLOC_CONF\"] = \"expandable_segments:True\"\n",
    "device = torch.device(\"cuda\" if torch.cuda.is_available() else \"cpu\")\n",
    "torch.cuda.empty_cache()\n",
    "\n",
    "set_seed()\n"
   ]
  },
  {
   "cell_type": "code",
   "execution_count": 2,
   "metadata": {},
   "outputs": [
    {
     "name": "stdout",
     "output_type": "stream",
     "text": [
      "Elementos en Entrenamiento: 10835\n",
      "Elementos en Validación: 2736\n",
      "There are 47 classes!\n",
      "\n",
      "Estadísticas de las instancias por clase:\n",
      "\n",
      "Promedio de instancias:\n",
      "============================== 230.53\n",
      "Desviación estándar:\n",
      "============================== 77.46\n",
      "Cantidad mínima de instancias:\n",
      "============================== 49\n",
      "Cantidad máxima de instancias:\n",
      "============================== 432\n"
     ]
    }
   ],
   "source": [
    "train_transforms = A.Compose(\n",
    "    [A.Resize(256, 256), A.ToFloat(), ToTensorV2()]\n",
    ")\n",
    "validation_transforms = A.Compose(\n",
    "    [A.Resize(256, 256), A.ToFloat(), ToTensorV2()]\n",
    ")\n",
    "\n",
    "\n",
    "train_data = ImageFolder(\n",
    "    \"house_plant_species/train\",\n",
    "    transform = Transforms(train_transforms),\n",
    ")\n",
    "validation_data = ImageFolder(\n",
    "    \"house_plant_species/validation\",\n",
    "    transform = Transforms(validation_transforms),\n",
    ")\n",
    "\n",
    "\n",
    "\n",
    "print(f\"Elementos en Entrenamiento: {len(train_data)}\")\n",
    "print(f\"Elementos en Validación: {len(validation_data)}\")\n",
    "print(f\"There are {len(train_data.classes)} classes!\")\n",
    "#\n",
    "\n",
    "# Llamar a las funciones\n",
    "class_counts = count_instances_per_class(train_data)\n",
    "\n",
    "# Calcular estadísticas\n",
    "class_instance_counts = np.array(list(class_counts.values()))\n",
    "mean_instances = np.mean(class_instance_counts)\n",
    "std_instances = np.std(class_instance_counts)\n",
    "min_instances = np.min(class_instance_counts)\n",
    "max_instances = np.max(class_instance_counts)\n",
    "\n",
    "# # Mostrar resultados\n",
    "# print(\"\\nInstancias por clase:\\n\")\n",
    "# for class_name, count in class_counts.items():\n",
    "#     print(f\"Clase {class_name}: {count} imágenes\\n===========================================\")\n",
    "\n",
    "print(\"\\nEstadísticas de las instancias por clase:\\n\")\n",
    "print(f\"Promedio de instancias:\\n============================== {mean_instances:.2f}\")\n",
    "print(f\"Desviación estándar:\\n============================== {std_instances:.2f}\")\n",
    "print(f\"Cantidad mínima de instancias:\\n============================== {min_instances}\")\n",
    "print(f\"Cantidad máxima de instancias:\\n============================== {max_instances}\")"
   ]
  },
  {
   "cell_type": "markdown",
   "metadata": {},
   "source": [
    "### Best architecture is **efficientnet_b5.sw_in12k** obtained with:\n",
    "\n",
    "###### \"color_jitter\", \"horizontal_flip\", \"brightness_contrast\", \"blur\"\n",
    "###### Trivial fc_layers => Lazylinear(512) => Linear(512, num_clases)\n",
    "###### Resize to 256 x 256 images\n",
    "###### ToFloat() and not Normalize"
   ]
  },
  {
   "cell_type": "markdown",
   "metadata": {},
   "source": [
    "### **New Change**\n",
    "####         for layer in [self.backbone.conv_head, self.backbone.bn2, self.backbone.global_pool]:\n",
    "####            for param in layer.parameters():\n",
    "####                param.requires_grad = True\n",
    "####  416 x 416 input images resizing\n"
   ]
  },
  {
   "cell_type": "code",
   "execution_count": null,
   "metadata": {},
   "outputs": [
    {
     "name": "stdout",
     "output_type": "stream",
     "text": [
      "Running experiment: efficientnet_b5.sw_in12k__bn_drp_unfreeze_416\n",
      "Using device: cuda\n"
     ]
    },
    {
     "name": "stderr",
     "output_type": "stream",
     "text": [
      "\u001b[34m\u001b[1mwandb\u001b[0m: Using wandb-core as the SDK backend.  Please refer to https://wandb.me/wandb-core for more information.\n",
      "\u001b[34m\u001b[1mwandb\u001b[0m: Currently logged in as: \u001b[33mjoseflores1\u001b[0m (\u001b[33mbenjaminrromo-universidad-adolfo-ib-ez\u001b[0m). Use \u001b[1m`wandb login --relogin`\u001b[0m to force relogin\n"
     ]
    },
    {
     "data": {
      "text/html": [
       "Tracking run with wandb version 0.18.7"
      ],
      "text/plain": [
       "<IPython.core.display.HTML object>"
      ]
     },
     "metadata": {},
     "output_type": "display_data"
    },
    {
     "data": {
      "text/html": [
       "Run data is saved locally in <code>/home/josei/workspace/RN/Tarea03_Deep_Learning/wandb/run-20241129_224147-0hzdxxyf</code>"
      ],
      "text/plain": [
       "<IPython.core.display.HTML object>"
      ]
     },
     "metadata": {},
     "output_type": "display_data"
    },
    {
     "data": {
      "text/html": [
       "Syncing run <strong><a href='https://wandb.ai/benjaminrromo-universidad-adolfo-ib-ez/Tarea03_Deep_Learning/runs/0hzdxxyf' target=\"_blank\">efficientnet_b5.sw_in12k__bn_drp_unfreeze_416-experiment</a></strong> to <a href='https://wandb.ai/benjaminrromo-universidad-adolfo-ib-ez/Tarea03_Deep_Learning' target=\"_blank\">Weights & Biases</a> (<a href='https://wandb.me/developer-guide' target=\"_blank\">docs</a>)<br/>"
      ],
      "text/plain": [
       "<IPython.core.display.HTML object>"
      ]
     },
     "metadata": {},
     "output_type": "display_data"
    },
    {
     "data": {
      "text/html": [
       " View project at <a href='https://wandb.ai/benjaminrromo-universidad-adolfo-ib-ez/Tarea03_Deep_Learning' target=\"_blank\">https://wandb.ai/benjaminrromo-universidad-adolfo-ib-ez/Tarea03_Deep_Learning</a>"
      ],
      "text/plain": [
       "<IPython.core.display.HTML object>"
      ]
     },
     "metadata": {},
     "output_type": "display_data"
    },
    {
     "data": {
      "text/html": [
       " View run at <a href='https://wandb.ai/benjaminrromo-universidad-adolfo-ib-ez/Tarea03_Deep_Learning/runs/0hzdxxyf' target=\"_blank\">https://wandb.ai/benjaminrromo-universidad-adolfo-ib-ez/Tarea03_Deep_Learning/runs/0hzdxxyf</a>"
      ],
      "text/plain": [
       "<IPython.core.display.HTML object>"
      ]
     },
     "metadata": {},
     "output_type": "display_data"
    },
    {
     "name": "stderr",
     "output_type": "stream",
     "text": [
      "  2%|▏         | 1/50 [02:41<2:11:38, 161.20s/it]"
     ]
    },
    {
     "name": "stdout",
     "output_type": "stream",
     "text": [
      "Epoch: 1/50 - Time: 161.02s - Train Loss: 1.3811, Train Accuracy: 0.7659 - Validation Loss: 0.4153, Validation Accuracy: 0.9291\n",
      "Model checkpoint saved at epoch 1\n"
     ]
    },
    {
     "name": "stderr",
     "output_type": "stream",
     "text": [
      "  4%|▍         | 2/50 [05:22<2:08:53, 161.11s/it]"
     ]
    },
    {
     "name": "stdout",
     "output_type": "stream",
     "text": [
      "Epoch: 2/50 - Time: 160.86s - Train Loss: 0.4004, Train Accuracy: 0.9268 - Validation Loss: 0.2436, Validation Accuracy: 0.9452\n",
      "Model checkpoint saved at epoch 2\n"
     ]
    },
    {
     "name": "stderr",
     "output_type": "stream",
     "text": [
      "  6%|▌         | 3/50 [08:03<2:06:17, 161.22s/it]"
     ]
    },
    {
     "name": "stdout",
     "output_type": "stream",
     "text": [
      "Epoch: 3/50 - Time: 161.15s - Train Loss: 0.2406, Train Accuracy: 0.9481 - Validation Loss: 0.2033, Validation Accuracy: 0.9463\n",
      "Model checkpoint saved at epoch 3\n"
     ]
    },
    {
     "name": "stderr",
     "output_type": "stream",
     "text": [
      "  8%|▊         | 4/50 [10:46<2:04:11, 161.98s/it]"
     ]
    },
    {
     "name": "stdout",
     "output_type": "stream",
     "text": [
      "Epoch: 4/50 - Time: 162.96s - Train Loss: 0.1716, Train Accuracy: 0.9596 - Validation Loss: 0.1883, Validation Accuracy: 0.9507\n",
      "Model checkpoint saved at epoch 4\n"
     ]
    },
    {
     "name": "stderr",
     "output_type": "stream",
     "text": [
      " 10%|█         | 5/50 [13:28<2:01:29, 161.98s/it]"
     ]
    },
    {
     "name": "stdout",
     "output_type": "stream",
     "text": [
      "Epoch: 5/50 - Time: 161.98s - Train Loss: 0.1310, Train Accuracy: 0.9692 - Validation Loss: 0.1912, Validation Accuracy: 0.9485\n"
     ]
    },
    {
     "name": "stderr",
     "output_type": "stream",
     "text": [
      " 12%|█▏        | 6/50 [16:13<1:59:25, 162.84s/it]"
     ]
    },
    {
     "name": "stdout",
     "output_type": "stream",
     "text": [
      "Epoch: 6/50 - Time: 164.34s - Train Loss: 0.1078, Train Accuracy: 0.9743 - Validation Loss: 0.1831, Validation Accuracy: 0.9561\n",
      "Model checkpoint saved at epoch 6\n"
     ]
    },
    {
     "name": "stderr",
     "output_type": "stream",
     "text": [
      " 14%|█▍        | 7/50 [18:56<1:56:51, 163.05s/it]"
     ]
    },
    {
     "name": "stdout",
     "output_type": "stream",
     "text": [
      "Epoch: 7/50 - Time: 163.48s - Train Loss: 0.0890, Train Accuracy: 0.9773 - Validation Loss: 0.1900, Validation Accuracy: 0.9485\n"
     ]
    },
    {
     "name": "stderr",
     "output_type": "stream",
     "text": [
      " 16%|█▌        | 8/50 [21:41<1:54:31, 163.61s/it]"
     ]
    },
    {
     "name": "stdout",
     "output_type": "stream",
     "text": [
      "Epoch: 8/50 - Time: 164.79s - Train Loss: 0.0833, Train Accuracy: 0.9789 - Validation Loss: 0.1915, Validation Accuracy: 0.9510\n"
     ]
    },
    {
     "name": "stderr",
     "output_type": "stream",
     "text": [
      " 18%|█▊        | 9/50 [24:26<1:52:00, 163.91s/it]"
     ]
    },
    {
     "name": "stdout",
     "output_type": "stream",
     "text": [
      "Epoch: 9/50 - Time: 164.57s - Train Loss: 0.0639, Train Accuracy: 0.9848 - Validation Loss: 0.1890, Validation Accuracy: 0.9565\n"
     ]
    },
    {
     "name": "stderr",
     "output_type": "stream",
     "text": [
      " 20%|██        | 10/50 [27:10<1:49:28, 164.20s/it]"
     ]
    },
    {
     "name": "stdout",
     "output_type": "stream",
     "text": [
      "Epoch: 10/50 - Time: 164.85s - Train Loss: 0.0604, Train Accuracy: 0.9837 - Validation Loss: 0.2164, Validation Accuracy: 0.9441\n"
     ]
    },
    {
     "name": "stderr",
     "output_type": "stream",
     "text": [
      " 22%|██▏       | 11/50 [29:56<1:46:54, 164.47s/it]"
     ]
    },
    {
     "name": "stdout",
     "output_type": "stream",
     "text": [
      "Epoch: 11/50 - Time: 165.08s - Train Loss: 0.0740, Train Accuracy: 0.9794 - Validation Loss: 0.2012, Validation Accuracy: 0.9448\n"
     ]
    },
    {
     "name": "stderr",
     "output_type": "stream",
     "text": [
      " 22%|██▏       | 11/50 [32:40<1:55:49, 178.20s/it]"
     ]
    },
    {
     "name": "stdout",
     "output_type": "stream",
     "text": [
      "Epoch: 12/50 - Time: 164.22s - Train Loss: 0.0573, Train Accuracy: 0.9843 - Validation Loss: 0.2093, Validation Accuracy: 0.9470\n",
      "Early stopping triggered at epoch 6. Best Validation Loss: 0.1831\n"
     ]
    },
    {
     "name": "stderr",
     "output_type": "stream",
     "text": [
      "\n"
     ]
    },
    {
     "data": {
      "application/vnd.jupyter.widget-view+json": {
       "model_id": "935ec74c175b49e3ae837891dad0b95b",
       "version_major": 2,
       "version_minor": 0
      },
      "text/plain": [
       "VBox(children=(Label(value='0.011 MB of 0.011 MB uploaded\\r'), FloatProgress(value=1.0, max=1.0)))"
      ]
     },
     "metadata": {},
     "output_type": "display_data"
    },
    {
     "data": {
      "text/html": [
       "\n",
       "    <style>\n",
       "        .wandb-row {\n",
       "            display: flex;\n",
       "            flex-direction: row;\n",
       "            flex-wrap: wrap;\n",
       "            justify-content: flex-start;\n",
       "            width: 100%;\n",
       "        }\n",
       "        .wandb-col {\n",
       "            display: flex;\n",
       "            flex-direction: column;\n",
       "            flex-basis: 100%;\n",
       "            flex: 1;\n",
       "            padding: 10px;\n",
       "        }\n",
       "    </style>\n",
       "<div class=\"wandb-row\"><div class=\"wandb-col\"><h3>Run history:</h3><br/><table class=\"wandb\"><tr><td>elapsed_time</td><td>▁▁▁▄▃▇▅█▇██▇</td></tr><tr><td>epoch</td><td>▁▂▂▃▄▄▅▅▆▇▇█</td></tr><tr><td>train_acc</td><td>▁▆▇▇████████</td></tr><tr><td>train_loss</td><td>█▃▂▂▁▁▁▁▁▁▁▁</td></tr><tr><td>val_acc</td><td>▁▅▅▇▆█▆▇█▅▅▆</td></tr><tr><td>val_loss</td><td>█▃▂▁▁▁▁▁▁▂▂▂</td></tr></table><br/></div><div class=\"wandb-col\"><h3>Run summary:</h3><br/><table class=\"wandb\"><tr><td>elapsed_time</td><td>164.22048</td></tr><tr><td>epoch</td><td>12</td></tr><tr><td>train_acc</td><td>0.98428</td></tr><tr><td>train_loss</td><td>0.05734</td></tr><tr><td>val_acc</td><td>0.947</td></tr><tr><td>val_loss</td><td>0.20927</td></tr></table><br/></div></div>"
      ],
      "text/plain": [
       "<IPython.core.display.HTML object>"
      ]
     },
     "metadata": {},
     "output_type": "display_data"
    },
    {
     "data": {
      "text/html": [
       " View run <strong style=\"color:#cdcd00\">efficientnet_b5.sw_in12k__bn_drp_unfreeze_416-experiment</strong> at: <a href='https://wandb.ai/benjaminrromo-universidad-adolfo-ib-ez/Tarea03_Deep_Learning/runs/0hzdxxyf' target=\"_blank\">https://wandb.ai/benjaminrromo-universidad-adolfo-ib-ez/Tarea03_Deep_Learning/runs/0hzdxxyf</a><br/> View project at: <a href='https://wandb.ai/benjaminrromo-universidad-adolfo-ib-ez/Tarea03_Deep_Learning' target=\"_blank\">https://wandb.ai/benjaminrromo-universidad-adolfo-ib-ez/Tarea03_Deep_Learning</a><br/>Synced 5 W&B file(s), 0 media file(s), 0 artifact file(s) and 0 other file(s)"
      ],
      "text/plain": [
       "<IPython.core.display.HTML object>"
      ]
     },
     "metadata": {},
     "output_type": "display_data"
    },
    {
     "data": {
      "text/html": [
       "Find logs at: <code>./wandb/run-20241129_224147-0hzdxxyf/logs</code>"
      ],
      "text/plain": [
       "<IPython.core.display.HTML object>"
      ]
     },
     "metadata": {},
     "output_type": "display_data"
    },
    {
     "name": "stdout",
     "output_type": "stream",
     "text": [
      "Results to save: {'architecture': 'efficientnet_b5.sw_in12k__bn_drp_unfreeze_416', 'model_type': 'efficientnet_b5.sw_in12k', 'best_epoch': 6, 'best_val_loss': 0.1831230824369244, 'best_train_loss': 0.10781560898565594, 'max_val_acc': 0.9565058350563049, 'test_accuracy': 0.0, 'training_params': {'learning_rate': 0.0003, 'batch_size': 32, 'num_epochs': 50}}\n",
      "Resultados guardados correctamente en results/efficient_net.json\n",
      "Experimento terminado para efficientnet_b5.sw_in12k__bn_drp_unfreeze_416\n"
     ]
    }
   ],
   "source": [
    "run_experiment(\n",
    "    selected_transforms = [\"center_crop\", \"color_jitter\", \"horizontal_flip\", \"brightness_contrast\", \"noise\", \"blur\"],\n",
    "    model_name = \"efficientnet_b5.sw_in12k\",\n",
    "    base_name = \"\",\n",
    "    extra_info = \"bn_drp_unfreeze_416\", \n",
    "    model_type = \"efficientnet_b5.sw_in12k\",\n",
    "    num_classes = 47,\n",
    "    training_params = {\"learning_rate\": 0.0003, \"batch_size\": 32, \"num_epochs\": 50},\n",
    "    frozen = True,\n",
    "    result_file = \"results/efficient_net.json\",\n",
    "    normalize = False,\n",
    "    use_float = True,\n",
    "    resize_size = 416  # Aquí defines dinámicamente el tamaño de `resize`\n",
    ")"
   ]
  },
  {
   "cell_type": "markdown",
   "metadata": {},
   "source": [
    "### *New Color_Jitter*:\n",
    "\n",
    "#### Changed color_jitter to : \"color_jitter\": A.ColorJitter(brightness = 0.4, contrast = 0.4, saturation = 0.3, hue = 0.2, p = 0.7)\n",
    "#### from \"color_jitter\": A.ColorJitter(brightness = 0.2, contrast = 0.2, saturation = 0.2, hue = 0.1, p = 0.5),\n",
    "#### No center crop, added random_rotate in 15 degrees"
   ]
  },
  {
   "cell_type": "code",
   "execution_count": 2,
   "metadata": {},
   "outputs": [
    {
     "name": "stdout",
     "output_type": "stream",
     "text": [
      "Running experiment: efficientnet_b5.sw_in12k__bn_drp_unfreeze_416_cj_cp\n",
      "Using device: cuda\n"
     ]
    },
    {
     "name": "stderr",
     "output_type": "stream",
     "text": [
      "\u001b[34m\u001b[1mwandb\u001b[0m: Using wandb-core as the SDK backend.  Please refer to https://wandb.me/wandb-core for more information.\n",
      "\u001b[34m\u001b[1mwandb\u001b[0m: Currently logged in as: \u001b[33mjoseflores1\u001b[0m (\u001b[33mbenjaminrromo-universidad-adolfo-ib-ez\u001b[0m). Use \u001b[1m`wandb login --relogin`\u001b[0m to force relogin\n"
     ]
    },
    {
     "data": {
      "text/html": [
       "Tracking run with wandb version 0.18.7"
      ],
      "text/plain": [
       "<IPython.core.display.HTML object>"
      ]
     },
     "metadata": {},
     "output_type": "display_data"
    },
    {
     "data": {
      "text/html": [
       "Run data is saved locally in <code>/home/josei/workspace/RN/Tarea03_Deep_Learning/wandb/run-20241130_110727-pv242enu</code>"
      ],
      "text/plain": [
       "<IPython.core.display.HTML object>"
      ]
     },
     "metadata": {},
     "output_type": "display_data"
    },
    {
     "data": {
      "text/html": [
       "Syncing run <strong><a href='https://wandb.ai/benjaminrromo-universidad-adolfo-ib-ez/Tarea03_Deep_Learning/runs/pv242enu' target=\"_blank\">efficientnet_b5.sw_in12k__bn_drp_unfreeze_416_cj_cp-experiment</a></strong> to <a href='https://wandb.ai/benjaminrromo-universidad-adolfo-ib-ez/Tarea03_Deep_Learning' target=\"_blank\">Weights & Biases</a> (<a href='https://wandb.me/developer-guide' target=\"_blank\">docs</a>)<br/>"
      ],
      "text/plain": [
       "<IPython.core.display.HTML object>"
      ]
     },
     "metadata": {},
     "output_type": "display_data"
    },
    {
     "data": {
      "text/html": [
       " View project at <a href='https://wandb.ai/benjaminrromo-universidad-adolfo-ib-ez/Tarea03_Deep_Learning' target=\"_blank\">https://wandb.ai/benjaminrromo-universidad-adolfo-ib-ez/Tarea03_Deep_Learning</a>"
      ],
      "text/plain": [
       "<IPython.core.display.HTML object>"
      ]
     },
     "metadata": {},
     "output_type": "display_data"
    },
    {
     "data": {
      "text/html": [
       " View run at <a href='https://wandb.ai/benjaminrromo-universidad-adolfo-ib-ez/Tarea03_Deep_Learning/runs/pv242enu' target=\"_blank\">https://wandb.ai/benjaminrromo-universidad-adolfo-ib-ez/Tarea03_Deep_Learning/runs/pv242enu</a>"
      ],
      "text/plain": [
       "<IPython.core.display.HTML object>"
      ]
     },
     "metadata": {},
     "output_type": "display_data"
    },
    {
     "name": "stderr",
     "output_type": "stream",
     "text": [
      "  0%|          | 0/50 [00:00<?, ?it/s]"
     ]
    },
    {
     "name": "stdout",
     "output_type": "stream",
     "text": [
      "Epoch: 1/50 - Time: 251.81s - Train Loss: 1.4832, Train Accuracy: 0.7318 - Validation Loss: 0.4339, Validation Accuracy: 0.9211\n",
      "Model checkpoint saved at epoch 1\n"
     ]
    },
    {
     "name": "stderr",
     "output_type": "stream",
     "text": [
      "  4%|▍         | 2/50 [06:51<2:38:12, 197.77s/it]"
     ]
    },
    {
     "name": "stdout",
     "output_type": "stream",
     "text": [
      "Epoch: 2/50 - Time: 159.61s - Train Loss: 0.4714, Train Accuracy: 0.9069 - Validation Loss: 0.2487, Validation Accuracy: 0.9379\n",
      "Model checkpoint saved at epoch 2\n"
     ]
    },
    {
     "name": "stderr",
     "output_type": "stream",
     "text": [
      "  6%|▌         | 3/50 [09:32<2:21:44, 180.94s/it]"
     ]
    },
    {
     "name": "stdout",
     "output_type": "stream",
     "text": [
      "Epoch: 3/50 - Time: 160.74s - Train Loss: 0.3006, Train Accuracy: 0.9299 - Validation Loss: 0.1983, Validation Accuracy: 0.9477\n",
      "Model checkpoint saved at epoch 3\n"
     ]
    },
    {
     "name": "stderr",
     "output_type": "stream",
     "text": [
      "  8%|▊         | 4/50 [12:15<2:13:07, 173.65s/it]"
     ]
    },
    {
     "name": "stdout",
     "output_type": "stream",
     "text": [
      "Epoch: 4/50 - Time: 162.28s - Train Loss: 0.2328, Train Accuracy: 0.9451 - Validation Loss: 0.1894, Validation Accuracy: 0.9481\n",
      "Model checkpoint saved at epoch 4\n"
     ]
    },
    {
     "name": "stderr",
     "output_type": "stream",
     "text": [
      " 10%|█         | 5/50 [14:56<2:06:54, 169.22s/it]"
     ]
    },
    {
     "name": "stdout",
     "output_type": "stream",
     "text": [
      "Epoch: 5/50 - Time: 161.17s - Train Loss: 0.1908, Train Accuracy: 0.9531 - Validation Loss: 0.1751, Validation Accuracy: 0.9543\n",
      "Model checkpoint saved at epoch 5\n"
     ]
    },
    {
     "name": "stderr",
     "output_type": "stream",
     "text": [
      " 12%|█▏        | 6/50 [17:38<2:02:13, 166.68s/it]"
     ]
    },
    {
     "name": "stdout",
     "output_type": "stream",
     "text": [
      "Epoch: 6/50 - Time: 161.75s - Train Loss: 0.1616, Train Accuracy: 0.9565 - Validation Loss: 0.1921, Validation Accuracy: 0.9532\n"
     ]
    },
    {
     "name": "stderr",
     "output_type": "stream",
     "text": [
      " 14%|█▍        | 7/50 [20:20<1:58:23, 165.19s/it]"
     ]
    },
    {
     "name": "stdout",
     "output_type": "stream",
     "text": [
      "Epoch: 7/50 - Time: 161.92s - Train Loss: 0.1401, Train Accuracy: 0.9630 - Validation Loss: 0.1671, Validation Accuracy: 0.9550\n",
      "Model checkpoint saved at epoch 7\n"
     ]
    },
    {
     "name": "stderr",
     "output_type": "stream",
     "text": [
      " 16%|█▌        | 8/50 [23:02<1:54:52, 164.10s/it]"
     ]
    },
    {
     "name": "stdout",
     "output_type": "stream",
     "text": [
      "Epoch: 8/50 - Time: 161.79s - Train Loss: 0.1228, Train Accuracy: 0.9659 - Validation Loss: 0.1889, Validation Accuracy: 0.9529\n"
     ]
    },
    {
     "name": "stderr",
     "output_type": "stream",
     "text": [
      " 18%|█▊        | 9/50 [25:44<1:51:47, 163.61s/it]"
     ]
    },
    {
     "name": "stdout",
     "output_type": "stream",
     "text": [
      "Epoch: 9/50 - Time: 162.34s - Train Loss: 0.1069, Train Accuracy: 0.9704 - Validation Loss: 0.1557, Validation Accuracy: 0.9558\n",
      "Model checkpoint saved at epoch 9\n"
     ]
    },
    {
     "name": "stderr",
     "output_type": "stream",
     "text": [
      " 20%|██        | 10/50 [28:27<1:48:48, 163.22s/it]"
     ]
    },
    {
     "name": "stdout",
     "output_type": "stream",
     "text": [
      "Epoch: 10/50 - Time: 162.33s - Train Loss: 0.1149, Train Accuracy: 0.9675 - Validation Loss: 0.2108, Validation Accuracy: 0.9470\n"
     ]
    },
    {
     "name": "stderr",
     "output_type": "stream",
     "text": [
      " 22%|██▏       | 11/50 [31:09<1:45:57, 163.00s/it]"
     ]
    },
    {
     "name": "stdout",
     "output_type": "stream",
     "text": [
      "Epoch: 11/50 - Time: 162.52s - Train Loss: 0.1120, Train Accuracy: 0.9676 - Validation Loss: 0.1927, Validation Accuracy: 0.9514\n"
     ]
    },
    {
     "name": "stderr",
     "output_type": "stream",
     "text": [
      " 24%|██▍       | 12/50 [33:51<1:43:01, 162.66s/it]"
     ]
    },
    {
     "name": "stdout",
     "output_type": "stream",
     "text": [
      "Epoch: 12/50 - Time: 161.87s - Train Loss: 0.0905, Train Accuracy: 0.9724 - Validation Loss: 0.1999, Validation Accuracy: 0.9459\n"
     ]
    },
    {
     "name": "stderr",
     "output_type": "stream",
     "text": [
      " 26%|██▌       | 13/50 [36:33<1:40:13, 162.54s/it]"
     ]
    },
    {
     "name": "stdout",
     "output_type": "stream",
     "text": [
      "Epoch: 13/50 - Time: 162.26s - Train Loss: 0.0842, Train Accuracy: 0.9745 - Validation Loss: 0.1893, Validation Accuracy: 0.9510\n"
     ]
    },
    {
     "name": "stderr",
     "output_type": "stream",
     "text": [
      " 28%|██▊       | 14/50 [39:16<1:37:36, 162.68s/it]"
     ]
    },
    {
     "name": "stdout",
     "output_type": "stream",
     "text": [
      "Epoch: 14/50 - Time: 163.00s - Train Loss: 0.0884, Train Accuracy: 0.9737 - Validation Loss: 0.2058, Validation Accuracy: 0.9477\n"
     ]
    },
    {
     "name": "stderr",
     "output_type": "stream",
     "text": [
      " 28%|██▊       | 14/50 [42:00<1:48:01, 180.04s/it]"
     ]
    },
    {
     "name": "stdout",
     "output_type": "stream",
     "text": [
      "Epoch: 15/50 - Time: 163.81s - Train Loss: 0.0835, Train Accuracy: 0.9749 - Validation Loss: 0.2046, Validation Accuracy: 0.9492\n",
      "Early stopping triggered at epoch 9. Best Validation Loss: 0.1557\n"
     ]
    },
    {
     "name": "stderr",
     "output_type": "stream",
     "text": [
      "\n"
     ]
    },
    {
     "data": {
      "application/vnd.jupyter.widget-view+json": {
       "model_id": "e4027e084ffa4f4e8f4aff960c5ac91f",
       "version_major": 2,
       "version_minor": 0
      },
      "text/plain": [
       "VBox(children=(Label(value='0.011 MB of 0.011 MB uploaded\\r'), FloatProgress(value=1.0, max=1.0)))"
      ]
     },
     "metadata": {},
     "output_type": "display_data"
    },
    {
     "data": {
      "text/html": [
       "\n",
       "    <style>\n",
       "        .wandb-row {\n",
       "            display: flex;\n",
       "            flex-direction: row;\n",
       "            flex-wrap: wrap;\n",
       "            justify-content: flex-start;\n",
       "            width: 100%;\n",
       "        }\n",
       "        .wandb-col {\n",
       "            display: flex;\n",
       "            flex-direction: column;\n",
       "            flex-basis: 100%;\n",
       "            flex: 1;\n",
       "            padding: 10px;\n",
       "        }\n",
       "    </style>\n",
       "<div class=\"wandb-row\"><div class=\"wandb-col\"><h3>Run history:</h3><br/><table class=\"wandb\"><tr><td>elapsed_time</td><td>█▁▁▁▁▁▁▁▁▁▁▁▁▁▁</td></tr><tr><td>epoch</td><td>▁▁▂▃▃▃▄▅▅▅▆▇▇▇█</td></tr><tr><td>train_acc</td><td>▁▆▇▇▇▇█████████</td></tr><tr><td>train_loss</td><td>█▃▂▂▂▁▁▁▁▁▁▁▁▁▁</td></tr><tr><td>val_acc</td><td>▁▄▆▆█▇█▇█▆▇▆▇▆▇</td></tr><tr><td>val_loss</td><td>█▃▂▂▁▂▁▂▁▂▂▂▂▂▂</td></tr></table><br/></div><div class=\"wandb-col\"><h3>Run summary:</h3><br/><table class=\"wandb\"><tr><td>elapsed_time</td><td>163.80784</td></tr><tr><td>epoch</td><td>15</td></tr><tr><td>train_acc</td><td>0.97485</td></tr><tr><td>train_loss</td><td>0.08345</td></tr><tr><td>val_acc</td><td>0.9492</td></tr><tr><td>val_loss</td><td>0.20462</td></tr></table><br/></div></div>"
      ],
      "text/plain": [
       "<IPython.core.display.HTML object>"
      ]
     },
     "metadata": {},
     "output_type": "display_data"
    },
    {
     "data": {
      "text/html": [
       " View run <strong style=\"color:#cdcd00\">efficientnet_b5.sw_in12k__bn_drp_unfreeze_416_cj_cp-experiment</strong> at: <a href='https://wandb.ai/benjaminrromo-universidad-adolfo-ib-ez/Tarea03_Deep_Learning/runs/pv242enu' target=\"_blank\">https://wandb.ai/benjaminrromo-universidad-adolfo-ib-ez/Tarea03_Deep_Learning/runs/pv242enu</a><br/> View project at: <a href='https://wandb.ai/benjaminrromo-universidad-adolfo-ib-ez/Tarea03_Deep_Learning' target=\"_blank\">https://wandb.ai/benjaminrromo-universidad-adolfo-ib-ez/Tarea03_Deep_Learning</a><br/>Synced 5 W&B file(s), 0 media file(s), 0 artifact file(s) and 0 other file(s)"
      ],
      "text/plain": [
       "<IPython.core.display.HTML object>"
      ]
     },
     "metadata": {},
     "output_type": "display_data"
    },
    {
     "data": {
      "text/html": [
       "Find logs at: <code>./wandb/run-20241130_110727-pv242enu/logs</code>"
      ],
      "text/plain": [
       "<IPython.core.display.HTML object>"
      ]
     },
     "metadata": {},
     "output_type": "display_data"
    },
    {
     "name": "stdout",
     "output_type": "stream",
     "text": [
      "Results to save: {'architecture': 'efficientnet_b5.sw_in12k__bn_drp_unfreeze_416_cj_cp', 'model_type': 'efficientnet_b5.sw_in12k', 'best_epoch': 9, 'best_val_loss': 0.15565675573774104, 'best_train_loss': 0.10694622329144171, 'max_val_acc': 0.9557748436927795, 'test_accuracy': 0.0, 'training_params': {'learning_rate': 0.0003, 'batch_size': 32, 'num_epochs': 50}}\n",
      "Resultados guardados correctamente en results/efficient_net.json\n",
      "Experimento terminado para efficientnet_b5.sw_in12k__bn_drp_unfreeze_416_cj_cp\n"
     ]
    }
   ],
   "source": [
    "run_experiment(\n",
    "    selected_transforms = [\"color_jitter\", \"horizontal_flip\", \"brightness_contrast\", \"noise\", \"blur\", \"random_rotate\"],\n",
    "    model_name = \"efficientnet_b5.sw_in12k\",\n",
    "    base_name = \"\",\n",
    "    extra_info = \"bn_drp_unfreeze_416_cj_cp\", \n",
    "    model_type = \"efficientnet_b5.sw_in12k\",\n",
    "    num_classes = 47,\n",
    "    training_params = {\"learning_rate\": 0.0003, \"batch_size\": 32, \"num_epochs\": 50},\n",
    "    frozen = True,\n",
    "    result_file = \"results/efficient_net.json\",\n",
    "    normalize = False,\n",
    "    use_float = True,\n",
    "    resize_size = 416  # Aquí defines dinámicamente el tamaño de `resize`\n",
    ")"
   ]
  },
  {
   "cell_type": "code",
   "execution_count": 8,
   "metadata": {},
   "outputs": [
    {
     "name": "stdout",
     "output_type": "stream",
     "text": [
      "El mejor modelo según max_val_acc es efficientnet_b5.sw_in12k__bn_drp_unfreeze_416 con max_val_acc de 0.9565058350563049\n",
      "El mejor modelo según best_val_loss es efficientnet_b5.sw_in12k__bn_drp_unfreeze_416_cj_cp con best_val_loss de 0.15565675573774104\n"
     ]
    }
   ],
   "source": [
    "file_path = \"results/efficient_net.json\"\n",
    "criteria = [\"max_val_acc\", \"best_val_loss\"]\n",
    " \n",
    "for crit in criteria:\n",
    "    print(f\"El mejor modelo según {crit} es {find_best_model(file_path, crit)[\"architecture\"]} con {crit} de {find_best_model(file_path, crit)[f\"{crit}\"]}\")"
   ]
  }
 ],
 "metadata": {
  "kernelspec": {
   "display_name": "RNENV",
   "language": "python",
   "name": "rnenv"
  },
  "language_info": {
   "codemirror_mode": {
    "name": "ipython",
    "version": 3
   },
   "file_extension": ".py",
   "mimetype": "text/x-python",
   "name": "python",
   "nbconvert_exporter": "python",
   "pygments_lexer": "ipython3",
   "version": "3.12.7"
  }
 },
 "nbformat": 4,
 "nbformat_minor": 2
}
