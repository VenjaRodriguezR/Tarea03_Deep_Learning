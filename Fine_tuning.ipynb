{
 "cells": [
  {
   "cell_type": "code",
   "execution_count": 11,
   "metadata": {},
   "outputs": [
    {
     "name": "stdout",
     "output_type": "stream",
     "text": [
      "The autoreload extension is already loaded. To reload it, use:\n",
      "  %reload_ext autoreload\n"
     ]
    }
   ],
   "source": [
    "## No elimine esta celda, ya que permite actualizar los archivos .py\n",
    "## sin tener que reiniciar el Kernel de Jupyter.\n",
    "%load_ext autoreload\n",
    "%autoreload 2\n",
    "import albumentations as A\n",
    "from albumentations.pytorch import ToTensorV2\n",
    "from torchvision.datasets import ImageFolder\n",
    "import numpy as np\n",
    "import torch\n",
    "from train import find_best_model, run_experiment\n",
    "from transforms import Transforms\n",
    "from utils import  set_seed, count_instances_per_class\n",
    "import os\n",
    "import warnings\n",
    "\n",
    "\n",
    "warnings.filterwarnings(\"ignore\", message = \"Palette images with Transparency expressed in bytes should be converted to RGBA images\")\n",
    "os.environ[\"PYTORCH_CUDA_ALLOC_CONF\"] = \"expandable_segments:True\"\n",
    "device = torch.device(\"cuda\" if torch.cuda.is_available() else \"cpu\")\n",
    "torch.cuda.empty_cache()\n",
    "\n",
    "set_seed()\n"
   ]
  },
  {
   "cell_type": "markdown",
   "metadata": {},
   "source": [
    "### Para ver todos los resultados véase:\n",
    "\n",
    "{https://api.wandb.ai/links/benjaminrromo-universidad-adolfo-ib-ez/py96u9rv}"
   ]
  },
  {
   "cell_type": "code",
   "execution_count": 12,
   "metadata": {},
   "outputs": [
    {
     "name": "stdout",
     "output_type": "stream",
     "text": [
      "Elementos en Entrenamiento: 10835\n",
      "Elementos en Validación: 2736\n",
      "There are 47 classes!\n",
      "\n",
      "Estadísticas de las instancias por clase:\n",
      "\n",
      "Promedio de instancias:\n",
      "============================== 230.53\n",
      "Desviación estándar:\n",
      "============================== 77.46\n",
      "Cantidad mínima de instancias:\n",
      "============================== 49\n",
      "Cantidad máxima de instancias:\n",
      "============================== 432\n"
     ]
    }
   ],
   "source": [
    "train_transforms = A.Compose(\n",
    "    [A.Resize(256, 256), A.ToFloat(), ToTensorV2()]\n",
    ")\n",
    "validation_transforms = A.Compose(\n",
    "    [A.Resize(256, 256), A.ToFloat(), ToTensorV2()]\n",
    ")\n",
    "\n",
    "\n",
    "train_data = ImageFolder(\n",
    "    \"house_plant_species/train\",\n",
    "    transform = Transforms(train_transforms),\n",
    ")\n",
    "validation_data = ImageFolder(\n",
    "    \"house_plant_species/validation\",\n",
    "    transform = Transforms(validation_transforms),\n",
    ")\n",
    "\n",
    "\n",
    "\n",
    "print(f\"Elementos en Entrenamiento: {len(train_data)}\")\n",
    "print(f\"Elementos en Validación: {len(validation_data)}\")\n",
    "print(f\"There are {len(train_data.classes)} classes!\")\n",
    "#\n",
    "\n",
    "# Llamar a las funciones\n",
    "class_counts = count_instances_per_class(train_data)\n",
    "\n",
    "# Calcular estadísticas\n",
    "class_instance_counts = np.array(list(class_counts.values()))\n",
    "mean_instances = np.mean(class_instance_counts)\n",
    "std_instances = np.std(class_instance_counts)\n",
    "min_instances = np.min(class_instance_counts)\n",
    "max_instances = np.max(class_instance_counts)\n",
    "\n",
    "# # Mostrar resultados\n",
    "# print(\"\\nInstancias por clase:\\n\")\n",
    "# for class_name, count in class_counts.items():\n",
    "#     print(f\"Clase {class_name}: {count} imágenes\\n===========================================\")\n",
    "\n",
    "print(\"\\nEstadísticas de las instancias por clase:\\n\")\n",
    "print(f\"Promedio de instancias:\\n============================== {mean_instances:.2f}\")\n",
    "print(f\"Desviación estándar:\\n============================== {std_instances:.2f}\")\n",
    "print(f\"Cantidad mínima de instancias:\\n============================== {min_instances}\")\n",
    "print(f\"Cantidad máxima de instancias:\\n============================== {max_instances}\")"
   ]
  },
  {
   "cell_type": "code",
   "execution_count": 13,
   "metadata": {},
   "outputs": [
    {
     "data": {
      "text/plain": [
       "defaultdict(int,\n",
       "            {'African Violet (Saintpaulia ionantha)': 269,\n",
       "             'Aloe Vera': 200,\n",
       "             'Anthurium (Anthurium andraeanum)': 326,\n",
       "             'Areca Palm (Dypsis lutescens)': 151,\n",
       "             'Asparagus Fern (Asparagus setaceus)': 135,\n",
       "             'Begonia (Begonia spp.)': 157,\n",
       "             'Bird of Paradise (Strelitzia reginae)': 144,\n",
       "             'Birds Nest Fern (Asplenium nidus)': 232,\n",
       "             'Boston Fern (Nephrolepis exaltata)': 245,\n",
       "             'Calathea': 188,\n",
       "             'Cast Iron Plant (Aspidistra elatior)': 212,\n",
       "             'Chinese Money Plant (Pilea peperomioides)': 305,\n",
       "             'Chinese evergreen (Aglaonema)': 411,\n",
       "             'Christmas Cactus (Schlumbergera bridgesii)': 249,\n",
       "             'Chrysanthemum': 132,\n",
       "             'Ctenanthe': 176,\n",
       "             'Daffodils (Narcissus spp.)': 292,\n",
       "             'Dracaena': 161,\n",
       "             'Dumb Cane (Dieffenbachia spp.)': 432,\n",
       "             'Elephant Ear (Alocasia spp.)': 265,\n",
       "             'English Ivy (Hedera helix)': 192,\n",
       "             'Hyacinth (Hyacinthus orientalis)': 228,\n",
       "             'Iron Cross begonia (Begonia masoniana)': 212,\n",
       "             'Jade plant (Crassula ovata)': 282,\n",
       "             'Kalanchoe': 88,\n",
       "             'Lilium (Hemerocallis)': 256,\n",
       "             'Lily of the valley (Convallaria majalis)': 328,\n",
       "             'Money Tree (Pachira aquatica)': 287,\n",
       "             'Monstera Deliciosa (Monstera deliciosa)': 245,\n",
       "             'Orchid': 167,\n",
       "             'Parlor Palm (Chamaedorea elegans)': 263,\n",
       "             'Peace lily': 308,\n",
       "             'Poinsettia (Euphorbia pulcherrima)': 172,\n",
       "             'Polka Dot Plant (Hypoestes phyllostachya)': 272,\n",
       "             'Ponytail Palm (Beaucarnea recurvata)': 157,\n",
       "             'Pothos (Ivy arum)': 158,\n",
       "             'Prayer Plant (Maranta leuconeura)': 320,\n",
       "             'Rattlesnake Plant (Calathea lancifolia)': 251,\n",
       "             'Rubber Plant (Ficus elastica)': 232,\n",
       "             'Sago Palm (Cycas revoluta)': 161,\n",
       "             'Schefflera': 230,\n",
       "             'Snake plant (Sanseviera)': 316,\n",
       "             'Tradescantia': 232,\n",
       "             'Tulip': 238,\n",
       "             'Venus Flytrap': 159,\n",
       "             'Yucca': 49,\n",
       "             'ZZ Plant (Zamioculcas zamiifolia)': 350})"
      ]
     },
     "execution_count": 13,
     "metadata": {},
     "output_type": "execute_result"
    }
   ],
   "source": [
    "class_counts"
   ]
  },
  {
   "cell_type": "code",
   "execution_count": 14,
   "metadata": {},
   "outputs": [
    {
     "data": {
      "text/plain": [
       "defaultdict(int,\n",
       "            {'African Violet (Saintpaulia ionantha)': 68,\n",
       "             'Aloe Vera': 51,\n",
       "             'Anthurium (Anthurium andraeanum)': 81,\n",
       "             'Areca Palm (Dypsis lutescens)': 38,\n",
       "             'Asparagus Fern (Asparagus setaceus)': 34,\n",
       "             'Begonia (Begonia spp.)': 41,\n",
       "             'Bird of Paradise (Strelitzia reginae)': 36,\n",
       "             'Birds Nest Fern (Asplenium nidus)': 58,\n",
       "             'Boston Fern (Nephrolepis exaltata)': 61,\n",
       "             'Calathea': 48,\n",
       "             'Cast Iron Plant (Aspidistra elatior)': 54,\n",
       "             'Chinese Money Plant (Pilea peperomioides)': 77,\n",
       "             'Chinese evergreen (Aglaonema)': 103,\n",
       "             'Christmas Cactus (Schlumbergera bridgesii)': 63,\n",
       "             'Chrysanthemum': 34,\n",
       "             'Ctenanthe': 44,\n",
       "             'Daffodils (Narcissus spp.)': 74,\n",
       "             'Dracaena': 41,\n",
       "             'Dumb Cane (Dieffenbachia spp.)': 109,\n",
       "             'Elephant Ear (Alocasia spp.)': 67,\n",
       "             'English Ivy (Hedera helix)': 48,\n",
       "             'Hyacinth (Hyacinthus orientalis)': 58,\n",
       "             'Iron Cross begonia (Begonia masoniana)': 54,\n",
       "             'Jade plant (Crassula ovata)': 71,\n",
       "             'Kalanchoe': 22,\n",
       "             'Lilium (Hemerocallis)': 65,\n",
       "             'Lily of the valley (Convallaria majalis)': 84,\n",
       "             'Money Tree (Pachira aquatica)': 72,\n",
       "             'Monstera Deliciosa (Monstera deliciosa)': 62,\n",
       "             'Orchid': 42,\n",
       "             'Parlor Palm (Chamaedorea elegans)': 66,\n",
       "             'Peace lily': 77,\n",
       "             'Poinsettia (Euphorbia pulcherrima)': 43,\n",
       "             'Polka Dot Plant (Hypoestes phyllostachya)': 69,\n",
       "             'Ponytail Palm (Beaucarnea recurvata)': 40,\n",
       "             'Pothos (Ivy arum)': 40,\n",
       "             'Prayer Plant (Maranta leuconeura)': 80,\n",
       "             'Rattlesnake Plant (Calathea lancifolia)': 64,\n",
       "             'Rubber Plant (Ficus elastica)': 59,\n",
       "             'Sago Palm (Cycas revoluta)': 41,\n",
       "             'Schefflera': 58,\n",
       "             'Snake plant (Sanseviera)': 80,\n",
       "             'Tradescantia': 59,\n",
       "             'Tulip': 59,\n",
       "             'Venus Flytrap': 40,\n",
       "             'Yucca': 13,\n",
       "             'ZZ Plant (Zamioculcas zamiifolia)': 88})"
      ]
     },
     "execution_count": 14,
     "metadata": {},
     "output_type": "execute_result"
    }
   ],
   "source": [
    "count_instances_per_class(validation_data)"
   ]
  },
  {
   "cell_type": "markdown",
   "metadata": {},
   "source": [
    "### Best architecture is **efficientnet_b5.sw_in12k** obtained with:\n",
    "\n",
    "###### \"color_jitter\", \"horizontal_flip\", \"brightness_contrast\", \"blur\"\n",
    "###### Trivial fc_layers => Lazylinear(512) => Linear(512, num_clases)\n",
    "###### Resize to 256 x 256 images\n",
    "###### ToFloat() and not Normalize"
   ]
  },
  {
   "cell_type": "markdown",
   "metadata": {},
   "source": [
    "### **New Change**\n",
    "####         for layer in [self.backbone.conv_head, self.backbone.bn2, self.backbone.global_pool]:\n",
    "####            for param in layer.parameters():\n",
    "####                param.requires_grad = True\n",
    "####  416 x 416 input images resizing\n"
   ]
  },
  {
   "cell_type": "markdown",
   "metadata": {},
   "source": [
    "### *New Color_Jitter*:\n",
    "\n",
    "#### Changed color_jitter to : \"color_jitter\": A.ColorJitter(brightness = 0.4, contrast = 0.4, saturation = 0.3, hue = 0.2, p = 0.7)\n",
    "#### from \"color_jitter\": A.ColorJitter(brightness = 0.2, contrast = 0.2, saturation = 0.2, hue = 0.1, p = 0.5),\n",
    "#### No center crop, added random_rotate in 15 degrees"
   ]
  },
  {
   "cell_type": "code",
   "execution_count": 15,
   "metadata": {},
   "outputs": [
    {
     "name": "stdout",
     "output_type": "stream",
     "text": [
      "Running experiment: efficientnet_b5.sw_in12k__bn_drp_unfreeze_416_cj_cp_b88_ff\n",
      "Using device: cuda\n"
     ]
    },
    {
     "data": {
      "text/html": [
       "Finishing last run (ID:edmazjwj) before initializing another..."
      ],
      "text/plain": [
       "<IPython.core.display.HTML object>"
      ]
     },
     "metadata": {},
     "output_type": "display_data"
    },
    {
     "data": {
      "application/vnd.jupyter.widget-view+json": {
       "model_id": "adf78aaf98d148deb02b7be1ae9cccad",
       "version_major": 2,
       "version_minor": 0
      },
      "text/plain": [
       "VBox(children=(Label(value='0.008 MB of 0.008 MB uploaded\\r'), FloatProgress(value=1.0, max=1.0)))"
      ]
     },
     "metadata": {},
     "output_type": "display_data"
    },
    {
     "data": {
      "text/html": [
       " View run <strong style=\"color:#cdcd00\">efficientnet_b5.sw_in12k__testing-experiment</strong> at: <a href='https://wandb.ai/benjaminrromo-universidad-adolfo-ib-ez/Tarea03_Deep_Learning/runs/edmazjwj' target=\"_blank\">https://wandb.ai/benjaminrromo-universidad-adolfo-ib-ez/Tarea03_Deep_Learning/runs/edmazjwj</a><br/> View project at: <a href='https://wandb.ai/benjaminrromo-universidad-adolfo-ib-ez/Tarea03_Deep_Learning' target=\"_blank\">https://wandb.ai/benjaminrromo-universidad-adolfo-ib-ez/Tarea03_Deep_Learning</a><br/>Synced 2 W&B file(s), 0 media file(s), 0 artifact file(s) and 0 other file(s)"
      ],
      "text/plain": [
       "<IPython.core.display.HTML object>"
      ]
     },
     "metadata": {},
     "output_type": "display_data"
    },
    {
     "data": {
      "text/html": [
       "Find logs at: <code>./wandb/run-20241203_223047-edmazjwj/logs</code>"
      ],
      "text/plain": [
       "<IPython.core.display.HTML object>"
      ]
     },
     "metadata": {},
     "output_type": "display_data"
    },
    {
     "data": {
      "text/html": [
       "Successfully finished last run (ID:edmazjwj). Initializing new run:<br/>"
      ],
      "text/plain": [
       "<IPython.core.display.HTML object>"
      ]
     },
     "metadata": {},
     "output_type": "display_data"
    },
    {
     "data": {
      "application/vnd.jupyter.widget-view+json": {
       "model_id": "9e762bc5d94641469842ec82abffeb18",
       "version_major": 2,
       "version_minor": 0
      },
      "text/plain": [
       "VBox(children=(Label(value='Waiting for wandb.init()...\\r'), FloatProgress(value=0.005556705400006952, max=1.0…"
      ]
     },
     "metadata": {},
     "output_type": "display_data"
    },
    {
     "data": {
      "text/html": [
       "Tracking run with wandb version 0.18.7"
      ],
      "text/plain": [
       "<IPython.core.display.HTML object>"
      ]
     },
     "metadata": {},
     "output_type": "display_data"
    },
    {
     "data": {
      "text/html": [
       "Run data is saved locally in <code>/home/josei/workspace/RN/Tarea03_Deep_Learning/wandb/run-20241203_233620-jf9xcieq</code>"
      ],
      "text/plain": [
       "<IPython.core.display.HTML object>"
      ]
     },
     "metadata": {},
     "output_type": "display_data"
    },
    {
     "data": {
      "text/html": [
       "Syncing run <strong><a href='https://wandb.ai/benjaminrromo-universidad-adolfo-ib-ez/Tarea03_Deep_Learning/runs/jf9xcieq' target=\"_blank\">efficientnet_b5.sw_in12k__bn_drp_unfreeze_416_cj_cp_b88_ff-experiment</a></strong> to <a href='https://wandb.ai/benjaminrromo-universidad-adolfo-ib-ez/Tarea03_Deep_Learning' target=\"_blank\">Weights & Biases</a> (<a href='https://wandb.me/developer-guide' target=\"_blank\">docs</a>)<br/>"
      ],
      "text/plain": [
       "<IPython.core.display.HTML object>"
      ]
     },
     "metadata": {},
     "output_type": "display_data"
    },
    {
     "data": {
      "text/html": [
       " View project at <a href='https://wandb.ai/benjaminrromo-universidad-adolfo-ib-ez/Tarea03_Deep_Learning' target=\"_blank\">https://wandb.ai/benjaminrromo-universidad-adolfo-ib-ez/Tarea03_Deep_Learning</a>"
      ],
      "text/plain": [
       "<IPython.core.display.HTML object>"
      ]
     },
     "metadata": {},
     "output_type": "display_data"
    },
    {
     "data": {
      "text/html": [
       " View run at <a href='https://wandb.ai/benjaminrromo-universidad-adolfo-ib-ez/Tarea03_Deep_Learning/runs/jf9xcieq' target=\"_blank\">https://wandb.ai/benjaminrromo-universidad-adolfo-ib-ez/Tarea03_Deep_Learning/runs/jf9xcieq</a>"
      ],
      "text/plain": [
       "<IPython.core.display.HTML object>"
      ]
     },
     "metadata": {},
     "output_type": "display_data"
    },
    {
     "name": "stdout",
     "output_type": "stream",
     "text": [
      "Initial max val_accuracy: 0.9609\n",
      "\n"
     ]
    },
    {
     "name": "stderr",
     "output_type": "stream",
     "text": [
      "  0%|          | 0/50 [00:06<?, ?it/s]\n"
     ]
    },
    {
     "name": "stdout",
     "output_type": "stream",
     "text": [
      "Error durante el experimento: CUDA out of memory. Tried to allocate 698.00 MiB. GPU 0 has a total capacity of 5.70 GiB of which 151.00 MiB is free. Process 9927 has 3.53 GiB memory in use. Including non-PyTorch memory, this process has 1.99 GiB memory in use. Of the allocated memory 1.84 GiB is allocated by PyTorch, and 9.37 MiB is reserved by PyTorch but unallocated. If reserved but unallocated memory is large try setting PYTORCH_CUDA_ALLOC_CONF=expandable_segments:True to avoid fragmentation.  See documentation for Memory Management  (https://pytorch.org/docs/stable/notes/cuda.html#environment-variables)\n",
      "Experimento terminado para efficientnet_b5.sw_in12k__bn_drp_unfreeze_416_cj_cp_b88_ff\n"
     ]
    }
   ],
   "source": [
    "run_experiment(\n",
    "    selected_transforms = [\"color_jitter\", \"horizontal_flip\", \"brightness_contrast\", \"noise\", \"blur\", \"random_rotate\"],\n",
    "    model_name = \"efficientnet_b5.sw_in12k\",\n",
    "    base_name = \"\",\n",
    "    extra_info = \"bn_drp_unfreeze_416_cj_cp_b88_ff\", \n",
    "    model_type = \"efficientnet_b5.sw_in12k\",\n",
    "    num_classes = 47,\n",
    "    training_params = {\"learning_rate\": 0.0003, \"batch_size\": 88, \"num_epochs\": 50},\n",
    "    frozen = True,\n",
    "    result_file = \"results/efficient_net.json\",\n",
    "    normalize = False,\n",
    "    use_float = True,\n",
    "    resize_size = 416  # Aquí defines dinámicamente el tamaño de `resize`\n",
    ")"
   ]
  },
  {
   "cell_type": "code",
   "execution_count": 16,
   "metadata": {},
   "outputs": [
    {
     "name": "stdout",
     "output_type": "stream",
     "text": [
      "El mejor modelo según max_val_acc es efficientnet_b5.sw_in12k__bn_drp_unfreeze_416_cj_cp_b88_ff con max_val_acc de 0.9608917832374573\n",
      "El mejor modelo según best_val_loss es efficientnet_b5.sw_in12k__bn_drp_unfreeze_416_cj_cp_b88_ff con best_val_loss de 0.14713793000555597\n"
     ]
    }
   ],
   "source": [
    "file_path = \"results/efficient_net.json\"\n",
    "criteria = [\"max_val_acc\", \"best_val_loss\"]\n",
    " \n",
    "for crit in criteria:\n",
    "    print(f\"El mejor modelo según {crit} es {find_best_model(file_path, crit)[\"architecture\"]} con {crit} de {find_best_model(file_path, crit)[f\"{crit}\"]}\")"
   ]
  }
 ],
 "metadata": {
  "kernelspec": {
   "display_name": "RNENV",
   "language": "python",
   "name": "rnenv"
  },
  "language_info": {
   "codemirror_mode": {
    "name": "ipython",
    "version": 3
   },
   "file_extension": ".py",
   "mimetype": "text/x-python",
   "name": "python",
   "nbconvert_exporter": "python",
   "pygments_lexer": "ipython3",
   "version": "3.12.7"
  }
 },
 "nbformat": 4,
 "nbformat_minor": 2
}
