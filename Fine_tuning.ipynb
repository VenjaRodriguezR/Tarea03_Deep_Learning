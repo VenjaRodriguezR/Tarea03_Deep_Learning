{
 "cells": [
  {
   "cell_type": "code",
   "execution_count": 1,
   "metadata": {},
   "outputs": [],
   "source": [
    "## No elimine esta celda, ya que permite actualizar los archivos .py\n",
    "## sin tener que reiniciar el Kernel de Jupyter.\n",
    "%load_ext autoreload\n",
    "%autoreload 2\n",
    "import albumentations as A\n",
    "from albumentations.pytorch import ToTensorV2\n",
    "from torchvision.datasets import ImageFolder\n",
    "import numpy as np\n",
    "import torch\n",
    "import timm\n",
    "from train import automate_training, find_best_model, testing, FrozenNet, run_experiment\n",
    "from transforms import Transforms\n",
    "from utils import plot_images, set_seed, count_instances_per_class\n",
    "import os\n",
    "from torch.utils.data import random_split\n",
    "import warnings\n",
    "\n",
    "\n",
    "warnings.filterwarnings(\"ignore\", message = \"Palette images with Transparency expressed in bytes should be converted to RGBA images\")\n",
    "os.environ[\"PYTORCH_CUDA_ALLOC_CONF\"] = \"expandable_segments:True\"\n",
    "device = torch.device(\"cuda\" if torch.cuda.is_available() else \"cpu\")\n",
    "torch.cuda.empty_cache()\n",
    "\n",
    "set_seed()\n"
   ]
  },
  {
   "cell_type": "code",
   "execution_count": null,
   "metadata": {},
   "outputs": [],
   "source": [
    "train_transforms = A.Compose(\n",
    "    [A.Resize(256, 256), A.ToFloat(), ToTensorV2()]\n",
    ")\n",
    "validation_transforms = A.Compose(\n",
    "    [A.Resize(256, 256), A.ToFloat(), ToTensorV2()]\n",
    ")\n",
    "\n",
    "\n",
    "train_data = ImageFolder(\n",
    "    \"house_plant_species/train\",\n",
    "    transform = Transforms(train_transforms),\n",
    ")\n",
    "validation_data = ImageFolder(\n",
    "    \"house_plant_species/validation\",\n",
    "    transform = Transforms(validation_transforms),\n",
    ")\n",
    "\n",
    "\n",
    "\n",
    "print(f\"Elementos en Entrenamiento: {len(train_data)}\")\n",
    "print(f\"Elementos en Validación: {len(validation_data)}\")\n",
    "print(f\"There are {len(train_data.classes)} classes!\")\n",
    "#\n",
    "\n",
    "# Llamar a las funciones\n",
    "class_counts = count_instances_per_class(train_data)\n",
    "\n",
    "# Calcular estadísticas\n",
    "class_instance_counts = np.array(list(class_counts.values()))\n",
    "mean_instances = np.mean(class_instance_counts)\n",
    "std_instances = np.std(class_instance_counts)\n",
    "min_instances = np.min(class_instance_counts)\n",
    "max_instances = np.max(class_instance_counts)\n",
    "\n",
    "# # Mostrar resultados\n",
    "# print(\"\\nInstancias por clase:\\n\")\n",
    "# for class_name, count in class_counts.items():\n",
    "#     print(f\"Clase {class_name}: {count} imágenes\\n===========================================\")\n",
    "\n",
    "print(\"\\nEstadísticas de las instancias por clase:\\n\")\n",
    "print(f\"Promedio de instancias:\\n============================== {mean_instances:.2f}\")\n",
    "print(f\"Desviación estándar:\\n============================== {std_instances:.2f}\")\n",
    "print(f\"Cantidad mínima de instancias:\\n============================== {min_instances}\")\n",
    "print(f\"Cantidad máxima de instancias:\\n============================== {max_instances}\")"
   ]
  },
  {
   "cell_type": "markdown",
   "metadata": {},
   "source": [
    "### Best architecture is **efficientnet_b5.sw_in12k** obtained with:\n",
    "\n",
    "###### \"color_jitter\", \"horizontal_flip\", \"brightness_contrast\", \"blur\"\n",
    "###### Trivial fc_layers => Lazylinear(512) => Linear(512, num_clases)\n",
    "###### Resize to 256 x 256 images\n",
    "###### ToFloat() and not Normalize"
   ]
  },
  {
   "cell_type": "markdown",
   "metadata": {},
   "source": [
    "#### Same architecture for FrozenNet, see new params just below"
   ]
  },
  {
   "cell_type": "code",
   "execution_count": null,
   "metadata": {},
   "outputs": [],
   "source": [
    "run_experiment(\n",
    "    selected_transforms = [\"center_crop\"],\n",
    "    model_name = \"efficientnet_b5.sw_in12k\",\n",
    "    base_name = \"\",\n",
    "    extra_info = \"new_functions\",\n",
    "    model_type = \"efficientnet_b5.sw_in12k\",\n",
    "    num_classes = 47,\n",
    "    training_params = {\"learning_rate\": 0.0003, \"batch_size\": 32, \"num_epochs\": 10},\n",
    "    frozen = True,\n",
    "    result_file = \"results/efficient_net.json\",\n",
    "    normalize = False,\n",
    "    use_float = True,\n",
    "    resize_size = 437  # Aquí defines dinámicamente el tamaño de `resize`\n",
    ")\n"
   ]
  },
  {
   "cell_type": "markdown",
   "metadata": {},
   "source": [
    "### More augments and Dropout\n",
    "###### self.fc_layers = nn.Sequential(\n",
    "###### nn.LazyLinear(512),   # Primera capa con menos parámetros\n",
    "###### nn.ReLU(),            # Activación no lineal para mayor capacidad expresiva\n",
    "###### nn.Dropout(0.3),      # Dropout para prevenir el sobreajuste (30% de unidades apagadas)\n",
    "###### nn.Linear(512, 256),  # Segunda capa intermedia más pequeña\n",
    "###### nn.ReLU(),            # Activación no lineal\n",
    "###### nn.Dropout(0.3),      # Dropout adicional para regularizar\n",
    "###### nn.Linear(256, self.num_classes)  # Capa final de salida\n",
    ")\n"
   ]
  },
  {
   "cell_type": "code",
   "execution_count": null,
   "metadata": {},
   "outputs": [],
   "source": [
    "run_experiment(\n",
    "    selected_transforms = [\"center_crop\", \"color_jitter\", \"horizontal_flip\", \"brightness_contrast\", \"noise\", \"blur\"],\n",
    "    model_name = \"efficientnet_b5.sw_in12k\",\n",
    "    base_name = \"\",\n",
    "    extra_info = \"lots_augments\",\n",
    "    model_type = \"efficientnet_b5.sw_in12k\",\n",
    "    num_classes = 47,\n",
    "    training_params = {\"learning_rate\": 0.0003, \"batch_size\": 32, \"num_epochs\": 50},\n",
    "    frozen = True,\n",
    "    result_file = \"results/efficient_net.json\",\n",
    "    normalize = False,\n",
    "    use_float = True,\n",
    "    resize_size = 437  # Aquí defines dinámicamente el tamaño de `resize`\n",
    ")"
   ]
  },
  {
   "cell_type": "markdown",
   "metadata": {},
   "source": [
    "#### Less augments with batch normalization"
   ]
  },
  {
   "cell_type": "markdown",
   "metadata": {},
   "source": [
    " ###### self.fc_layers = nn.Sequential(\n",
    " ######     nn.LazyLinear(512),          # Primera capa totalmente conectada\n",
    " ######     nn.BatchNorm1d(512),         # Normalización por lotes para la salida de la capa\n",
    " ######     nn.ReLU(),                   # Activación no lineal\n",
    " ######     nn.Dropout(0.3),             # Dropout para prevenir el sobreajuste\n",
    "\n",
    " ######     nn.Linear(512, 256),         # Segunda capa totalmente conectada más pequeña\n",
    " ######     nn.BatchNorm1d(256),         # Normalización por lotes\n",
    " ######     nn.ReLU(),                   # Activación no lineal\n",
    " ######     nn.Dropout(0.3),             # Dropout adicional para regularizar\n",
    " ######     nn.Linear(256, self.num_classes)  # Capa final de salida\n",
    " ###### )"
   ]
  },
  {
   "cell_type": "code",
   "execution_count": null,
   "metadata": {},
   "outputs": [],
   "source": [
    "run_experiment(\n",
    "    selected_transforms = [\"center_crop\", \"color_jitter\", \"horizontal_flip\", \"brightness_contrast\"],\n",
    "    model_name = \"efficientnet_b5.sw_in12k\",\n",
    "    base_name = \"\",\n",
    "    extra_info = \"batch_less\",\n",
    "    model_type = \"efficientnet_b5.sw_in12k\",\n",
    "    num_classes = 47,\n",
    "    training_params = {\"learning_rate\": 0.0003, \"batch_size\": 32, \"num_epochs\": 50},\n",
    "    frozen = True,\n",
    "    result_file = \"results/efficient_net.json\",\n",
    "    normalize = False,\n",
    "    use_float = True,\n",
    "    resize_size = 437  # Aquí defines dinámicamente el tamaño de `resize`\n",
    ")"
   ]
  },
  {
   "cell_type": "markdown",
   "metadata": {},
   "source": [
    "#### Only CenterCrop with BatchNorm and Dropout\n"
   ]
  },
  {
   "cell_type": "code",
   "execution_count": 2,
   "metadata": {},
   "outputs": [
    {
     "name": "stdout",
     "output_type": "stream",
     "text": [
      "Running experiment: efficientnet_b5.sw_in12k__center_bn_drp\n",
      "Using device: cuda\n"
     ]
    },
    {
     "name": "stderr",
     "output_type": "stream",
     "text": [
      "\u001b[34m\u001b[1mwandb\u001b[0m: Using wandb-core as the SDK backend.  Please refer to https://wandb.me/wandb-core for more information.\n",
      "\u001b[34m\u001b[1mwandb\u001b[0m: Currently logged in as: \u001b[33mjoseflores1\u001b[0m (\u001b[33mbenjaminrromo-universidad-adolfo-ib-ez\u001b[0m). Use \u001b[1m`wandb login --relogin`\u001b[0m to force relogin\n"
     ]
    },
    {
     "data": {
      "text/html": [
       "Tracking run with wandb version 0.18.7"
      ],
      "text/plain": [
       "<IPython.core.display.HTML object>"
      ]
     },
     "metadata": {},
     "output_type": "display_data"
    },
    {
     "data": {
      "text/html": [
       "Run data is saved locally in <code>/home/josei/workspace/RN/Tarea03_Deep_Learning/wandb/run-20241129_114203-f93u1yl9</code>"
      ],
      "text/plain": [
       "<IPython.core.display.HTML object>"
      ]
     },
     "metadata": {},
     "output_type": "display_data"
    },
    {
     "data": {
      "text/html": [
       "Syncing run <strong><a href='https://wandb.ai/benjaminrromo-universidad-adolfo-ib-ez/Tarea03_Deep_Learning/runs/f93u1yl9' target=\"_blank\">efficientnet_b5.sw_in12k__center_bn_drp-experiment</a></strong> to <a href='https://wandb.ai/benjaminrromo-universidad-adolfo-ib-ez/Tarea03_Deep_Learning' target=\"_blank\">Weights & Biases</a> (<a href='https://wandb.me/developer-guide' target=\"_blank\">docs</a>)<br/>"
      ],
      "text/plain": [
       "<IPython.core.display.HTML object>"
      ]
     },
     "metadata": {},
     "output_type": "display_data"
    },
    {
     "data": {
      "text/html": [
       " View project at <a href='https://wandb.ai/benjaminrromo-universidad-adolfo-ib-ez/Tarea03_Deep_Learning' target=\"_blank\">https://wandb.ai/benjaminrromo-universidad-adolfo-ib-ez/Tarea03_Deep_Learning</a>"
      ],
      "text/plain": [
       "<IPython.core.display.HTML object>"
      ]
     },
     "metadata": {},
     "output_type": "display_data"
    },
    {
     "data": {
      "text/html": [
       " View run at <a href='https://wandb.ai/benjaminrromo-universidad-adolfo-ib-ez/Tarea03_Deep_Learning/runs/f93u1yl9' target=\"_blank\">https://wandb.ai/benjaminrromo-universidad-adolfo-ib-ez/Tarea03_Deep_Learning/runs/f93u1yl9</a>"
      ],
      "text/plain": [
       "<IPython.core.display.HTML object>"
      ]
     },
     "metadata": {},
     "output_type": "display_data"
    },
    {
     "name": "stderr",
     "output_type": "stream",
     "text": [
      "  2%|▏         | 1/50 [02:39<2:10:33, 159.87s/it]"
     ]
    },
    {
     "name": "stdout",
     "output_type": "stream",
     "text": [
      "Epoch: 1/50 - Time: 159.68s - Train Loss: 1.4836, Train Accuracy: 0.7443 - Validation Loss: 0.5568, Validation Accuracy: 0.9054\n",
      "Model checkpoint saved at epoch 1\n"
     ]
    },
    {
     "name": "stderr",
     "output_type": "stream",
     "text": [
      "  4%|▍         | 2/50 [05:20<2:08:06, 160.13s/it]"
     ]
    },
    {
     "name": "stdout",
     "output_type": "stream",
     "text": [
      "Epoch: 2/50 - Time: 160.13s - Train Loss: 0.4291, Train Accuracy: 0.9232 - Validation Loss: 0.3185, Validation Accuracy: 0.9328\n",
      "Model checkpoint saved at epoch 2\n"
     ]
    },
    {
     "name": "stderr",
     "output_type": "stream",
     "text": [
      "  6%|▌         | 3/50 [08:02<2:06:15, 161.18s/it]"
     ]
    },
    {
     "name": "stdout",
     "output_type": "stream",
     "text": [
      "Epoch: 3/50 - Time: 162.31s - Train Loss: 0.2399, Train Accuracy: 0.9556 - Validation Loss: 0.2637, Validation Accuracy: 0.9406\n",
      "Model checkpoint saved at epoch 3\n"
     ]
    },
    {
     "name": "stderr",
     "output_type": "stream",
     "text": [
      "  8%|▊         | 4/50 [10:44<2:03:52, 161.57s/it]"
     ]
    },
    {
     "name": "stdout",
     "output_type": "stream",
     "text": [
      "Epoch: 4/50 - Time: 161.99s - Train Loss: 0.1588, Train Accuracy: 0.9689 - Validation Loss: 0.2425, Validation Accuracy: 0.9379\n",
      "Model checkpoint saved at epoch 4\n"
     ]
    },
    {
     "name": "stderr",
     "output_type": "stream",
     "text": [
      " 10%|█         | 5/50 [13:26<2:01:08, 161.52s/it]"
     ]
    },
    {
     "name": "stdout",
     "output_type": "stream",
     "text": [
      "Epoch: 5/50 - Time: 161.24s - Train Loss: 0.1163, Train Accuracy: 0.9764 - Validation Loss: 0.2308, Validation Accuracy: 0.9347\n",
      "Model checkpoint saved at epoch 5\n"
     ]
    },
    {
     "name": "stderr",
     "output_type": "stream",
     "text": [
      " 12%|█▏        | 6/50 [16:09<1:58:54, 162.15s/it]"
     ]
    },
    {
     "name": "stdout",
     "output_type": "stream",
     "text": [
      "Epoch: 6/50 - Time: 163.20s - Train Loss: 0.0846, Train Accuracy: 0.9822 - Validation Loss: 0.2290, Validation Accuracy: 0.9347\n",
      "Model checkpoint saved at epoch 6\n"
     ]
    },
    {
     "name": "stderr",
     "output_type": "stream",
     "text": [
      " 14%|█▍        | 7/50 [18:57<1:57:39, 164.18s/it]"
     ]
    },
    {
     "name": "stdout",
     "output_type": "stream",
     "text": [
      "Epoch: 7/50 - Time: 168.18s - Train Loss: 0.0710, Train Accuracy: 0.9859 - Validation Loss: 0.2212, Validation Accuracy: 0.9379\n",
      "Model checkpoint saved at epoch 7\n"
     ]
    },
    {
     "name": "stderr",
     "output_type": "stream",
     "text": [
      " 16%|█▌        | 8/50 [21:43<1:55:19, 164.76s/it]"
     ]
    },
    {
     "name": "stdout",
     "output_type": "stream",
     "text": [
      "Epoch: 8/50 - Time: 166.00s - Train Loss: 0.0615, Train Accuracy: 0.9860 - Validation Loss: 0.2297, Validation Accuracy: 0.9397\n"
     ]
    },
    {
     "name": "stderr",
     "output_type": "stream",
     "text": [
      " 18%|█▊        | 9/50 [24:29<1:52:40, 164.89s/it]"
     ]
    },
    {
     "name": "stdout",
     "output_type": "stream",
     "text": [
      "Epoch: 9/50 - Time: 165.18s - Train Loss: 0.0591, Train Accuracy: 0.9862 - Validation Loss: 0.2348, Validation Accuracy: 0.9383\n"
     ]
    },
    {
     "name": "stderr",
     "output_type": "stream",
     "text": [
      " 20%|██        | 10/50 [27:15<1:50:18, 165.46s/it]"
     ]
    },
    {
     "name": "stdout",
     "output_type": "stream",
     "text": [
      "Epoch: 10/50 - Time: 166.72s - Train Loss: 0.0507, Train Accuracy: 0.9873 - Validation Loss: 0.2392, Validation Accuracy: 0.9365\n"
     ]
    },
    {
     "name": "stderr",
     "output_type": "stream",
     "text": [
      " 22%|██▏       | 11/50 [30:06<1:48:39, 167.17s/it]"
     ]
    },
    {
     "name": "stdout",
     "output_type": "stream",
     "text": [
      "Epoch: 11/50 - Time: 171.04s - Train Loss: 0.0482, Train Accuracy: 0.9887 - Validation Loss: 0.2331, Validation Accuracy: 0.9347\n"
     ]
    },
    {
     "name": "stderr",
     "output_type": "stream",
     "text": [
      " 24%|██▍       | 12/50 [33:06<1:48:13, 170.88s/it]"
     ]
    },
    {
     "name": "stdout",
     "output_type": "stream",
     "text": [
      "Epoch: 12/50 - Time: 179.36s - Train Loss: 0.0396, Train Accuracy: 0.9905 - Validation Loss: 0.2437, Validation Accuracy: 0.9370\n"
     ]
    },
    {
     "name": "stderr",
     "output_type": "stream",
     "text": [
      " 26%|██▌       | 13/50 [35:46<1:43:28, 167.80s/it]"
     ]
    },
    {
     "name": "stdout",
     "output_type": "stream",
     "text": [
      "Epoch: 13/50 - Time: 160.71s - Train Loss: 0.0433, Train Accuracy: 0.9885 - Validation Loss: 0.2567, Validation Accuracy: 0.9296\n"
     ]
    },
    {
     "name": "stderr",
     "output_type": "stream",
     "text": [
      " 28%|██▊       | 14/50 [38:30<1:39:51, 166.43s/it]"
     ]
    },
    {
     "name": "stdout",
     "output_type": "stream",
     "text": [
      "Epoch: 14/50 - Time: 163.28s - Train Loss: 0.0397, Train Accuracy: 0.9896 - Validation Loss: 0.2487, Validation Accuracy: 0.9296\n"
     ]
    },
    {
     "name": "stderr",
     "output_type": "stream",
     "text": [
      " 30%|███       | 15/50 [41:12<1:36:17, 165.08s/it]"
     ]
    },
    {
     "name": "stdout",
     "output_type": "stream",
     "text": [
      "Epoch: 15/50 - Time: 161.92s - Train Loss: 0.0358, Train Accuracy: 0.9906 - Validation Loss: 0.2465, Validation Accuracy: 0.9351\n"
     ]
    },
    {
     "name": "stderr",
     "output_type": "stream",
     "text": [
      " 32%|███▏      | 16/50 [43:57<1:33:32, 165.08s/it]"
     ]
    },
    {
     "name": "stdout",
     "output_type": "stream",
     "text": [
      "Epoch: 16/50 - Time: 165.10s - Train Loss: 0.0371, Train Accuracy: 0.9900 - Validation Loss: 0.2443, Validation Accuracy: 0.9388\n"
     ]
    },
    {
     "name": "stderr",
     "output_type": "stream",
     "text": [
      " 32%|███▏      | 16/50 [46:42<1:39:16, 175.18s/it]"
     ]
    },
    {
     "name": "stdout",
     "output_type": "stream",
     "text": [
      "Epoch: 17/50 - Time: 165.61s - Train Loss: 0.0384, Train Accuracy: 0.9891 - Validation Loss: 0.2557, Validation Accuracy: 0.9324\n",
      "Early stopping triggered at epoch 7. Best Validation Loss: 0.2212\n"
     ]
    },
    {
     "name": "stderr",
     "output_type": "stream",
     "text": [
      "\n"
     ]
    },
    {
     "data": {
      "text/html": [
       "\n",
       "    <style>\n",
       "        .wandb-row {\n",
       "            display: flex;\n",
       "            flex-direction: row;\n",
       "            flex-wrap: wrap;\n",
       "            justify-content: flex-start;\n",
       "            width: 100%;\n",
       "        }\n",
       "        .wandb-col {\n",
       "            display: flex;\n",
       "            flex-direction: column;\n",
       "            flex-basis: 100%;\n",
       "            flex: 1;\n",
       "            padding: 10px;\n",
       "        }\n",
       "    </style>\n",
       "<div class=\"wandb-row\"><div class=\"wandb-col\"><h3>Run history:</h3><br/><table class=\"wandb\"><tr><td>elapsed_time</td><td>▁▁▂▂▂▂▄▃▃▄▅█▁▂▂▃▃</td></tr><tr><td>epoch</td><td>▁▁▂▂▃▃▄▄▅▅▅▆▆▇▇██</td></tr><tr><td>train_acc</td><td>▁▆▇▇█████████████</td></tr><tr><td>train_loss</td><td>█▃▂▂▁▁▁▁▁▁▁▁▁▁▁▁▁</td></tr><tr><td>val_acc</td><td>▁▆█▇▇▇▇██▇▇▇▆▆▇█▆</td></tr><tr><td>val_loss</td><td>█▃▂▁▁▁▁▁▁▁▁▁▂▂▂▁▂</td></tr></table><br/></div><div class=\"wandb-col\"><h3>Run summary:</h3><br/><table class=\"wandb\"><tr><td>elapsed_time</td><td>165.60526</td></tr><tr><td>epoch</td><td>17</td></tr><tr><td>train_acc</td><td>0.98909</td></tr><tr><td>train_loss</td><td>0.0384</td></tr><tr><td>val_acc</td><td>0.93239</td></tr><tr><td>val_loss</td><td>0.25574</td></tr></table><br/></div></div>"
      ],
      "text/plain": [
       "<IPython.core.display.HTML object>"
      ]
     },
     "metadata": {},
     "output_type": "display_data"
    },
    {
     "data": {
      "text/html": [
       " View run <strong style=\"color:#cdcd00\">efficientnet_b5.sw_in12k__center_bn_drp-experiment</strong> at: <a href='https://wandb.ai/benjaminrromo-universidad-adolfo-ib-ez/Tarea03_Deep_Learning/runs/f93u1yl9' target=\"_blank\">https://wandb.ai/benjaminrromo-universidad-adolfo-ib-ez/Tarea03_Deep_Learning/runs/f93u1yl9</a><br/> View project at: <a href='https://wandb.ai/benjaminrromo-universidad-adolfo-ib-ez/Tarea03_Deep_Learning' target=\"_blank\">https://wandb.ai/benjaminrromo-universidad-adolfo-ib-ez/Tarea03_Deep_Learning</a><br/>Synced 5 W&B file(s), 0 media file(s), 0 artifact file(s) and 0 other file(s)"
      ],
      "text/plain": [
       "<IPython.core.display.HTML object>"
      ]
     },
     "metadata": {},
     "output_type": "display_data"
    },
    {
     "data": {
      "text/html": [
       "Find logs at: <code>./wandb/run-20241129_114203-f93u1yl9/logs</code>"
      ],
      "text/plain": [
       "<IPython.core.display.HTML object>"
      ]
     },
     "metadata": {},
     "output_type": "display_data"
    },
    {
     "name": "stdout",
     "output_type": "stream",
     "text": [
      "\n",
      "=== Evaluación en el conjunto de prueba ===\n",
      "Test Accuracy: 0.94150\n",
      "Results to save: {'architecture': 'efficientnet_b5.sw_in12k__center_bn_drp', 'model_type': 'efficientnet_b5.sw_in12k', 'best_epoch': 7, 'best_val_loss': 0.22122688015140052, 'best_train_loss': 0.07095233075039671, 'max_val_acc': 0.9406121373176575, 'test_accuracy': 0.9414991140365601, 'training_params': {'learning_rate': 0.0003, 'batch_size': 32, 'num_epochs': 50}}\n",
      "Resultados guardados correctamente en results/efficient_net.json\n",
      "Experimento terminado para efficientnet_b5.sw_in12k__center_bn_drp\n"
     ]
    }
   ],
   "source": [
    "run_experiment(\n",
    "    selected_transforms = [\"center_crop\"],\n",
    "    model_name = \"efficientnet_b5.sw_in12k\",\n",
    "    base_name = \"\",\n",
    "    extra_info = \"center_bn_drp\",\n",
    "    model_type = \"efficientnet_b5.sw_in12k\",\n",
    "    num_classes = 47,\n",
    "    training_params = {\"learning_rate\": 0.0003, \"batch_size\": 32, \"num_epochs\": 50},\n",
    "    frozen = True,\n",
    "    result_file = \"results/efficient_net.json\",\n",
    "    normalize = False,\n",
    "    use_float = True,\n",
    "    resize_size = 437  # Aquí defines dinámicamente el tamaño de `resize`\n",
    ")\n"
   ]
  },
  {
   "cell_type": "markdown",
   "metadata": {},
   "source": [
    "#### Same architecture but with lots of augs"
   ]
  },
  {
   "cell_type": "code",
   "execution_count": 2,
   "metadata": {},
   "outputs": [
    {
     "name": "stdout",
     "output_type": "stream",
     "text": [
      "Running experiment: efficientnet_b5.sw_in12k__lots_aug_bn_drp\n",
      "Using device: cuda\n"
     ]
    },
    {
     "name": "stderr",
     "output_type": "stream",
     "text": [
      "\u001b[34m\u001b[1mwandb\u001b[0m: Using wandb-core as the SDK backend.  Please refer to https://wandb.me/wandb-core for more information.\n",
      "\u001b[34m\u001b[1mwandb\u001b[0m: Currently logged in as: \u001b[33mjoseflores1\u001b[0m (\u001b[33mbenjaminrromo-universidad-adolfo-ib-ez\u001b[0m). Use \u001b[1m`wandb login --relogin`\u001b[0m to force relogin\n"
     ]
    },
    {
     "data": {
      "text/html": [
       "Tracking run with wandb version 0.18.7"
      ],
      "text/plain": [
       "<IPython.core.display.HTML object>"
      ]
     },
     "metadata": {},
     "output_type": "display_data"
    },
    {
     "data": {
      "text/html": [
       "Run data is saved locally in <code>/home/josei/workspace/RN/Tarea03_Deep_Learning/wandb/run-20241129_123419-e3chcomo</code>"
      ],
      "text/plain": [
       "<IPython.core.display.HTML object>"
      ]
     },
     "metadata": {},
     "output_type": "display_data"
    },
    {
     "data": {
      "text/html": [
       "Syncing run <strong><a href='https://wandb.ai/benjaminrromo-universidad-adolfo-ib-ez/Tarea03_Deep_Learning/runs/e3chcomo' target=\"_blank\">efficientnet_b5.sw_in12k__lots_aug_bn_drp-experiment</a></strong> to <a href='https://wandb.ai/benjaminrromo-universidad-adolfo-ib-ez/Tarea03_Deep_Learning' target=\"_blank\">Weights & Biases</a> (<a href='https://wandb.me/developer-guide' target=\"_blank\">docs</a>)<br/>"
      ],
      "text/plain": [
       "<IPython.core.display.HTML object>"
      ]
     },
     "metadata": {},
     "output_type": "display_data"
    },
    {
     "data": {
      "text/html": [
       " View project at <a href='https://wandb.ai/benjaminrromo-universidad-adolfo-ib-ez/Tarea03_Deep_Learning' target=\"_blank\">https://wandb.ai/benjaminrromo-universidad-adolfo-ib-ez/Tarea03_Deep_Learning</a>"
      ],
      "text/plain": [
       "<IPython.core.display.HTML object>"
      ]
     },
     "metadata": {},
     "output_type": "display_data"
    },
    {
     "data": {
      "text/html": [
       " View run at <a href='https://wandb.ai/benjaminrromo-universidad-adolfo-ib-ez/Tarea03_Deep_Learning/runs/e3chcomo' target=\"_blank\">https://wandb.ai/benjaminrromo-universidad-adolfo-ib-ez/Tarea03_Deep_Learning/runs/e3chcomo</a>"
      ],
      "text/plain": [
       "<IPython.core.display.HTML object>"
      ]
     },
     "metadata": {},
     "output_type": "display_data"
    },
    {
     "name": "stderr",
     "output_type": "stream",
     "text": [
      "  0%|          | 0/50 [00:00<?, ?it/s]"
     ]
    },
    {
     "name": "stdout",
     "output_type": "stream",
     "text": [
      "Epoch: 1/50 - Time: 159.91s - Train Loss: 1.5699, Train Accuracy: 0.7210 - Validation Loss: 0.5366, Validation Accuracy: 0.9095\n"
     ]
    },
    {
     "name": "stderr",
     "output_type": "stream",
     "text": [
      "  2%|▏         | 1/50 [02:40<2:10:45, 160.12s/it]"
     ]
    },
    {
     "name": "stdout",
     "output_type": "stream",
     "text": [
      "Model checkpoint saved at epoch 1\n",
      "Epoch: 2/50 - Time: 159.81s - Train Loss: 0.5121, Train Accuracy: 0.9056 - Validation Loss: 0.2990, Validation Accuracy: 0.9342\n"
     ]
    },
    {
     "name": "stderr",
     "output_type": "stream",
     "text": [
      "  4%|▍         | 2/50 [05:20<2:08:03, 160.06s/it]"
     ]
    },
    {
     "name": "stdout",
     "output_type": "stream",
     "text": [
      "Model checkpoint saved at epoch 2\n"
     ]
    },
    {
     "name": "stderr",
     "output_type": "stream",
     "text": [
      "  6%|▌         | 3/50 [08:07<2:08:02, 163.46s/it]"
     ]
    },
    {
     "name": "stdout",
     "output_type": "stream",
     "text": [
      "Epoch: 3/50 - Time: 167.31s - Train Loss: 0.3216, Train Accuracy: 0.9320 - Validation Loss: 0.2367, Validation Accuracy: 0.9392\n",
      "Model checkpoint saved at epoch 3\n"
     ]
    },
    {
     "name": "stderr",
     "output_type": "stream",
     "text": [
      "  8%|▊         | 4/50 [10:56<2:06:54, 165.54s/it]"
     ]
    },
    {
     "name": "stdout",
     "output_type": "stream",
     "text": [
      "Epoch: 4/50 - Time: 168.54s - Train Loss: 0.2438, Train Accuracy: 0.9419 - Validation Loss: 0.2193, Validation Accuracy: 0.9447\n",
      "Model checkpoint saved at epoch 4\n"
     ]
    },
    {
     "name": "stderr",
     "output_type": "stream",
     "text": [
      " 10%|█         | 5/50 [13:45<2:05:15, 167.01s/it]"
     ]
    },
    {
     "name": "stdout",
     "output_type": "stream",
     "text": [
      "Epoch: 5/50 - Time: 169.42s - Train Loss: 0.1950, Train Accuracy: 0.9530 - Validation Loss: 0.1979, Validation Accuracy: 0.9415\n",
      "Model checkpoint saved at epoch 5\n"
     ]
    },
    {
     "name": "stderr",
     "output_type": "stream",
     "text": [
      " 12%|█▏        | 6/50 [16:29<2:01:36, 165.84s/it]"
     ]
    },
    {
     "name": "stdout",
     "output_type": "stream",
     "text": [
      "Epoch: 6/50 - Time: 163.57s - Train Loss: 0.1728, Train Accuracy: 0.9541 - Validation Loss: 0.2041, Validation Accuracy: 0.9374\n",
      "Epoch: 7/50 - Time: 162.92s - Train Loss: 0.1508, Train Accuracy: 0.9594 - Validation Loss: 0.1948, Validation Accuracy: 0.9443\n"
     ]
    },
    {
     "name": "stderr",
     "output_type": "stream",
     "text": [
      " 14%|█▍        | 7/50 [19:12<1:58:13, 164.95s/it]"
     ]
    },
    {
     "name": "stdout",
     "output_type": "stream",
     "text": [
      "Model checkpoint saved at epoch 7\n"
     ]
    },
    {
     "name": "stderr",
     "output_type": "stream",
     "text": [
      " 16%|█▌        | 8/50 [22:00<1:56:04, 165.81s/it]"
     ]
    },
    {
     "name": "stdout",
     "output_type": "stream",
     "text": [
      "Epoch: 8/50 - Time: 167.63s - Train Loss: 0.1293, Train Accuracy: 0.9651 - Validation Loss: 0.1982, Validation Accuracy: 0.9461\n",
      "Epoch: 9/50 - Time: 166.19s - Train Loss: 0.1213, Train Accuracy: 0.9663 - Validation Loss: 0.1897, Validation Accuracy: 0.9484\n"
     ]
    },
    {
     "name": "stderr",
     "output_type": "stream",
     "text": [
      " 18%|█▊        | 9/50 [24:46<1:53:25, 166.00s/it]"
     ]
    },
    {
     "name": "stdout",
     "output_type": "stream",
     "text": [
      "Model checkpoint saved at epoch 9\n"
     ]
    },
    {
     "name": "stderr",
     "output_type": "stream",
     "text": [
      " 20%|██        | 10/50 [27:34<1:51:06, 166.65s/it]"
     ]
    },
    {
     "name": "stdout",
     "output_type": "stream",
     "text": [
      "Epoch: 10/50 - Time: 168.12s - Train Loss: 0.1121, Train Accuracy: 0.9700 - Validation Loss: 0.2063, Validation Accuracy: 0.9466\n"
     ]
    },
    {
     "name": "stderr",
     "output_type": "stream",
     "text": [
      " 22%|██▏       | 11/50 [30:23<1:48:46, 167.35s/it]"
     ]
    },
    {
     "name": "stdout",
     "output_type": "stream",
     "text": [
      "Epoch: 11/50 - Time: 168.94s - Train Loss: 0.1107, Train Accuracy: 0.9684 - Validation Loss: 0.1940, Validation Accuracy: 0.9411\n"
     ]
    },
    {
     "name": "stderr",
     "output_type": "stream",
     "text": [
      " 24%|██▍       | 12/50 [33:07<1:45:21, 166.35s/it]"
     ]
    },
    {
     "name": "stdout",
     "output_type": "stream",
     "text": [
      "Epoch: 12/50 - Time: 164.04s - Train Loss: 0.0945, Train Accuracy: 0.9735 - Validation Loss: 0.2018, Validation Accuracy: 0.9438\n"
     ]
    },
    {
     "name": "stderr",
     "output_type": "stream",
     "text": [
      " 26%|██▌       | 13/50 [36:06<1:44:51, 170.04s/it]"
     ]
    },
    {
     "name": "stdout",
     "output_type": "stream",
     "text": [
      "Epoch: 13/50 - Time: 178.53s - Train Loss: 0.0966, Train Accuracy: 0.9717 - Validation Loss: 0.2015, Validation Accuracy: 0.9452\n"
     ]
    },
    {
     "name": "stderr",
     "output_type": "stream",
     "text": [
      " 28%|██▊       | 14/50 [38:52<1:41:14, 168.74s/it]"
     ]
    },
    {
     "name": "stdout",
     "output_type": "stream",
     "text": [
      "Epoch: 14/50 - Time: 165.71s - Train Loss: 0.0885, Train Accuracy: 0.9743 - Validation Loss: 0.2031, Validation Accuracy: 0.9434\n"
     ]
    },
    {
     "name": "stderr",
     "output_type": "stream",
     "text": [
      " 28%|██▊       | 14/50 [41:37<1:47:02, 178.40s/it]"
     ]
    },
    {
     "name": "stdout",
     "output_type": "stream",
     "text": [
      "Epoch: 15/50 - Time: 165.53s - Train Loss: 0.0815, Train Accuracy: 0.9752 - Validation Loss: 0.2057, Validation Accuracy: 0.9479\n",
      "Early stopping triggered at epoch 5. Best Validation Loss: 0.1897\n"
     ]
    },
    {
     "name": "stderr",
     "output_type": "stream",
     "text": [
      "\n"
     ]
    },
    {
     "data": {
      "application/vnd.jupyter.widget-view+json": {
       "model_id": "72b631cd8fc64548a5102ea150ec88ec",
       "version_major": 2,
       "version_minor": 0
      },
      "text/plain": [
       "VBox(children=(Label(value='0.011 MB of 0.011 MB uploaded\\r'), FloatProgress(value=1.0, max=1.0)))"
      ]
     },
     "metadata": {},
     "output_type": "display_data"
    },
    {
     "data": {
      "text/html": [
       "\n",
       "    <style>\n",
       "        .wandb-row {\n",
       "            display: flex;\n",
       "            flex-direction: row;\n",
       "            flex-wrap: wrap;\n",
       "            justify-content: flex-start;\n",
       "            width: 100%;\n",
       "        }\n",
       "        .wandb-col {\n",
       "            display: flex;\n",
       "            flex-direction: column;\n",
       "            flex-basis: 100%;\n",
       "            flex: 1;\n",
       "            padding: 10px;\n",
       "        }\n",
       "    </style>\n",
       "<div class=\"wandb-row\"><div class=\"wandb-col\"><h3>Run history:</h3><br/><table class=\"wandb\"><tr><td>elapsed_time</td><td>▁▁▄▄▅▂▂▄▃▄▄▃█▃▃</td></tr><tr><td>epoch</td><td>▁▁▂▃▃▃▄▅▅▅▆▇▇▇█</td></tr><tr><td>train_acc</td><td>▁▆▇▇▇▇█████████</td></tr><tr><td>train_loss</td><td>█▃▂▂▂▁▁▁▁▁▁▁▁▁▁</td></tr><tr><td>val_acc</td><td>▁▅▆▇▇▆▇███▇▇▇▇█</td></tr><tr><td>val_loss</td><td>█▃▂▂▁▁▁▁▁▁▁▁▁▁▁</td></tr></table><br/></div><div class=\"wandb-col\"><h3>Run summary:</h3><br/><table class=\"wandb\"><tr><td>elapsed_time</td><td>165.52949</td></tr><tr><td>epoch</td><td>15</td></tr><tr><td>train_acc</td><td>0.97522</td></tr><tr><td>train_loss</td><td>0.08153</td></tr><tr><td>val_acc</td><td>0.94792</td></tr><tr><td>val_loss</td><td>0.20569</td></tr></table><br/></div></div>"
      ],
      "text/plain": [
       "<IPython.core.display.HTML object>"
      ]
     },
     "metadata": {},
     "output_type": "display_data"
    },
    {
     "data": {
      "text/html": [
       " View run <strong style=\"color:#cdcd00\">efficientnet_b5.sw_in12k__lots_aug_bn_drp-experiment</strong> at: <a href='https://wandb.ai/benjaminrromo-universidad-adolfo-ib-ez/Tarea03_Deep_Learning/runs/e3chcomo' target=\"_blank\">https://wandb.ai/benjaminrromo-universidad-adolfo-ib-ez/Tarea03_Deep_Learning/runs/e3chcomo</a><br/> View project at: <a href='https://wandb.ai/benjaminrromo-universidad-adolfo-ib-ez/Tarea03_Deep_Learning' target=\"_blank\">https://wandb.ai/benjaminrromo-universidad-adolfo-ib-ez/Tarea03_Deep_Learning</a><br/>Synced 5 W&B file(s), 0 media file(s), 0 artifact file(s) and 0 other file(s)"
      ],
      "text/plain": [
       "<IPython.core.display.HTML object>"
      ]
     },
     "metadata": {},
     "output_type": "display_data"
    },
    {
     "data": {
      "text/html": [
       "Find logs at: <code>./wandb/run-20241129_123419-e3chcomo/logs</code>"
      ],
      "text/plain": [
       "<IPython.core.display.HTML object>"
      ]
     },
     "metadata": {},
     "output_type": "display_data"
    },
    {
     "name": "stdout",
     "output_type": "stream",
     "text": [
      "\n",
      "=== Evaluación en el conjunto de prueba ===\n",
      "Test Accuracy: 0.95247\n",
      "Results to save: {'architecture': 'efficientnet_b5.sw_in12k__lots_aug_bn_drp', 'model_type': 'efficientnet_b5.sw_in12k', 'best_epoch': 9, 'best_val_loss': 0.1896509627636144, 'best_train_loss': 0.12131835857803035, 'max_val_acc': 0.9483782649040222, 'test_accuracy': 0.9524679780006409, 'training_params': {'learning_rate': 0.0003, 'batch_size': 32, 'num_epochs': 50}}\n",
      "Resultados guardados correctamente en results/efficient_net.json\n",
      "Experimento terminado para efficientnet_b5.sw_in12k__lots_aug_bn_drp\n"
     ]
    }
   ],
   "source": [
    "run_experiment(\n",
    "    selected_transforms = [\"center_crop\", \"color_jitter\", \"horizontal_flip\", \"brightness_contrast\", \"noise\", \"blur\"],\n",
    "    model_name = \"efficientnet_b5.sw_in12k\",\n",
    "    base_name = \"\",\n",
    "    extra_info = \"lots_aug_bn_drp\", \n",
    "    model_type = \"efficientnet_b5.sw_in12k\",\n",
    "    num_classes = 47,\n",
    "    training_params = {\"learning_rate\": 0.0003, \"batch_size\": 32, \"num_epochs\": 50},\n",
    "    frozen = True,\n",
    "    result_file = \"results/efficient_net.json\",\n",
    "    normalize = False,\n",
    "    use_float = True,\n",
    "    resize_size = 437  # Aquí defines dinámicamente el tamaño de `resize`\n",
    ")"
   ]
  },
  {
   "cell_type": "markdown",
   "metadata": {},
   "source": [
    "### Same architecture but with weight decay of 1e-4"
   ]
  },
  {
   "cell_type": "code",
   "execution_count": 2,
   "metadata": {},
   "outputs": [
    {
     "name": "stdout",
     "output_type": "stream",
     "text": [
      "Running experiment: efficientnet_b5.sw_in12k__lots_aug_bn_drp_wd\n",
      "Using device: cuda\n"
     ]
    },
    {
     "name": "stderr",
     "output_type": "stream",
     "text": [
      "\u001b[34m\u001b[1mwandb\u001b[0m: Using wandb-core as the SDK backend.  Please refer to https://wandb.me/wandb-core for more information.\n",
      "\u001b[34m\u001b[1mwandb\u001b[0m: Currently logged in as: \u001b[33mjoseflores1\u001b[0m (\u001b[33mbenjaminrromo-universidad-adolfo-ib-ez\u001b[0m). Use \u001b[1m`wandb login --relogin`\u001b[0m to force relogin\n"
     ]
    },
    {
     "data": {
      "text/html": [
       "Tracking run with wandb version 0.18.7"
      ],
      "text/plain": [
       "<IPython.core.display.HTML object>"
      ]
     },
     "metadata": {},
     "output_type": "display_data"
    },
    {
     "data": {
      "text/html": [
       "Run data is saved locally in <code>/home/josei/workspace/RN/Tarea03_Deep_Learning/wandb/run-20241129_132524-4kx5z7br</code>"
      ],
      "text/plain": [
       "<IPython.core.display.HTML object>"
      ]
     },
     "metadata": {},
     "output_type": "display_data"
    },
    {
     "data": {
      "text/html": [
       "Syncing run <strong><a href='https://wandb.ai/benjaminrromo-universidad-adolfo-ib-ez/Tarea03_Deep_Learning/runs/4kx5z7br' target=\"_blank\">efficientnet_b5.sw_in12k__lots_aug_bn_drp_wd-experiment</a></strong> to <a href='https://wandb.ai/benjaminrromo-universidad-adolfo-ib-ez/Tarea03_Deep_Learning' target=\"_blank\">Weights & Biases</a> (<a href='https://wandb.me/developer-guide' target=\"_blank\">docs</a>)<br/>"
      ],
      "text/plain": [
       "<IPython.core.display.HTML object>"
      ]
     },
     "metadata": {},
     "output_type": "display_data"
    },
    {
     "data": {
      "text/html": [
       " View project at <a href='https://wandb.ai/benjaminrromo-universidad-adolfo-ib-ez/Tarea03_Deep_Learning' target=\"_blank\">https://wandb.ai/benjaminrromo-universidad-adolfo-ib-ez/Tarea03_Deep_Learning</a>"
      ],
      "text/plain": [
       "<IPython.core.display.HTML object>"
      ]
     },
     "metadata": {},
     "output_type": "display_data"
    },
    {
     "data": {
      "text/html": [
       " View run at <a href='https://wandb.ai/benjaminrromo-universidad-adolfo-ib-ez/Tarea03_Deep_Learning/runs/4kx5z7br' target=\"_blank\">https://wandb.ai/benjaminrromo-universidad-adolfo-ib-ez/Tarea03_Deep_Learning/runs/4kx5z7br</a>"
      ],
      "text/plain": [
       "<IPython.core.display.HTML object>"
      ]
     },
     "metadata": {},
     "output_type": "display_data"
    },
    {
     "name": "stderr",
     "output_type": "stream",
     "text": [
      "  2%|▏         | 1/50 [02:39<2:10:07, 159.34s/it]"
     ]
    },
    {
     "name": "stdout",
     "output_type": "stream",
     "text": [
      "Epoch: 1/50 - Time: 159.15s - Train Loss: 1.5762, Train Accuracy: 0.7160 - Validation Loss: 0.5315, Validation Accuracy: 0.9063\n",
      "Model checkpoint saved at epoch 1\n",
      "Epoch: 2/50 - Time: 159.08s - Train Loss: 0.5131, Train Accuracy: 0.9027 - Validation Loss: 0.3046, Validation Accuracy: 0.9333\n"
     ]
    },
    {
     "name": "stderr",
     "output_type": "stream",
     "text": [
      "  4%|▍         | 2/50 [05:18<2:07:29, 159.36s/it]"
     ]
    },
    {
     "name": "stdout",
     "output_type": "stream",
     "text": [
      "Model checkpoint saved at epoch 2\n"
     ]
    },
    {
     "name": "stderr",
     "output_type": "stream",
     "text": [
      "  6%|▌         | 3/50 [07:59<2:05:24, 160.09s/it]"
     ]
    },
    {
     "name": "stdout",
     "output_type": "stream",
     "text": [
      "Epoch: 3/50 - Time: 160.78s - Train Loss: 0.3221, Train Accuracy: 0.9311 - Validation Loss: 0.2390, Validation Accuracy: 0.9411\n",
      "Model checkpoint saved at epoch 3\n",
      "Epoch: 4/50 - Time: 173.25s - Train Loss: 0.2348, Train Accuracy: 0.9482 - Validation Loss: 0.2162, Validation Accuracy: 0.9388\n",
      "Model checkpoint saved at epoch 4\n"
     ]
    },
    {
     "name": "stderr",
     "output_type": "stream",
     "text": [
      " 10%|█         | 5/50 [13:36<2:03:22, 164.50s/it]"
     ]
    },
    {
     "name": "stdout",
     "output_type": "stream",
     "text": [
      "Epoch: 5/50 - Time: 162.76s - Train Loss: 0.1976, Train Accuracy: 0.9526 - Validation Loss: 0.2079, Validation Accuracy: 0.9420\n",
      "Model checkpoint saved at epoch 5\n"
     ]
    },
    {
     "name": "stderr",
     "output_type": "stream",
     "text": [
      " 12%|█▏        | 6/50 [16:19<2:00:17, 164.04s/it]"
     ]
    },
    {
     "name": "stdout",
     "output_type": "stream",
     "text": [
      "Epoch: 6/50 - Time: 162.98s - Train Loss: 0.1649, Train Accuracy: 0.9568 - Validation Loss: 0.2042, Validation Accuracy: 0.9434\n",
      "Model checkpoint saved at epoch 6\n",
      "Epoch: 7/50 - Time: 164.60s - Train Loss: 0.1448, Train Accuracy: 0.9629 - Validation Loss: 0.1911, Validation Accuracy: 0.9479\n",
      "Model checkpoint saved at epoch 7\n"
     ]
    },
    {
     "name": "stderr",
     "output_type": "stream",
     "text": [
      " 14%|█▍        | 7/50 [19:04<1:57:44, 164.29s/it]"
     ]
    },
    {
     "name": "stdout",
     "output_type": "stream",
     "text": [
      "Epoch: 8/50 - Time: 167.33s - Train Loss: 0.1310, Train Accuracy: 0.9665 - Validation Loss: 0.1906, Validation Accuracy: 0.9470\n"
     ]
    },
    {
     "name": "stderr",
     "output_type": "stream",
     "text": [
      " 16%|█▌        | 8/50 [21:51<1:55:44, 165.35s/it]"
     ]
    },
    {
     "name": "stdout",
     "output_type": "stream",
     "text": [
      "Model checkpoint saved at epoch 8\n"
     ]
    },
    {
     "name": "stderr",
     "output_type": "stream",
     "text": [
      " 18%|█▊        | 9/50 [24:47<1:55:10, 168.55s/it]"
     ]
    },
    {
     "name": "stdout",
     "output_type": "stream",
     "text": [
      "Epoch: 9/50 - Time: 175.57s - Train Loss: 0.1281, Train Accuracy: 0.9648 - Validation Loss: 0.2096, Validation Accuracy: 0.9438\n"
     ]
    },
    {
     "name": "stderr",
     "output_type": "stream",
     "text": [
      " 20%|██        | 10/50 [27:42<1:53:45, 170.63s/it]"
     ]
    },
    {
     "name": "stdout",
     "output_type": "stream",
     "text": [
      "Epoch: 10/50 - Time: 175.30s - Train Loss: 0.1196, Train Accuracy: 0.9663 - Validation Loss: 0.2079, Validation Accuracy: 0.9406\n"
     ]
    },
    {
     "name": "stderr",
     "output_type": "stream",
     "text": [
      " 22%|██▏       | 11/50 [30:38<1:51:58, 172.27s/it]"
     ]
    },
    {
     "name": "stdout",
     "output_type": "stream",
     "text": [
      "Epoch: 11/50 - Time: 175.98s - Train Loss: 0.1086, Train Accuracy: 0.9701 - Validation Loss: 0.2077, Validation Accuracy: 0.9383\n"
     ]
    },
    {
     "name": "stderr",
     "output_type": "stream",
     "text": [
      " 24%|██▍       | 12/50 [34:06<1:56:03, 183.24s/it]"
     ]
    },
    {
     "name": "stdout",
     "output_type": "stream",
     "text": [
      "Epoch: 12/50 - Time: 208.32s - Train Loss: 0.0903, Train Accuracy: 0.9760 - Validation Loss: 0.2133, Validation Accuracy: 0.9370\n"
     ]
    },
    {
     "name": "stderr",
     "output_type": "stream",
     "text": [
      " 26%|██▌       | 13/50 [37:54<2:01:13, 196.57s/it]"
     ]
    },
    {
     "name": "stdout",
     "output_type": "stream",
     "text": [
      "Epoch: 13/50 - Time: 227.25s - Train Loss: 0.0978, Train Accuracy: 0.9714 - Validation Loss: 0.2189, Validation Accuracy: 0.9420\n"
     ]
    },
    {
     "name": "stderr",
     "output_type": "stream",
     "text": [
      " 26%|██▌       | 13/50 [41:17<1:57:32, 190.61s/it]"
     ]
    },
    {
     "name": "stdout",
     "output_type": "stream",
     "text": [
      "Epoch: 14/50 - Time: 203.79s - Train Loss: 0.0897, Train Accuracy: 0.9745 - Validation Loss: 0.2122, Validation Accuracy: 0.9447\n",
      "Early stopping triggered at epoch 8. Best Validation Loss: 0.1906\n"
     ]
    },
    {
     "name": "stderr",
     "output_type": "stream",
     "text": [
      "\n"
     ]
    },
    {
     "data": {
      "application/vnd.jupyter.widget-view+json": {
       "model_id": "6bcde7903b3d4673ac2d201006980b46",
       "version_major": 2,
       "version_minor": 0
      },
      "text/plain": [
       "VBox(children=(Label(value='0.011 MB of 0.011 MB uploaded\\r'), FloatProgress(value=1.0, max=1.0)))"
      ]
     },
     "metadata": {},
     "output_type": "display_data"
    },
    {
     "data": {
      "text/html": [
       "\n",
       "    <style>\n",
       "        .wandb-row {\n",
       "            display: flex;\n",
       "            flex-direction: row;\n",
       "            flex-wrap: wrap;\n",
       "            justify-content: flex-start;\n",
       "            width: 100%;\n",
       "        }\n",
       "        .wandb-col {\n",
       "            display: flex;\n",
       "            flex-direction: column;\n",
       "            flex-basis: 100%;\n",
       "            flex: 1;\n",
       "            padding: 10px;\n",
       "        }\n",
       "    </style>\n",
       "<div class=\"wandb-row\"><div class=\"wandb-col\"><h3>Run history:</h3><br/><table class=\"wandb\"><tr><td>elapsed_time</td><td>▁▁▁▂▁▁▂▂▃▃▃▆█▆</td></tr><tr><td>epoch</td><td>▁▂▂▃▃▄▄▅▅▆▆▇▇█</td></tr><tr><td>train_acc</td><td>▁▆▇▇▇▇████████</td></tr><tr><td>train_loss</td><td>█▃▂▂▂▁▁▁▁▁▁▁▁▁</td></tr><tr><td>val_acc</td><td>▁▆▇▆▇▇██▇▇▆▆▇▇</td></tr><tr><td>val_loss</td><td>█▃▂▂▁▁▁▁▁▁▁▁▂▁</td></tr></table><br/></div><div class=\"wandb-col\"><h3>Run summary:</h3><br/><table class=\"wandb\"><tr><td>elapsed_time</td><td>203.79434</td></tr><tr><td>epoch</td><td>14</td></tr><tr><td>train_acc</td><td>0.97448</td></tr><tr><td>train_loss</td><td>0.08968</td></tr><tr><td>val_acc</td><td>0.94472</td></tr><tr><td>val_loss</td><td>0.21218</td></tr></table><br/></div></div>"
      ],
      "text/plain": [
       "<IPython.core.display.HTML object>"
      ]
     },
     "metadata": {},
     "output_type": "display_data"
    },
    {
     "data": {
      "text/html": [
       " View run <strong style=\"color:#cdcd00\">efficientnet_b5.sw_in12k__lots_aug_bn_drp_wd-experiment</strong> at: <a href='https://wandb.ai/benjaminrromo-universidad-adolfo-ib-ez/Tarea03_Deep_Learning/runs/4kx5z7br' target=\"_blank\">https://wandb.ai/benjaminrromo-universidad-adolfo-ib-ez/Tarea03_Deep_Learning/runs/4kx5z7br</a><br/> View project at: <a href='https://wandb.ai/benjaminrromo-universidad-adolfo-ib-ez/Tarea03_Deep_Learning' target=\"_blank\">https://wandb.ai/benjaminrromo-universidad-adolfo-ib-ez/Tarea03_Deep_Learning</a><br/>Synced 5 W&B file(s), 0 media file(s), 0 artifact file(s) and 0 other file(s)"
      ],
      "text/plain": [
       "<IPython.core.display.HTML object>"
      ]
     },
     "metadata": {},
     "output_type": "display_data"
    },
    {
     "data": {
      "text/html": [
       "Find logs at: <code>./wandb/run-20241129_132524-4kx5z7br/logs</code>"
      ],
      "text/plain": [
       "<IPython.core.display.HTML object>"
      ]
     },
     "metadata": {},
     "output_type": "display_data"
    },
    {
     "name": "stdout",
     "output_type": "stream",
     "text": [
      "\n",
      "=== Evaluación en el conjunto de prueba ===\n",
      "Test Accuracy: 0.95064\n",
      "Results to save: {'architecture': 'efficientnet_b5.sw_in12k__lots_aug_bn_drp_wd', 'model_type': 'efficientnet_b5.sw_in12k', 'best_epoch': 8, 'best_val_loss': 0.190603235979443, 'best_train_loss': 0.13104292344764845, 'max_val_acc': 0.9479214549064636, 'test_accuracy': 0.9506398439407349, 'training_params': {'learning_rate': 0.0003, 'batch_size': 32, 'num_epochs': 50}}\n",
      "Resultados guardados correctamente en results/efficient_net.json\n",
      "Experimento terminado para efficientnet_b5.sw_in12k__lots_aug_bn_drp_wd\n"
     ]
    }
   ],
   "source": [
    "run_experiment(\n",
    "    selected_transforms = [\"center_crop\", \"color_jitter\", \"horizontal_flip\", \"brightness_contrast\", \"noise\", \"blur\"],\n",
    "    model_name = \"efficientnet_b5.sw_in12k\",\n",
    "    base_name = \"\",\n",
    "    extra_info = \"lots_aug_bn_drp_wd\", \n",
    "    model_type = \"efficientnet_b5.sw_in12k\",\n",
    "    num_classes = 47,\n",
    "    training_params = {\"learning_rate\": 0.0003, \"batch_size\": 32, \"num_epochs\": 50},\n",
    "    frozen = True,\n",
    "    result_file = \"results/efficient_net.json\",\n",
    "    normalize = False,\n",
    "    use_float = True,\n",
    "    resize_size = 437  # Aquí defines dinámicamente el tamaño de `resize`\n",
    ")"
   ]
  },
  {
   "cell_type": "code",
   "execution_count": null,
   "metadata": {},
   "outputs": [],
   "source": [
    "run_experiment(\n",
    "    selected_transforms = [\"center_crop\", \"color_jitter\", \"horizontal_flip\", \"brightness_contrast\", \"noise\", \"blur\"],\n",
    "    model_name = \"efficientnet_b5.sw_in12k\",\n",
    "    base_name = \"\",\n",
    "    extra_info = \"lots_aug_bn_drp_wd\", \n",
    "    model_type = \"efficientnet_b5.sw_in12k\",\n",
    "    num_classes = 47,\n",
    "    training_params = {\"learning_rate\": 0.0003, \"batch_size\": 32, \"num_epochs\": 50},\n",
    "    frozen = True,\n",
    "    result_file = \"results/efficient_net.json\",\n",
    "    normalize = False,\n",
    "    use_float = True,\n",
    "    resize_size = 437  # Aquí defines dinámicamente el tamaño de `resize`\n",
    ")"
   ]
  },
  {
   "cell_type": "code",
   "execution_count": null,
   "metadata": {},
   "outputs": [
    {
     "name": "stdout",
     "output_type": "stream",
     "text": [
      "Running experiment: efficientnet_b5.sw_in12k__lots_aug_bn_drp_VAL\n",
      "Using device: cuda\n"
     ]
    },
    {
     "name": "stderr",
     "output_type": "stream",
     "text": [
      "\u001b[34m\u001b[1mwandb\u001b[0m: Using wandb-core as the SDK backend.  Please refer to https://wandb.me/wandb-core for more information.\n",
      "\u001b[34m\u001b[1mwandb\u001b[0m: Currently logged in as: \u001b[33mjoseflores1\u001b[0m (\u001b[33mbenjaminrromo-universidad-adolfo-ib-ez\u001b[0m). Use \u001b[1m`wandb login --relogin`\u001b[0m to force relogin\n"
     ]
    },
    {
     "data": {
      "text/html": [
       "Tracking run with wandb version 0.18.7"
      ],
      "text/plain": [
       "<IPython.core.display.HTML object>"
      ]
     },
     "metadata": {},
     "output_type": "display_data"
    },
    {
     "data": {
      "text/html": [
       "Run data is saved locally in <code>/home/josei/workspace/RN/Tarea03_Deep_Learning/wandb/run-20241129_142932-x9jni51d</code>"
      ],
      "text/plain": [
       "<IPython.core.display.HTML object>"
      ]
     },
     "metadata": {},
     "output_type": "display_data"
    },
    {
     "data": {
      "text/html": [
       "Syncing run <strong><a href='https://wandb.ai/benjaminrromo-universidad-adolfo-ib-ez/Tarea03_Deep_Learning/runs/x9jni51d' target=\"_blank\">efficientnet_b5.sw_in12k__lots_aug_bn_drp_VAL-experiment</a></strong> to <a href='https://wandb.ai/benjaminrromo-universidad-adolfo-ib-ez/Tarea03_Deep_Learning' target=\"_blank\">Weights & Biases</a> (<a href='https://wandb.me/developer-guide' target=\"_blank\">docs</a>)<br/>"
      ],
      "text/plain": [
       "<IPython.core.display.HTML object>"
      ]
     },
     "metadata": {},
     "output_type": "display_data"
    },
    {
     "data": {
      "text/html": [
       " View project at <a href='https://wandb.ai/benjaminrromo-universidad-adolfo-ib-ez/Tarea03_Deep_Learning' target=\"_blank\">https://wandb.ai/benjaminrromo-universidad-adolfo-ib-ez/Tarea03_Deep_Learning</a>"
      ],
      "text/plain": [
       "<IPython.core.display.HTML object>"
      ]
     },
     "metadata": {},
     "output_type": "display_data"
    },
    {
     "data": {
      "text/html": [
       " View run at <a href='https://wandb.ai/benjaminrromo-universidad-adolfo-ib-ez/Tarea03_Deep_Learning/runs/x9jni51d' target=\"_blank\">https://wandb.ai/benjaminrromo-universidad-adolfo-ib-ez/Tarea03_Deep_Learning/runs/x9jni51d</a>"
      ],
      "text/plain": [
       "<IPython.core.display.HTML object>"
      ]
     },
     "metadata": {},
     "output_type": "display_data"
    },
    {
     "name": "stderr",
     "output_type": "stream",
     "text": [
      "  2%|▏         | 1/50 [02:46<2:16:22, 166.98s/it]"
     ]
    },
    {
     "name": "stdout",
     "output_type": "stream",
     "text": [
      "Epoch: 1/50 - Time: 166.80s - Train Loss: 1.5507, Train Accuracy: 0.7269 - Validation Loss: 0.5087, Validation Accuracy: 0.9148\n",
      "Model checkpoint saved at epoch 1\n"
     ]
    },
    {
     "name": "stderr",
     "output_type": "stream",
     "text": [
      "  4%|▍         | 2/50 [05:50<2:21:15, 176.58s/it]"
     ]
    },
    {
     "name": "stdout",
     "output_type": "stream",
     "text": [
      "Epoch: 2/50 - Time: 183.10s - Train Loss: 0.5077, Train Accuracy: 0.9082 - Validation Loss: 0.2891, Validation Accuracy: 0.9324\n",
      "Model checkpoint saved at epoch 2\n",
      "Epoch: 3/50 - Time: 174.16s - Train Loss: 0.3236, Train Accuracy: 0.9285 - Validation Loss: 0.2256, Validation Accuracy: 0.9430\n"
     ]
    },
    {
     "name": "stderr",
     "output_type": "stream",
     "text": [
      "  6%|▌         | 3/50 [08:44<2:17:32, 175.58s/it]"
     ]
    },
    {
     "name": "stdout",
     "output_type": "stream",
     "text": [
      "Model checkpoint saved at epoch 3\n"
     ]
    },
    {
     "name": "stderr",
     "output_type": "stream",
     "text": [
      "  8%|▊         | 4/50 [11:52<2:18:12, 180.28s/it]"
     ]
    },
    {
     "name": "stdout",
     "output_type": "stream",
     "text": [
      "Epoch: 4/50 - Time: 187.31s - Train Loss: 0.2408, Train Accuracy: 0.9455 - Validation Loss: 0.2044, Validation Accuracy: 0.9455\n",
      "Model checkpoint saved at epoch 4\n"
     ]
    },
    {
     "name": "stderr",
     "output_type": "stream",
     "text": [
      " 10%|█         | 5/50 [15:00<2:17:24, 183.21s/it]"
     ]
    },
    {
     "name": "stdout",
     "output_type": "stream",
     "text": [
      "Epoch: 5/50 - Time: 188.22s - Train Loss: 0.1915, Train Accuracy: 0.9532 - Validation Loss: 0.1945, Validation Accuracy: 0.9463\n",
      "Model checkpoint saved at epoch 5\n"
     ]
    },
    {
     "name": "stderr",
     "output_type": "stream",
     "text": [
      " 12%|█▏        | 6/50 [18:15<2:17:19, 187.27s/it]"
     ]
    },
    {
     "name": "stdout",
     "output_type": "stream",
     "text": [
      "Epoch: 6/50 - Time: 195.14s - Train Loss: 0.1750, Train Accuracy: 0.9559 - Validation Loss: 0.2001, Validation Accuracy: 0.9437\n"
     ]
    },
    {
     "name": "stderr",
     "output_type": "stream",
     "text": [
      " 14%|█▍        | 7/50 [21:24<2:14:28, 187.64s/it]"
     ]
    },
    {
     "name": "stdout",
     "output_type": "stream",
     "text": [
      "Epoch: 7/50 - Time: 188.39s - Train Loss: 0.1373, Train Accuracy: 0.9651 - Validation Loss: 0.1958, Validation Accuracy: 0.9448\n"
     ]
    },
    {
     "name": "stderr",
     "output_type": "stream",
     "text": [
      " 16%|█▌        | 8/50 [24:40<2:13:16, 190.38s/it]"
     ]
    },
    {
     "name": "stdout",
     "output_type": "stream",
     "text": [
      "Epoch: 8/50 - Time: 196.25s - Train Loss: 0.1393, Train Accuracy: 0.9615 - Validation Loss: 0.1968, Validation Accuracy: 0.9430\n",
      "Epoch: 9/50 - Time: 172.32s - Train Loss: 0.1231, Train Accuracy: 0.9657 - Validation Loss: 0.1888, Validation Accuracy: 0.9529\n"
     ]
    },
    {
     "name": "stderr",
     "output_type": "stream",
     "text": [
      " 18%|█▊        | 9/50 [27:32<2:06:17, 184.81s/it]"
     ]
    },
    {
     "name": "stdout",
     "output_type": "stream",
     "text": [
      "Model checkpoint saved at epoch 9\n"
     ]
    },
    {
     "name": "stderr",
     "output_type": "stream",
     "text": [
      " 20%|██        | 10/50 [30:41<2:03:53, 185.85s/it]"
     ]
    },
    {
     "name": "stdout",
     "output_type": "stream",
     "text": [
      "Epoch: 10/50 - Time: 188.18s - Train Loss: 0.1091, Train Accuracy: 0.9700 - Validation Loss: 0.1969, Validation Accuracy: 0.9419\n"
     ]
    },
    {
     "name": "stderr",
     "output_type": "stream",
     "text": [
      " 22%|██▏       | 11/50 [33:43<2:00:11, 184.91s/it]"
     ]
    },
    {
     "name": "stdout",
     "output_type": "stream",
     "text": [
      "Epoch: 11/50 - Time: 182.78s - Train Loss: 0.1054, Train Accuracy: 0.9709 - Validation Loss: 0.1980, Validation Accuracy: 0.9448\n"
     ]
    },
    {
     "name": "stderr",
     "output_type": "stream",
     "text": [
      " 24%|██▍       | 12/50 [36:42<1:55:55, 183.04s/it]"
     ]
    },
    {
     "name": "stdout",
     "output_type": "stream",
     "text": [
      "Epoch: 12/50 - Time: 178.76s - Train Loss: 0.0946, Train Accuracy: 0.9718 - Validation Loss: 0.2003, Validation Accuracy: 0.9433\n"
     ]
    },
    {
     "name": "stderr",
     "output_type": "stream",
     "text": [
      " 26%|██▌       | 13/50 [39:45<1:52:54, 183.10s/it]"
     ]
    },
    {
     "name": "stdout",
     "output_type": "stream",
     "text": [
      "Epoch: 13/50 - Time: 183.23s - Train Loss: 0.0916, Train Accuracy: 0.9732 - Validation Loss: 0.1899, Validation Accuracy: 0.9496\n"
     ]
    },
    {
     "name": "stderr",
     "output_type": "stream",
     "text": [
      " 28%|██▊       | 14/50 [42:39<1:48:04, 180.11s/it]"
     ]
    },
    {
     "name": "stdout",
     "output_type": "stream",
     "text": [
      "Epoch: 14/50 - Time: 173.21s - Train Loss: 0.0870, Train Accuracy: 0.9750 - Validation Loss: 0.2037, Validation Accuracy: 0.9477\n"
     ]
    },
    {
     "name": "stderr",
     "output_type": "stream",
     "text": [
      " 28%|██▊       | 14/50 [45:42<1:57:31, 195.89s/it]"
     ]
    },
    {
     "name": "stdout",
     "output_type": "stream",
     "text": [
      "Epoch: 15/50 - Time: 183.30s - Train Loss: 0.0945, Train Accuracy: 0.9717 - Validation Loss: 0.1985, Validation Accuracy: 0.9433\n",
      "Early stopping triggered at epoch 9. Best Validation Loss: 0.1888\n"
     ]
    },
    {
     "name": "stderr",
     "output_type": "stream",
     "text": [
      "\n"
     ]
    },
    {
     "data": {
      "application/vnd.jupyter.widget-view+json": {
       "model_id": "3757ad9ed55d494896bb42b9f20a678c",
       "version_major": 2,
       "version_minor": 0
      },
      "text/plain": [
       "VBox(children=(Label(value='0.011 MB of 0.011 MB uploaded\\r'), FloatProgress(value=1.0, max=1.0)))"
      ]
     },
     "metadata": {},
     "output_type": "display_data"
    },
    {
     "data": {
      "text/html": [
       "\n",
       "    <style>\n",
       "        .wandb-row {\n",
       "            display: flex;\n",
       "            flex-direction: row;\n",
       "            flex-wrap: wrap;\n",
       "            justify-content: flex-start;\n",
       "            width: 100%;\n",
       "        }\n",
       "        .wandb-col {\n",
       "            display: flex;\n",
       "            flex-direction: column;\n",
       "            flex-basis: 100%;\n",
       "            flex: 1;\n",
       "            padding: 10px;\n",
       "        }\n",
       "    </style>\n",
       "<div class=\"wandb-row\"><div class=\"wandb-col\"><h3>Run history:</h3><br/><table class=\"wandb\"><tr><td>elapsed_time</td><td>▁▅▃▆▆█▆█▂▆▅▄▅▃▅</td></tr><tr><td>epoch</td><td>▁▁▂▃▃▃▄▅▅▅▆▇▇▇█</td></tr><tr><td>train_acc</td><td>▁▆▇▇▇▇█████████</td></tr><tr><td>train_loss</td><td>█▃▂▂▁▁▁▁▁▁▁▁▁▁▁</td></tr><tr><td>val_acc</td><td>▁▄▆▇▇▆▇▆█▆▇▆▇▇▆</td></tr><tr><td>val_loss</td><td>█▃▂▁▁▁▁▁▁▁▁▁▁▁▁</td></tr></table><br/></div><div class=\"wandb-col\"><h3>Run summary:</h3><br/><table class=\"wandb\"><tr><td>elapsed_time</td><td>183.30485</td></tr><tr><td>epoch</td><td>15</td></tr><tr><td>train_acc</td><td>0.97171</td></tr><tr><td>train_loss</td><td>0.09452</td></tr><tr><td>val_acc</td><td>0.94335</td></tr><tr><td>val_loss</td><td>0.19854</td></tr></table><br/></div></div>"
      ],
      "text/plain": [
       "<IPython.core.display.HTML object>"
      ]
     },
     "metadata": {},
     "output_type": "display_data"
    },
    {
     "data": {
      "text/html": [
       " View run <strong style=\"color:#cdcd00\">efficientnet_b5.sw_in12k__lots_aug_bn_drp_VAL-experiment</strong> at: <a href='https://wandb.ai/benjaminrromo-universidad-adolfo-ib-ez/Tarea03_Deep_Learning/runs/x9jni51d' target=\"_blank\">https://wandb.ai/benjaminrromo-universidad-adolfo-ib-ez/Tarea03_Deep_Learning/runs/x9jni51d</a><br/> View project at: <a href='https://wandb.ai/benjaminrromo-universidad-adolfo-ib-ez/Tarea03_Deep_Learning' target=\"_blank\">https://wandb.ai/benjaminrromo-universidad-adolfo-ib-ez/Tarea03_Deep_Learning</a><br/>Synced 5 W&B file(s), 0 media file(s), 2 artifact file(s) and 0 other file(s)"
      ],
      "text/plain": [
       "<IPython.core.display.HTML object>"
      ]
     },
     "metadata": {},
     "output_type": "display_data"
    },
    {
     "data": {
      "text/html": [
       "Find logs at: <code>./wandb/run-20241129_142932-x9jni51d/logs</code>"
      ],
      "text/plain": [
       "<IPython.core.display.HTML object>"
      ]
     },
     "metadata": {},
     "output_type": "display_data"
    },
    {
     "name": "stdout",
     "output_type": "stream",
     "text": [
      "Results to save: {'architecture': 'efficientnet_b5.sw_in12k__lots_aug_bn_drp_VAL', 'model_type': 'efficientnet_b5.sw_in12k', 'best_epoch': 9, 'best_val_loss': 0.18883399100064538, 'best_train_loss': 0.12309349038687771, 'max_val_acc': 0.952850878238678, 'test_accuracy': 0.0, 'training_params': {'learning_rate': 0.0003, 'batch_size': 32, 'num_epochs': 50}}\n",
      "Resultados guardados correctamente en results/efficient_net.json\n",
      "Experimento terminado para efficientnet_b5.sw_in12k__lots_aug_bn_drp_VAL\n"
     ]
    }
   ],
   "source": [
    "run_experiment(\n",
    "    selected_transforms = [\"center_crop\", \"color_jitter\", \"horizontal_flip\", \"brightness_contrast\", \"noise\", \"blur\"],\n",
    "    model_name = \"efficientnet_b5.sw_in12k\",\n",
    "    base_name = \"\",\n",
    "    extra_info = \"lots_aug_bn_drp_VAL\", \n",
    "    model_type = \"efficientnet_b5.sw_in12k\",\n",
    "    num_classes = 47,\n",
    "    training_params = {\"learning_rate\": 0.0003, \"batch_size\": 32, \"num_epochs\": 50},\n",
    "    frozen = True,\n",
    "    result_file = \"results/efficient_net.json\",\n",
    "    normalize = False,\n",
    "    use_float = True,\n",
    "    resize_size = 437  # Aquí defines dinámicamente el tamaño de `resize`\n",
    ")"
   ]
  },
  {
   "cell_type": "code",
   "execution_count": 3,
   "metadata": {},
   "outputs": [
    {
     "name": "stdout",
     "output_type": "stream",
     "text": [
      "El mejor modelo según max_val_acc es {'architecture': 'efficientnet_b5.sw_in12k__lots_aug_bn_drp_VAL', 'model_type': 'efficientnet_b5.sw_in12k', 'best_epoch': 9, 'best_val_loss': 0.18883399100064538, 'best_train_loss': 0.12309349038687771, 'max_val_acc': 0.952850878238678, 'test_accuracy': 0.0, 'training_params': {'learning_rate': 0.0003, 'batch_size': 32, 'num_epochs': 50}}\n",
      "El mejor modelo según best_val_loss es {'architecture': 'efficientnet_b5.sw_in12k__lots_aug_bn_drp_VAL', 'model_type': 'efficientnet_b5.sw_in12k', 'best_epoch': 9, 'best_val_loss': 0.18883399100064538, 'best_train_loss': 0.12309349038687771, 'max_val_acc': 0.952850878238678, 'test_accuracy': 0.0, 'training_params': {'learning_rate': 0.0003, 'batch_size': 32, 'num_epochs': 50}}\n"
     ]
    }
   ],
   "source": [
    "file_path = \"results/efficient_net.json\"\n",
    "criteria = [\"max_val_acc\", \"best_val_loss\"]\n",
    "\n",
    "for crit in criteria:\n",
    "    print(f\"El mejor modelo según {crit} es {find_best_model(file_path, crit)}\")"
   ]
  }
 ],
 "metadata": {
  "kernelspec": {
   "display_name": "RNENV",
   "language": "python",
   "name": "rnenv"
  },
  "language_info": {
   "codemirror_mode": {
    "name": "ipython",
    "version": 3
   },
   "file_extension": ".py",
   "mimetype": "text/x-python",
   "name": "python",
   "nbconvert_exporter": "python",
   "pygments_lexer": "ipython3",
   "version": "3.12.7"
  }
 },
 "nbformat": 4,
 "nbformat_minor": 2
}
